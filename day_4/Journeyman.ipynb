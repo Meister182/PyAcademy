{
 "cells": [
  {
   "cell_type": "markdown",
   "metadata": {},
   "source": [
    "# Journeyman: Intermidiate Python Concepts"
   ]
  },
  {
   "cell_type": "markdown",
   "metadata": {},
   "source": [
    "## Objects anatomy"
   ]
  },
  {
   "cell_type": "markdown",
   "metadata": {},
   "source": [
    "### Dunders"
   ]
  },
  {
   "cell_type": "code",
   "execution_count": null,
   "metadata": {},
   "outputs": [],
   "source": [
    "# TODO"
   ]
  },
  {
   "cell_type": "markdown",
   "metadata": {},
   "source": [
    "### Operator overload"
   ]
  },
  {
   "cell_type": "code",
   "execution_count": null,
   "metadata": {},
   "outputs": [],
   "source": [
    "# TODO"
   ]
  },
  {
   "cell_type": "markdown",
   "metadata": {},
   "source": [
    "### Context managers"
   ]
  },
  {
   "cell_type": "code",
   "execution_count": null,
   "metadata": {},
   "outputs": [],
   "source": [
    "# TODO"
   ]
  },
  {
   "cell_type": "markdown",
   "metadata": {},
   "source": [
    "### SubClasses"
   ]
  },
  {
   "cell_type": "code",
   "execution_count": null,
   "metadata": {},
   "outputs": [],
   "source": [
    "# TODO"
   ]
  },
  {
   "cell_type": "markdown",
   "metadata": {},
   "source": [
    "## Advanced features"
   ]
  },
  {
   "cell_type": "code",
   "execution_count": null,
   "metadata": {},
   "outputs": [],
   "source": [
    "# TODO"
   ]
  },
  {
   "cell_type": "markdown",
   "metadata": {},
   "source": [
    "### Decorators"
   ]
  },
  {
   "cell_type": "code",
   "execution_count": null,
   "metadata": {},
   "outputs": [],
   "source": [
    "# TODO"
   ]
  },
  {
   "cell_type": "markdown",
   "metadata": {},
   "source": [
    "### lambda functions"
   ]
  },
  {
   "cell_type": "code",
   "execution_count": null,
   "metadata": {},
   "outputs": [],
   "source": [
    "# TODO"
   ]
  },
  {
   "cell_type": "markdown",
   "metadata": {},
   "source": [
    "### map, reduce and filter"
   ]
  },
  {
   "cell_type": "code",
   "execution_count": 1,
   "metadata": {},
   "outputs": [],
   "source": [
    "# TODO"
   ]
  },
  {
   "cell_type": "markdown",
   "metadata": {},
   "source": [
    "## Good Practices - Do not be a code monkey\n",
    "\n",
    "There are different style guides and good practices describing lists of _dos and don'ts_ for Python.\n",
    "\n",
    "The most famous ones:\n",
    "\n",
    "* [PEP8](https://peps.python.org/pep-0008/) Official Style Guide for Python Code (Other links: https://pep8.org/, https://pypi.org/project/pycodestyle/)\n",
    "* [Google Style](https://google.github.io/styleguide/pyguide.html) - Google Python Style Guide"
   ]
  },
  {
   "cell_type": "markdown",
   "metadata": {},
   "source": [
    "### [Type hinting](https://docs.python.org/3/library/typing.html)\n",
    "\n",
    "Type hinting is a formal solution to statically indicate the type of a value within your Python code. It was specified in [PEP 484](https://peps.python.org/pep-0484/) and introduced in Python 3.5."
   ]
  },
  {
   "cell_type": "code",
   "execution_count": 12,
   "metadata": {},
   "outputs": [
    {
     "name": "stdout",
     "output_type": "stream",
     "text": [
      "Hello, Bender\n",
      "ALERTA!!!\n",
      "Alerta\n"
     ]
    }
   ],
   "source": [
    "# https://realpython.com/lessons/type-hinting/\n",
    "# https://docs.python.org/3/library/typing.html\n",
    "\n",
    "def greet(name: str) -> str:\n",
    "    return \"Hello, \" + name\n",
    "\n",
    "print(greet('Bender'))\n",
    "\n",
    "\n",
    "def cm_alert(text: str, gravity: bool = True) -> str:\n",
    "   if gravity:\n",
    "       return f\"{text.upper()+'!!!'}\"\n",
    "   else:\n",
    "       return f\"{text.title()}\"\n",
    "\n",
    "print(cm_alert('alerta'))\n",
    "print(cm_alert('alerta', False))\n"
   ]
  },
  {
   "cell_type": "markdown",
   "metadata": {},
   "source": [
    "### [Docstring](https://peps.python.org/pep-0257/) - documenting your code\n",
    "\n",
    "A docstring is a string literal that occurs as the first statement in a module, function, class, or method definition. Such a docstring becomes the ```__doc__``` special attribute of that object.\n",
    "\n",
    "There are several docstrings formats:\n",
    "* [Official](https://peps.python.org/pep-0257/)\n",
    "* [Google](https://github.com/google/styleguide/blob/gh-pages/pyguide.md#38-comments-and-docstrings)\n",
    "* [NumPy/SciPy](https://numpydoc.readthedocs.io/en/latest/format.html)\n",
    "\n",
    "There are tools that parse your code and code docstrings and create automatic documentation:\n",
    "* [mkdocs](https://mkdocstrings.github.io/)\n",
    "* [Sphinx](https://www.sphinx-doc.org/en/master/index.html)"
   ]
  },
  {
   "cell_type": "code",
   "execution_count": 10,
   "metadata": {},
   "outputs": [
    {
     "data": {
      "text/plain": [
       "'Return the absolute path of README.md'"
      ]
     },
     "execution_count": 10,
     "metadata": {},
     "output_type": "execute_result"
    }
   ],
   "source": [
    "import os\n",
    "\n",
    "def readme_file_path():\n",
    "    \"\"\"Return the absolute path of README.md\"\"\"\n",
    "    return os.path.abspath('README.md')\n",
    "\n",
    "readme_file_path.__doc__"
   ]
  },
  {
   "cell_type": "code",
   "execution_count": 17,
   "metadata": {},
   "outputs": [
    {
     "data": {
      "text/plain": [
       "'Form a complex number.\\n\\n    Keyword arguments:\\n    real -- the real part (default 0.0)\\n    imag -- the imaginary part (default 0.0)\\n    '"
      ]
     },
     "execution_count": 17,
     "metadata": {},
     "output_type": "execute_result"
    }
   ],
   "source": [
    "def complex(real: int = 0.0, imag: float = 0.0) -> float:\n",
    "    \"\"\"Form a complex number.\n",
    "\n",
    "    Keyword arguments:\n",
    "    real -- the real part (default 0.0)\n",
    "    imag -- the imaginary part (default 0.0)\n",
    "    \"\"\"\n",
    "    if imag == 0.0 and real == 0.0:\n",
    "        return 0\n",
    "\n",
    "complex.__doc__"
   ]
  },
  {
   "cell_type": "code",
   "execution_count": 14,
   "metadata": {},
   "outputs": [
    {
     "data": {
      "text/plain": [
       "'\\n\\n    :param name:\\n    :param surname:\\n    :return:\\n    '"
      ]
     },
     "execution_count": 14,
     "metadata": {},
     "output_type": "execute_result"
    }
   ],
   "source": [
    "# In Pycharm by default it creates a template for docstring of a function:\n",
    "def name_join(name: str, surname: str) -> str:\n",
    "    \"\"\"\n",
    "\n",
    "    :param name:\n",
    "    :param surname:\n",
    "    :return:\n",
    "    \"\"\"\n",
    "    return name + surname\n",
    "\n",
    "name_join.__doc__"
   ]
  },
  {
   "cell_type": "markdown",
   "metadata": {},
   "source": [
    "Why this is useful? Because it allows to create beautiful documentation based only on your function docstring.\n",
    "An example: https://requests.readthedocs.io/en/latest/_modules/requests/api/#get"
   ]
  },
  {
   "cell_type": "code",
   "execution_count": null,
   "metadata": {},
   "outputs": [],
   "source": [
    "def get(url, params=None, **kwargs):\n",
    "    r\"\"\"Sends a GET request.\n",
    "\n",
    "    :param url: URL for the new :class:`Request` object.\n",
    "    :param params: (optional) Dictionary, list of tuples or bytes to send\n",
    "        in the query string for the :class:`Request`.\n",
    "    :param \\*\\*kwargs: Optional arguments that ``request`` takes.\n",
    "    :return: :class:`Response <Response>` object\n",
    "    :rtype: requests.Response\n",
    "    \"\"\"\n",
    "\n",
    "    return request(\"get\", url, params=params, **kwargs)"
   ]
  },
  {
   "cell_type": "markdown",
   "metadata": {},
   "source": [
    "# [Pytest](https://docs.pytest.org/en/7.1.x/) helps you write better programs\n",
    "\n",
    "The pytest framework makes it easy to write small, readable tests, and can scale to support complex functional testing for applications and libraries.\n",
    "\n",
    "Pytest is available on [pip](https://pypi.org/project/pytest/) and to install it you just need to run:\n",
    "\n",
    "`> pip install pytest`\n",
    "\n",
    "### Why testing\n",
    "\n",
    "* Keeps the code safe from bugs (not 100% true)\n",
    "* Avoids problems in production (not 100% true)\n",
    "* We can evaluate the code quality before pushing\n",
    "* If you want to refactor or add a feature in the future you have a greater degree of reliability that the code added doesn’t break something\n",
    "* When working on someone’s else code you feel safer when introducing changes\n",
    "\n",
    "### Running pytest\n",
    "\n",
    "* Pytest expects our tests to be located in files whose names begin with `test_` or end with `_test.py`\n",
    "* Usually all tests are located inside a folder named `tests`.\n",
    "\n",
    "First test: [test_capitalize.py](scripts/test_capitalize.py)"
   ]
  },
  {
   "cell_type": "code",
   "execution_count": 4,
   "metadata": {},
   "outputs": [],
   "source": [
    "import pytest\n",
    "\n",
    "def capital_case(x):\n",
    "    return x.capitalize()\n",
    "\n",
    "def test_capital_case():\n",
    "    assert capital_case('semaphore') == 'Semaphore'"
   ]
  },
  {
   "cell_type": "markdown",
   "metadata": {},
   "source": [
    "Pytest Extensions:\n",
    "* pytest-cov - Test coverage reports\n",
    "* pytest-xdist - Distributed testing\n",
    "* flaky, pytest-replay - Runs flaky tests\n",
    "* pytest-sugar - Prettify pytest runtime log\n",
    "* pytest-honors, pytest-regressions - Regression testing"
   ]
  },
  {
   "cell_type": "markdown",
   "metadata": {},
   "source": [
    "Normal test flow:\n",
    "1. Build project\n",
    "2. Linting\n",
    "3. Unit tests\n",
    "4. Integration tests\n",
    "5. Security tests\n",
    "6. ???\n",
    "7. Profit!"
   ]
  },
  {
   "cell_type": "markdown",
   "metadata": {},
   "source": [
    "Final remarks:\n",
    "\n",
    "* Create tests as you are done developing classes, methods or functions. Don’t wait for the end to create the tests, it will be harder!\n",
    "* Creating tests are part of the development, tickets will take more time to complete\n",
    "* You don’t have to have 100% test coverage but 10% is also not that good.\n",
    "* Consider having a colleague do the tests while you work on the development (work in a pair-programming environment)"
   ]
  },
  {
   "cell_type": "markdown",
   "metadata": {},
   "source": [
    "### Linters\n",
    "\n",
    "[Pylint](https://pypi.org/project/pylint/) analyses your code without actually running it. It checks for errors, enforces a coding standard, looks for code smells, and can make suggestions about how the code could be refactored.\n",
    "\n",
    "To install it just install it with pip:\n",
    "\n",
    "`> pip install pylint`\n",
    "\n",
    "To run pylint just do:\n",
    "\n",
    "`> pylint [options] modules_or_packages`"
   ]
  }
 ],
 "metadata": {
  "kernelspec": {
   "display_name": "Python 3.8.10 64-bit",
   "language": "python",
   "name": "python3"
  },
  "language_info": {
   "codemirror_mode": {
    "name": "ipython",
    "version": 3
   },
   "file_extension": ".py",
   "mimetype": "text/x-python",
   "name": "python",
   "nbconvert_exporter": "python",
   "pygments_lexer": "ipython3",
   "version": "3.8.10"
  },
  "orig_nbformat": 4,
  "vscode": {
   "interpreter": {
    "hash": "31f2aee4e71d21fbe5cf8b01ff0e069b9275f58929596ceb00d14d90e3e16cd6"
   }
  }
 },
 "nbformat": 4,
 "nbformat_minor": 2
}
