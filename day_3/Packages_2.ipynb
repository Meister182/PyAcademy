{
 "cells": [
  {
   "cell_type": "markdown",
   "metadata": {},
   "source": [
    "# More Packages"
   ]
  },
  {
   "cell_type": "markdown",
   "metadata": {},
   "source": [
    "## [Re](): Regular expression operations\n",
    "\n",
    "This module provides [regular expression](https://en.wikipedia.org/wiki/Regular_expression) matching operations similar to those found in Perl.\n",
    "A regular expression is a sequence of characters that specifies a search pattern in text.\n",
    "\n",
    "To get a glimpse of how regex works you can also consult the Python3 regex page: https://docs.python.org/3/library/re.html\n",
    "\n",
    "The result of the search or match operations will return a [Match object](https://docs.python.org/3/library/re.html#match-objects).\n",
    "\n",
    "To test your regular expressions there are several sites but we recommend using [regex101](https://regex101.com/)\n",
    "\n",
    "**Exercices:** https://holypython.com/advanced-python-exercises/project-regular-expressions-regex/"
   ]
  },
  {
   "cell_type": "code",
   "execution_count": 19,
   "metadata": {},
   "outputs": [
    {
     "name": "stdout",
     "output_type": "stream",
     "text": [
      "egg\n",
      "<re.Match object; span=(3, 20), match='22_A_21w11.1-2-37'>\n",
      "<re.Match object; span=(0, 16), match='A_B_21w11.1-2-37'>\n",
      "None\n"
     ]
    },
    {
     "data": {
      "text/plain": [
       "['Words', 'words', 'words', '']"
      ]
     },
     "execution_count": 19,
     "metadata": {},
     "output_type": "execute_result"
    }
   ],
   "source": [
    "import re\n",
    "\n",
    "# This example looks for a word following a hyphen\n",
    "m = re.search(r'(?<=-)\\w+', 'spam-egg')\n",
    "print(m.group(0))\n",
    "\n",
    "# Input git tag string pattern\n",
    "TAG_STRING_PATTERN = r\"([A-Z0-9-]+_)?([A-Z0-9_-]+_)?[0-9]{2}w[0-9]{2}.[0-9]-[0-9]{1,2}(?:-[0-9]{1,3})?\"\n",
    "\n",
    "# Search\n",
    "search = re.search(TAG_STRING_PATTERN, 'mgu22_A_21w11.1-2-37')\n",
    "print(search)\n",
    "\n",
    "# Match\n",
    "match = re.fullmatch(TAG_STRING_PATTERN, 'A_B_21w11.1-2-37')\n",
    "print(match)\n",
    "\n",
    "# Doesn't match\n",
    "match = re.fullmatch(TAG_STRING_PATTERN, 'mgu22_A_21w11.1-2-37')\n",
    "print(match)\n",
    "\n",
    "# We can also split a string by a regex\n",
    "re.split(r'\\W+', 'Words, words, words.')\n"
   ]
  },
  {
   "cell_type": "markdown",
   "metadata": {},
   "source": [
    "## [Requests](): "
   ]
  },
  {
   "cell_type": "code",
   "execution_count": null,
   "metadata": {},
   "outputs": [],
   "source": [
    "import requests"
   ]
  },
  {
   "cell_type": "markdown",
   "metadata": {},
   "source": [
    "## [Subprocess](): "
   ]
  },
  {
   "cell_type": "code",
   "execution_count": null,
   "metadata": {},
   "outputs": [],
   "source": [
    "# TODO"
   ]
  },
  {
   "cell_type": "markdown",
   "metadata": {},
   "source": [
    "## [Threading]() VS [Processing](): "
   ]
  },
  {
   "cell_type": "code",
   "execution_count": null,
   "metadata": {},
   "outputs": [],
   "source": [
    "# TODO"
   ]
  },
  {
   "cell_type": "markdown",
   "metadata": {},
   "source": [
    "## [Retry](): "
   ]
  },
  {
   "cell_type": "code",
   "execution_count": null,
   "metadata": {},
   "outputs": [],
   "source": [
    "# TODO"
   ]
  },
  {
   "cell_type": "markdown",
   "metadata": {},
   "source": [
    "# Custom Packages:"
   ]
  },
  {
   "cell_type": "code",
   "execution_count": null,
   "metadata": {},
   "outputs": [],
   "source": [
    "# TODO"
   ]
  },
  {
   "cell_type": "markdown",
   "metadata": {},
   "source": [
    "## Creating a custom module:"
   ]
  },
  {
   "cell_type": "code",
   "execution_count": null,
   "metadata": {},
   "outputs": [],
   "source": [
    "# TODO"
   ]
  },
  {
   "cell_type": "markdown",
   "metadata": {},
   "source": [
    "## Creating a custom package"
   ]
  },
  {
   "cell_type": "code",
   "execution_count": null,
   "metadata": {},
   "outputs": [],
   "source": [
    "# TODO"
   ]
  }
 ],
 "metadata": {
  "kernelspec": {
   "display_name": "Python 3.8.10 64-bit",
   "language": "python",
   "name": "python3"
  },
  "language_info": {
   "codemirror_mode": {
    "name": "ipython",
    "version": 3
   },
   "file_extension": ".py",
   "mimetype": "text/x-python",
   "name": "python",
   "nbconvert_exporter": "python",
   "pygments_lexer": "ipython3",
   "version": "3.8.10"
  },
  "orig_nbformat": 4,
  "vscode": {
   "interpreter": {
    "hash": "31f2aee4e71d21fbe5cf8b01ff0e069b9275f58929596ceb00d14d90e3e16cd6"
   }
  }
 },
 "nbformat": 4,
 "nbformat_minor": 2
}
