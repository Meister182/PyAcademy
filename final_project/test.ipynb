{
 "cells": [
  {
   "cell_type": "code",
   "execution_count": 5,
   "metadata": {},
   "outputs": [
    {
     "data": {
      "text/plain": [
       "8"
      ]
     },
     "execution_count": 5,
     "metadata": {},
     "output_type": "execute_result"
    }
   ],
   "source": [
    "'''run in virtual environment:'''  \n",
    "#ver mais tarde\n",
    "\n",
    "# python3 -m venv /path/to/directory\n"
   ]
  },
  {
   "cell_type": "code",
   "execution_count": 48,
   "metadata": {},
   "outputs": [],
   "source": [
    "'''\n",
    "open file with writing permissions and write to file\n",
    "'''\n",
    "'''\n",
    "import os package to interact with the operating system\n",
    "'''\n",
    "import os\n",
    "\n",
    "'''\n",
    "Save path to file in fileDir variable\n",
    "'''\n",
    "fileDir = os.path.dirname(os.path.realpath('__file__'))\n",
    "fileDir = fileDir + '/files/'\n",
    "\n",
    "\n",
    "filename = \"pythonTest\"\n",
    "filename = os.path.join(fileDir,filename)\n",
    "\n",
    "\n",
    "def fileHandler(filename):\n",
    "    f = open(filename + '.txt','a')\n",
    "    f.write('batatas mudar pelas variaveis \\n')\n",
    "\n",
    "fileHandler(filename)"
   ]
  },
  {
   "cell_type": "code",
   "execution_count": 60,
   "metadata": {},
   "outputs": [
    {
     "name": "stdout",
     "output_type": "stream",
     "text": [
      "Invalid Email\n",
      "Invalid Email\n",
      "Valid Email\n",
      "Invalid Email\n"
     ]
    }
   ],
   "source": [
    "'''\n",
    "importar a library re para suportar regex\n",
    "'''\n",
    "import re\n",
    "'''\n",
    "expressão regex para validar um Email\n",
    "'''\n",
    "regex = r'\\b[A-Za-z0-9._%+-]+@[A-Za-z0-9.-]+\\.[A-Z|a-z]{2,}\\b'\n",
    "email = 'batatas'\n",
    "'''Função para validar o email'''\n",
    "def check(email):\n",
    "    '''Guarda o tamanho da variável email dentro de outra variável'''\n",
    "    x = len(email)\n",
    "    '''\n",
    "    Passar a expressão regex e o email para o metodo fullmatch()\n",
    "    Verificar se o string tem o tamanho mínimo\n",
    "    '''\n",
    "    if(re.fullmatch(regex, email)):\n",
    "        print(\"Valid Email\")\n",
    " \t\n",
    "    else:\n",
    "        print(\"Invalid Email\")\n",
    "\n",
    "check(email)\n",
    "\n",
    "email = 'batatas2gmail.com'\n",
    "\n",
    "check(email)\n",
    "\n",
    "email = 'lol@gmail.com'\n",
    "\n",
    "check(email)\n",
    "\n",
    "email = 'lol@lol.com'\n",
    "\n",
    "check (email)"
   ]
  },
  {
   "cell_type": "code",
   "execution_count": 77,
   "metadata": {},
   "outputs": [
    {
     "data": {
      "text/plain": [
       "{'password_ok': False,\n",
       " 'length_error': True,\n",
       " 'digit_error': False,\n",
       " 'uppercase_error': False,\n",
       " 'lowercase_error': False,\n",
       " 'symbol_error': False}"
      ]
     },
     "execution_count": 77,
     "metadata": {},
     "output_type": "execute_result"
    }
   ],
   "source": [
    "def password_check(password):\n",
    "    \"\"\"\n",
    "    Verifica a strength de 'password'\n",
    "    Returns a dict indicating the wrong criteria\n",
    "    A password is considered strong if:\n",
    "        8 characters length or more\n",
    "        1 digit or more\n",
    "        1 symbol or more\n",
    "        1 uppercase letter or more\n",
    "        1 lowercase letter or more\n",
    "    \"\"\"\n",
    "\n",
    "    # calculating the length\n",
    "    length_error = len(password) <= 8 or len(password) >= 20\n",
    "\n",
    "    # searching for digits\n",
    "    digit_error = re.search(r\"\\d\", password) is None\n",
    "\n",
    "    # searching for uppercase\n",
    "    uppercase_error = re.search(r\"[A-Z]\", password) is None\n",
    "\n",
    "    # searching for lowercase\n",
    "    lowercase_error = re.search(r\"[a-z]\", password) is None\n",
    "\n",
    "    # searching for symbols\n",
    "    symbol_error = re.search(r\"\\W\", password) is None\n",
    "\n",
    "    # overall result\n",
    "    password_ok = not ( length_error or digit_error or uppercase_error or lowercase_error or symbol_error )\n",
    "\n",
    "    return {\n",
    "        'password_ok' : password_ok,\n",
    "        'length_error' : length_error,\n",
    "        'digit_error' : digit_error,\n",
    "        'uppercase_error' : uppercase_error,\n",
    "        'lowercase_error' : lowercase_error,\n",
    "        'symbol_error' : symbol_error,\n",
    "    }\n",
    "\n",
    "\n",
    "password = 'Bat2!'\n",
    "password_check(password)\n"
   ]
  }
 ],
 "metadata": {
  "kernelspec": {
   "display_name": "Python 3.10.5 64-bit (windows store)",
   "language": "python",
   "name": "python3"
  },
  "language_info": {
   "codemirror_mode": {
    "name": "ipython",
    "version": 3
   },
   "file_extension": ".py",
   "mimetype": "text/x-python",
   "name": "python",
   "nbconvert_exporter": "python",
   "pygments_lexer": "ipython3",
   "version": "3.10.5"
  },
  "orig_nbformat": 4,
  "vscode": {
   "interpreter": {
    "hash": "de664f95c6ee78528d48930dbc52f1df1bfaaf8fcfe6860827ba71a7464eb325"
   }
  }
 },
 "nbformat": 4,
 "nbformat_minor": 2
}
