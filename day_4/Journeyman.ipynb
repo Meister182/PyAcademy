{
 "cells": [
  {
   "cell_type": "markdown",
   "metadata": {},
   "source": [
    "# Journeyman: Intermidiate Python Concepts"
   ]
  },
  {
   "cell_type": "markdown",
   "metadata": {},
   "source": [
    "## Objects anatomy"
   ]
  },
  {
   "cell_type": "markdown",
   "metadata": {},
   "source": [
    "### Dunders: Double Unders"
   ]
  },
  {
   "cell_type": "markdown",
   "metadata": {},
   "source": [
    "- Dunders are methods or properties which have **two underscores  before and after their actual name**. You can think of them as the default methods and properites you have available by when you create an object.\n",
    "\n",
    "- Since (almost) **everything in Python** is an object (instances from your classes, functions, packages, modules and even files) you can expect all of these to **have special dunders.**\n",
    "\n",
    "\n",
    "- These are special methods/properties used by python. They are **\"reserved\"** to implement certain kinds of logics. Put it in a rude simply manner, **dunders are how Python works**."
   ]
  },
  {
   "cell_type": "markdown",
   "metadata": {},
   "source": [
    "#### `__name__` == `__main__`"
   ]
  },
  {
   "cell_type": "markdown",
   "metadata": {},
   "source": [
    "The `__name__` dunder is a propertie which holds the object name.\n",
    "\n",
    "The most common use case for this dunder is to check if a given script is being imported or called, as the dunder will be initialized differently by the interpreter.\n",
    "\n",
    "Check the scripts available in [./scripts/mains/](./scripts/mains/)."
   ]
  },
  {
   "cell_type": "code",
   "execution_count": 3,
   "metadata": {},
   "outputs": [
    {
     "name": "stdout",
     "output_type": "stream",
     "text": [
      "This script was called!\n"
     ]
    }
   ],
   "source": [
    "# __main__ = \"__main__\"\n",
    "if __main__ == \"__main__\":\n",
    "    print(\"This script was called!\")"
   ]
  },
  {
   "cell_type": "markdown",
   "metadata": {},
   "source": [
    "#### `__init__`: initialization dunder"
   ]
  },
  {
   "cell_type": "markdown",
   "metadata": {},
   "source": [
    "This might be the most known dunder of them all. Aimply because this is how you initialize an object from a custom class.\n",
    "\n",
    "In the background it has synergy with the `__new__` dunder, however we rarely need to be concerned with this one.\n",
    "\n",
    "When a new object is \"created\" the `__new__` dunder is called by the interperter to create it, and then it call the `__init__` to initialize it."
   ]
  },
  {
   "cell_type": "code",
   "execution_count": 8,
   "metadata": {},
   "outputs": [
    {
     "name": "stdout",
     "output_type": "stream",
     "text": [
      "__new__ was called\n",
      "__init__ was called!\n",
      "['__class__', '__delattr__', '__dict__', '__dir__', '__doc__', '__eq__', '__format__', '__ge__', '__getattribute__', '__gt__', '__hash__', '__init__', '__init_subclass__', '__le__', '__lt__', '__module__', '__ne__', '__new__', '__reduce__', '__reduce_ex__', '__repr__', '__setattr__', '__sizeof__', '__str__', '__subclasshook__', '__weakref__', 'propertie']\n"
     ]
    }
   ],
   "source": [
    "class myClass:\n",
    "    def __new__(cls, *args, **kwargs):\n",
    "        print(\"__new__ was called\")\n",
    "        return super(myClass, cls).__new__(cls)\n",
    "\n",
    "    def __init__(self, my_propertie):\n",
    "        print(\"__init__ was called!\")\n",
    "        self.propertie = my_propertie\n",
    "\n",
    "myObject = myClass(\"Some propertie\")\n",
    "print(dir(myObject))"
   ]
  },
  {
   "cell_type": "markdown",
   "metadata": {},
   "source": [
    "#### Operator overload: `__add__`, `__sub__`, `__mul__`, and `__truediv__` "
   ]
  },
  {
   "cell_type": "code",
   "execution_count": 34,
   "metadata": {},
   "outputs": [
    {
     "name": "stdout",
     "output_type": "stream",
     "text": [
      "<__main__.myPoint2D object at 0x7fb0ea513a90> 0 1\n",
      "<__main__.myPoint2D object at 0x7fb0ea5136a0> 1 0\n",
      "<__main__.myPoint2D object at 0x7fb0ea513af0> 1 1\n"
     ]
    }
   ],
   "source": [
    "class myPoint2D:\n",
    "    def __init__(self, x, y):\n",
    "        self.x = x\n",
    "        self.y = y\n",
    "\n",
    "    def __add__(self, otherPoint):\n",
    "        new_x = otherPoint.x + self.x\n",
    "        new_y = otherPoint.y + self.y\n",
    "        return myPoint2D(new_x, new_y)\n",
    "\n",
    "    def __sub__(self, otherPoint):\n",
    "        new_x = otherPoint.x - self.x\n",
    "        new_y = otherPoint.y - self.y\n",
    "        return myPoint2D(new_x, new_y)\n",
    "\n",
    "    def __mul__(self, otherPoint):\n",
    "        new_x = otherPoint.x * self.x\n",
    "        new_y = otherPoint.y * self.y\n",
    "        return myPoint2D(new_x, new_y)\n",
    "\n",
    "    def __truediv__(self, otherPoint):\n",
    "        new_x = otherPoint.x + self.x if self.x != 0 else 0\n",
    "        new_y = otherPoint.y + self.y if self.y != 0 else 0\n",
    "        return myPoint2D(new_x, new_y)\n",
    "\n",
    "point_1 = myPoint2D(0,1)\n",
    "point_2 = myPoint2D(1,0)\n",
    "\n",
    "point_3 = point_1 + point_2\n",
    "# point_3 = point_1 - point_2\n",
    "# point_3 = point_1 * point_2\n",
    "# point_3 = point_1 / point_2\n",
    "\n",
    "print(point_1, point_1.x, point_1.y)\n",
    "print(point_2, point_2.x, point_2.y)\n",
    "print(point_3, point_3.x, point_3.y)\n"
   ]
  },
  {
   "cell_type": "markdown",
   "metadata": {},
   "source": [
    "#### `__str__` VS `__repr__`"
   ]
  },
  {
   "cell_type": "code",
   "execution_count": 35,
   "metadata": {},
   "outputs": [
    {
     "name": "stdout",
     "output_type": "stream",
     "text": [
      "(X:10, Y:15)\n",
      "(X:10, Y:15)\n",
      "--------------------------------------------------\n",
      "newPoint(10, 15)\n",
      "[newPoint(10, 15), newPoint(-1, -30)]\n"
     ]
    }
   ],
   "source": [
    "class newPoint(myPoint2D):\n",
    "    def __str__(self):\n",
    "        string_value = f\"(X:{self.x}, Y:{self.y})\"\n",
    "        return string_value\n",
    "\n",
    "    def __repr__(self):\n",
    "        representation = f\"newPoint({self.x}, {self.y})\"\n",
    "        return representation\n",
    "\n",
    "\n",
    "point_4 = newPoint(10, 15)\n",
    "point_5 = newPoint(-1, -30)\n",
    "\n",
    "# String conversion\n",
    "print(point_4)\n",
    "print(str(point_4))\n",
    "\n",
    "print('-'*50)\n",
    "\n",
    "# Class representation\n",
    "print(repr(point_4))\n",
    "print([point_4, point_5])"
   ]
  },
  {
   "cell_type": "markdown",
   "metadata": {},
   "source": [
    "### Loop over your objects: `__iter__` and `__next__` "
   ]
  },
  {
   "cell_type": "code",
   "execution_count": 36,
   "metadata": {},
   "outputs": [
    {
     "name": "stdout",
     "output_type": "stream",
     "text": [
      "a\n",
      "b\n",
      "c\n"
     ]
    }
   ],
   "source": [
    "class my_basic_iterator:\n",
    "\tdef __init__(self, some_list):\n",
    "\t\tself.list = some_list\n",
    "\n",
    "\tdef __iter__(self):\n",
    "\t\t# initialize iterator\n",
    "\t\tself.index = 0\n",
    "\t\treturn self\n",
    "\n",
    "\tdef __next__(self):\n",
    "\t\tif self.index < len(self.list):\n",
    "\t\t\tvalue = self.list[self.index]\n",
    "\t\t\tself.index += 1\n",
    "\t\t\treturn value\n",
    "\t\telse:\n",
    "\t\t\t# Stop loop -> exception handling example that is not an error\n",
    "\t\t\traise StopIteration\n",
    "\n",
    "my_list = my_basic_iterator(['a','b','c'])\n",
    "\n",
    "for element in my_list:\n",
    "\tprint(element)\n",
    "\n"
   ]
  },
  {
   "cell_type": "markdown",
   "metadata": {},
   "source": [
    "#### `__subclasses__`: Easily find all child classes."
   ]
  },
  {
   "cell_type": "code",
   "execution_count": 77,
   "metadata": {},
   "outputs": [
    {
     "name": "stdout",
     "output_type": "stream",
     "text": [
      "[<class '__main__.Robot'>, <class '__main__.Robot2'>]\n",
      "Robot init!\n",
      "Robot2 init!\n"
     ]
    }
   ],
   "source": [
    "class Bot:\n",
    "    def __init__(self):\n",
    "        print(\"Bot init!\")\n",
    "\n",
    "class Robot(Bot):\n",
    "    def __init__(self):\n",
    "        print(\"Robot init!\")\n",
    "\n",
    "class Robot2(Bot):\n",
    "    def __init__(self):\n",
    "        print(\"Robot2 init!\")\n",
    "\n",
    "\n",
    "print(Bot.__subclasses__())\n",
    "for child in Bot.__subclasses__():\n",
    "    child()\n"
   ]
  },
  {
   "cell_type": "markdown",
   "metadata": {},
   "source": [
    "## Advanced features"
   ]
  },
  {
   "cell_type": "markdown",
   "metadata": {},
   "source": [
    "### Decorators"
   ]
  },
  {
   "cell_type": "markdown",
   "metadata": {},
   "source": [
    "TLDR: a function that receives a function and returns a function. ¯\\\\_(ツ)_/¯\n",
    "\n",
    "`some_function -> myfunction() -> some_function+`"
   ]
  },
  {
   "cell_type": "code",
   "execution_count": 41,
   "metadata": {},
   "outputs": [
    {
     "name": "stdout",
     "output_type": "stream",
     "text": [
      "My print -> some msg\n",
      "--------------------------------------------------\n",
      "before function\n",
      "My print -> some msg\n",
      "after function\n"
     ]
    }
   ],
   "source": [
    "def my_decorator(foo):\n",
    "    def new_foo(*args, **kwargs):\n",
    "        print(\"before function\")\n",
    "        foo(*args, **kwargs)\n",
    "        print(\"after function\")\n",
    "    return new_foo\n",
    "\n",
    "def my_print(msg):\n",
    "    print(\"My print ->\", msg)\n",
    "\n",
    "my_print(\"some msg\")\n",
    "\n",
    "print('-'*50)\n",
    "\n",
    "my_new_print = my_decorator(my_print)\n",
    "my_new_print(\"some msg\")"
   ]
  },
  {
   "cell_type": "code",
   "execution_count": 44,
   "metadata": {},
   "outputs": [
    {
     "name": "stdout",
     "output_type": "stream",
     "text": [
      "before function\n",
      "Other msg -> Some other msg\n",
      "after function\n"
     ]
    }
   ],
   "source": [
    "@my_decorator\n",
    "def other_print(msg):\n",
    "    print(\"Other msg ->\", msg)\n",
    "\n",
    "other_print(\"Some other msg\")"
   ]
  },
  {
   "cell_type": "markdown",
   "metadata": {},
   "source": [
    "### lambda functions: a one shot function"
   ]
  },
  {
   "cell_type": "markdown",
   "metadata": {},
   "source": [
    "lambda are functions that normally are only used once, and do not to be declared because of it.\n",
    "\n",
    "usage: `lambda input: output_logic`"
   ]
  },
  {
   "cell_type": "code",
   "execution_count": 50,
   "metadata": {},
   "outputs": [
    {
     "name": "stdout",
     "output_type": "stream",
     "text": [
      "20\n",
      "True\n",
      "False\n"
     ]
    }
   ],
   "source": [
    "times_2 = lambda x: x*2\n",
    "print(times_2(10))\n",
    "\n",
    "less_than_0 = lambda x: x<0\n",
    "print(less_than_0(-10))\n",
    "print(less_than_0(10))"
   ]
  },
  {
   "cell_type": "code",
   "execution_count": 48,
   "metadata": {},
   "outputs": [
    {
     "name": "stdout",
     "output_type": "stream",
     "text": [
      "20\n",
      "100\n"
     ]
    }
   ],
   "source": [
    "def get_multiplier(multiplier):\n",
    "    return lambda x : x * multiplier\n",
    "\n",
    "times_2 = get_multiplier(2)\n",
    "times_10 = get_multiplier(10)\n",
    "\n",
    "print(times_2(10))\n",
    "print(times_10(10))"
   ]
  },
  {
   "cell_type": "markdown",
   "metadata": {},
   "source": [
    "### map, reduce and filter: more list operations"
   ]
  },
  {
   "cell_type": "markdown",
   "metadata": {},
   "source": [
    "#### map: given a function it maps(transforms) a list into another list."
   ]
  },
  {
   "cell_type": "code",
   "execution_count": 64,
   "metadata": {},
   "outputs": [
    {
     "name": "stdout",
     "output_type": "stream",
     "text": [
      "[0, 1, 2, 3, 4, 5, 6, 7, 8, 9]\n",
      "[0, 1, 4, 9, 16, 25, 36, 49, 64, 81]\n",
      "[0, 1, 4, 9, 16, 25, 36, 49, 64, 81]\n",
      "[0, 1, 4, 9, 16, 25, 36, 49, 64, 81]\n"
     ]
    }
   ],
   "source": [
    "def my_sqrt(x):\n",
    "    return x*x\n",
    "my_list = list(range(10))\n",
    "print(my_list)\n",
    "\n",
    "print([my_sqrt(x) for x in my_list])\n",
    "\n",
    "print(list(map(my_sqrt, my_list)))\n",
    "\n",
    "print(list(map(lambda x: x*x, my_list)))"
   ]
  },
  {
   "cell_type": "markdown",
   "metadata": {},
   "source": [
    "#### filter: given a function which returns a boolean, filters it into a smaller list"
   ]
  },
  {
   "cell_type": "code",
   "execution_count": 69,
   "metadata": {},
   "outputs": [
    {
     "name": "stdout",
     "output_type": "stream",
     "text": [
      "[-5, -4, -3, -2, -1, 0, 1, 2, 3, 4]\n",
      "[-5, -4, -3, -2, -1]\n",
      "[-5, -4, -3, -2, -1]\n",
      "[-5, -4, -3, -2, -1]\n"
     ]
    }
   ],
   "source": [
    "def less_than_0(number):\n",
    "    return number < 0\n",
    "\n",
    "my_list = list(range(-5,5))\n",
    "print(my_list)\n",
    "\n",
    "print([x for x in my_list if less_than_0(x)])\n",
    "\n",
    "print(list(filter(less_than_0, my_list)))\n",
    "\n",
    "print(list(filter(lambda x: x<0, my_list)))"
   ]
  },
  {
   "cell_type": "markdown",
   "metadata": {},
   "source": [
    "#### reduce: consumes a list and reduces it to a value"
   ]
  },
  {
   "cell_type": "code",
   "execution_count": 72,
   "metadata": {},
   "outputs": [
    {
     "name": "stdout",
     "output_type": "stream",
     "text": [
      "[0, 1, 2, 3, 4, 5, 6, 7, 8, 9]\n",
      "45\n",
      "45\n"
     ]
    }
   ],
   "source": [
    "from functools import reduce\n",
    "\n",
    "my_list = list(range(10))\n",
    "print(my_list)\n",
    "\n",
    "sum = 0\n",
    "for x in my_list:\n",
    "    sum += x\n",
    "print(sum)\n",
    "\n",
    "print(reduce(lambda x, y: x+y, my_list))"
   ]
  },
  {
   "cell_type": "markdown",
   "metadata": {},
   "source": [
    "## Good Practices - Do not be a code monkey\n",
    "\n",
    "There are different style guides and good practices describing lists of _dos and don'ts_ for Python.\n",
    "\n",
    "The most famous ones:\n",
    "\n",
    "* [PEP8](https://peps.python.org/pep-0008/) Official Style Guide for Python Code (Other links: https://pep8.org/, https://pypi.org/project/pycodestyle/)\n",
    "* [Google Style](https://google.github.io/styleguide/pyguide.html) - Google Python Style Guide"
   ]
  },
  {
   "cell_type": "markdown",
   "metadata": {},
   "source": [
    "### [Type hinting](https://docs.python.org/3/library/typing.html)\n",
    "\n",
    "Type hinting is a formal solution to statically indicate the type of a value within your Python code. It was specified in [PEP 484](https://peps.python.org/pep-0484/) and introduced in Python 3.5."
   ]
  },
  {
   "cell_type": "code",
   "execution_count": 3,
   "metadata": {},
   "outputs": [
    {
     "name": "stdout",
     "output_type": "stream",
     "text": [
      "Hello, Bender\n",
      "ALERTA!!!\n",
      "Alerta\n"
     ]
    },
    {
     "data": {
      "text/plain": [
       "'Hello, b, f'"
      ]
     },
     "execution_count": 3,
     "metadata": {},
     "output_type": "execute_result"
    }
   ],
   "source": [
    "\n",
    "def greet(name: str) -> str:\n",
    "    return \"Hello, \" + name\n",
    "\n",
    "print(greet('Bender'))"
   ]
  },
  {
   "cell_type": "code",
   "execution_count": 10,
   "metadata": {},
   "outputs": [
    {
     "name": "stdout",
     "output_type": "stream",
     "text": [
      "ALERTA!!!\n",
      "Alerta\n"
     ]
    },
    {
     "data": {
      "text/plain": [
       "'ALERTAAAAAA!!!'"
      ]
     },
     "execution_count": 10,
     "metadata": {},
     "output_type": "execute_result"
    }
   ],
   "source": [
    "def cm_alert(text: str, severity: bool = True) -> str:\n",
    "   if severity:\n",
    "       return f\"{text.upper()+'!!!'}\"\n",
    "   else:\n",
    "       return f\"{text.title()}\"\n",
    "\n",
    "\n",
    "print(cm_alert('alerta'))\n",
    "print(cm_alert('alerta', False))"
   ]
  },
  {
   "cell_type": "code",
   "execution_count": 5,
   "metadata": {},
   "outputs": [
    {
     "name": "stdout",
     "output_type": "stream",
     "text": [
      "Hello, alex, theboss\n"
     ]
    }
   ],
   "source": [
    "from typing import List\n",
    "\n",
    "def greeting(names: List[str]) -> str:\n",
    "    return 'Hello, {}'.format(', '.join(names))\n",
    "\n",
    "# There are also for dictionaries\n",
    "# from typing import Dict\n",
    "# There are also for Optional\n",
    "#from typing import Optional\n"
   ]
  },
  {
   "cell_type": "markdown",
   "metadata": {},
   "source": [
    "### [Docstring](https://peps.python.org/pep-0257/) - documenting your code\n",
    "\n",
    "A docstring is a string literal that occurs as the first statement in a module, function, class, or method definition. Such a docstring becomes the ```__doc__``` special attribute of that object.\n",
    "\n",
    "There are several docstrings formats:\n",
    "* [Official](https://peps.python.org/pep-0257/)\n",
    "* [Google](https://github.com/google/styleguide/blob/gh-pages/pyguide.md#38-comments-and-docstrings)\n",
    "* [NumPy/SciPy](https://numpydoc.readthedocs.io/en/latest/format.html)\n",
    "\n",
    "There are tools that parse your code and code docstrings and create automatic documentation:\n",
    "* [mkdocs](https://mkdocstrings.github.io/)\n",
    "* [Sphinx](https://www.sphinx-doc.org/en/master/index.html)"
   ]
  },
  {
   "cell_type": "code",
   "execution_count": 6,
   "metadata": {},
   "outputs": [
    {
     "data": {
      "text/plain": [
       "'Return the absolute path of README.md'"
      ]
     },
     "execution_count": 6,
     "metadata": {},
     "output_type": "execute_result"
    }
   ],
   "source": [
    "import os\n",
    "\n",
    "def readme_file_path():\n",
    "    \"\"\"Return the absolute path of README.md\"\"\"\n",
    "    return os.path.abspath('README.md')\n",
    "\n",
    "readme_file_path.__doc__"
   ]
  },
  {
   "cell_type": "code",
   "execution_count": 7,
   "metadata": {},
   "outputs": [
    {
     "name": "stdout",
     "output_type": "stream",
     "text": [
      "Form a complex number.\n",
      "\n",
      "    Keyword arguments:\n",
      "    real -- the real part (default 0.0)\n",
      "    imag -- the imaginary part (default 0.0)\n",
      "    \n"
     ]
    }
   ],
   "source": [
    "def complex(real: int = 0, imag: float = 0.0) -> float:\n",
    "    \"\"\"Form a complex number.\n",
    "\n",
    "    Keyword arguments:\n",
    "    real -- the real part (default 0.0)\n",
    "    imag -- the imaginary part (default 0.0)\n",
    "    \"\"\"\n",
    "    if imag == 0.0 and real == 0.0:\n",
    "        return 0\n",
    "\n",
    "print(complex.__doc__)"
   ]
  },
  {
   "cell_type": "code",
   "execution_count": 14,
   "metadata": {},
   "outputs": [
    {
     "data": {
      "text/plain": [
       "'\\n\\n    :param name:\\n    :param surname:\\n    :return:\\n    '"
      ]
     },
     "execution_count": 14,
     "metadata": {},
     "output_type": "execute_result"
    }
   ],
   "source": [
    "# In Pycharm by default it creates a template for docstring of a function:\n",
    "def name_join(name: str, surname: str) -> str:\n",
    "    \"\"\"\n",
    "\n",
    "    :param name:\n",
    "    :param surname:\n",
    "    :return:\n",
    "    \"\"\"\n",
    "    return name + surname\n",
    "\n",
    "name_join.__doc__"
   ]
  },
  {
   "cell_type": "markdown",
   "metadata": {},
   "source": [
    "Why this is useful? Because it allows to create beautiful documentation based only on your function docstring.\n",
    "An example: https://requests.readthedocs.io/en/latest/_modules/requests/api/#get"
   ]
  },
  {
   "cell_type": "code",
   "execution_count": null,
   "metadata": {},
   "outputs": [],
   "source": [
    "def get(url, params=None, **kwargs):\n",
    "    r\"\"\"Sends a GET request.\n",
    "\n",
    "    :param url: URL for the new :class:`Request` object.\n",
    "    :param params: (optional) Dictionary, list of tuples or bytes to send\n",
    "        in the query string for the :class:`Request`.\n",
    "    :param \\*\\*kwargs: Optional arguments that ``request`` takes.\n",
    "    :return: :class:`Response <Response>` object\n",
    "    :rtype: requests.Response\n",
    "    \"\"\"\n",
    "\n",
    "    return request(\"get\", url, params=params, **kwargs)"
   ]
  },
  {
   "cell_type": "markdown",
   "metadata": {},
   "source": [
    "# [Pytest](https://docs.pytest.org/en/7.1.x/) helps you write better programs\n",
    "\n",
    "The pytest framework makes it easy to write small, readable tests, and can scale to support complex functional testing for applications and libraries.\n",
    "\n",
    "Pytest is available on [pip](https://pypi.org/project/pytest/) and to install it you just need to run:\n",
    "\n",
    "`> pip install pytest`\n",
    "\n",
    "### Why testing\n",
    "\n",
    "* Keeps the code safe from bugs (not 100% true)\n",
    "* Avoids problems in production (not 100% true)\n",
    "* We can evaluate the code quality before pushing\n",
    "* If you want to refactor or add a feature in the future you have a greater degree of reliability that the code added doesn’t break something\n",
    "* When working on someone’s else code you feel safer when introducing changes\n",
    "\n",
    "### Running pytest\n",
    "\n",
    "* Pytest expects our tests to be located in files whose names begin with `test_` or end with `_test.py`\n",
    "* Usually all tests are located inside a folder named `tests`.\n",
    "\n",
    "First test: [test_capitalize.py](scripts/test_capitalize.py)"
   ]
  },
  {
   "cell_type": "code",
   "execution_count": 9,
   "metadata": {},
   "outputs": [],
   "source": [
    "import pytest\n",
    "\n",
    "def capital_case(x):\n",
    "    return x\n",
    "\n",
    "def test_capital_case():\n",
    "    assert capital_case('semaphore') == 'Semaphore'"
   ]
  },
  {
   "cell_type": "markdown",
   "metadata": {},
   "source": [
    "Pytest Extensions:\n",
    "* pytest-cov - Test coverage reports\n",
    "* pytest-xdist - Distributed testing\n",
    "* flaky, pytest-replay - Runs flaky tests\n",
    "* pytest-sugar - Prettify pytest runtime log\n",
    "* pytest-honors, pytest-regressions - Regression testing"
   ]
  },
  {
   "cell_type": "markdown",
   "metadata": {},
   "source": [
    "Normal test flow:\n",
    "1. Build project\n",
    "2. Linting\n",
    "3. Unit tests\n",
    "4. Integration tests\n",
    "5. Security tests\n",
    "6. ???\n",
    "7. Profit!"
   ]
  },
  {
   "cell_type": "markdown",
   "metadata": {},
   "source": [
    "Final remarks:\n",
    "\n",
    "* Create tests as you are done developing classes, methods or functions. Don’t wait for the end to create the tests, it will be harder!\n",
    "* Creating tests are part of the development, tickets will take more time to complete\n",
    "* You don’t have to have 100% test coverage but 10% is also not that good.\n",
    "* Consider having a colleague do the tests while you work on the development (work in a pair-programming environment)"
   ]
  },
  {
   "cell_type": "markdown",
   "metadata": {},
   "source": [
    "### Linters\n",
    "\n",
    "[Pylint](https://pypi.org/project/pylint/) analyses your code without actually running it. It checks for errors, enforces a coding standard, looks for code smells, and can make suggestions about how the code could be refactored.\n",
    "\n",
    "To install it just install it with pip:\n",
    "\n",
    "`> pip install pylint`\n",
    "\n",
    "To run pylint just do:\n",
    "\n",
    "`> pylint [options] modules_or_packages`"
   ]
  }
 ],
 "metadata": {
  "kernelspec": {
   "display_name": "Python 3.8.10 64-bit",
   "language": "python",
   "name": "python3"
  },
  "language_info": {
   "codemirror_mode": {
    "name": "ipython",
    "version": 3
   },
   "file_extension": ".py",
   "mimetype": "text/x-python",
   "name": "python",
   "nbconvert_exporter": "python",
   "pygments_lexer": "ipython3",
   "version": "3.8.10"
  },
  "orig_nbformat": 4,
  "vscode": {
   "interpreter": {
    "hash": "31f2aee4e71d21fbe5cf8b01ff0e069b9275f58929596ceb00d14d90e3e16cd6"
   }
  }
 },
 "nbformat": 4,
 "nbformat_minor": 2
}
