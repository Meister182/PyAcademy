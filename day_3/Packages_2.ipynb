{
 "cells": [
  {
   "cell_type": "markdown",
   "metadata": {},
   "source": [
    "# Packages\n",
    "\n",
    "The most _commonly_ used Python packages."
   ]
  },
  {
   "cell_type": "markdown",
   "metadata": {},
   "source": [
    "## [OS](https://docs.python.org/3/library/os.html) - operating system interfaces"
   ]
  },
  {
   "cell_type": "markdown",
   "metadata": {},
   "source": [
    "The **os** modules provides a simple way to interact with the operating system.\n",
    "\n",
    "Simplifies daily operations like handling fetching environment variables, handling paths and files, among other things. "
   ]
  },
  {
   "cell_type": "code",
   "execution_count": null,
   "metadata": {},
   "outputs": [],
   "source": [
    "import os\n",
    "print(dir(os))"
   ]
  },
  {
   "cell_type": "code",
   "execution_count": null,
   "metadata": {},
   "outputs": [
    {
     "name": "stdout",
     "output_type": "stream",
     "text": [
      "OS name: posix\n",
      "OS current dir: /home/ctw01000/WS/PyCademy/day_2\n",
      "OS current dir content: ['Packages.ipynb', 'scripts', 'README.md', '.ipynb_checkpoints']\n",
      "OS current dir content: ['Packages.ipynb', 'scripts', 'README.md', '.ipynb_checkpoints']\n"
     ]
    }
   ],
   "source": [
    "print(f'OS name: {os.name}')\n",
    "current_dir_path = os.getcwd()\n",
    "print(f'OS current dir: {current_dir_path}')\n",
    "print(f'OS current dir content: {os.listdir(current_dir_path)}')\n",
    "print(f'OS current dir content: {os.listdir()}')"
   ]
  },
  {
   "cell_type": "code",
   "execution_count": null,
   "metadata": {},
   "outputs": [
    {
     "name": "stdout",
     "output_type": "stream",
     "text": [
      "path          : /home/ctw01000/WS/PyCademy/day_2\n",
      "relative path : .\n",
      "basename      : day_2\n",
      "dirname path  : /home/ctw01000/WS/PyCademy\n",
      "----------------------------------------------------------------------------------------------------\n",
      "root path   : /home/ctw01000/WS/PyCademy/day_2\n",
      "directories : ['scripts', '.ipynb_checkpoints']\n",
      "files       : ['Packages.ipynb', 'README.md']\n",
      "files path   : /home/ctw01000/WS/PyCademy/day_2/Packages.ipynb\n",
      "files path   : /home/ctw01000/WS/PyCademy/day_2/README.md\n",
      "root path   : /home/ctw01000/WS/PyCademy/day_2/scripts\n",
      "directories : []\n",
      "files       : ['02_logging.py', '01_argparse.py']\n",
      "files path   : /home/ctw01000/WS/PyCademy/day_2/scripts/02_logging.py\n",
      "files path   : /home/ctw01000/WS/PyCademy/day_2/scripts/01_argparse.py\n",
      "root path   : /home/ctw01000/WS/PyCademy/day_2/.ipynb_checkpoints\n",
      "directories : []\n",
      "files       : []\n"
     ]
    }
   ],
   "source": [
    "print(f'path          : {current_dir_path}')\n",
    "print(f'relative path : {os.path.relpath(current_dir_path)}')\n",
    "print(f'basename      : {os.path.basename(current_dir_path)}')\n",
    "print(f'dirname path  : {os.path.dirname(current_dir_path)}')\n",
    "print('-'*100)\n",
    "\n",
    "for root, dirs, files in os.walk(current_dir_path):\n",
    "    print(f'root path   : {root}')\n",
    "    print(f'directories : {dirs}')\n",
    "    print(f'files       : {files}')\n",
    "    for file in files:\n",
    "        print(f'files path   : {os.path.join(root, file)}')\n"
   ]
  },
  {
   "cell_type": "markdown",
   "metadata": {},
   "source": [
    "## [argparse](https://docs.python.org/3/library/argparse.html) - Argument parser"
   ]
  },
  {
   "cell_type": "markdown",
   "metadata": {},
   "source": [
    "An easy way to handle with script arguments.\n",
    "\n",
    "Some of the most usefull features provided are:\n",
    "\n",
    "**Parser**: \n",
    "- Automatically parses the scripts input arguments and returns them in a neat object, which makes it easier (and cleanner) to use them.\n",
    "\n",
    "Argument **validation**: \n",
    "- Required: Automatically validates if the script received all the required arguments.\n",
    "- Type Checking: validate if an argument is of the expected type.\n",
    "\n",
    "**Help** text:\n",
    "- You don't have to worry about righting a help flag to display what the script doeas and what arguments it has available.\n",
    "- Description: Add the script description to be displayed in the help text.\n",
    "\n",
    "> **_Note_**: Also check: [01_argparse.py](scripts/01_argparse.py)"
   ]
  },
  {
   "cell_type": "code",
   "execution_count": 3,
   "metadata": {},
   "outputs": [
    {
     "name": "stdout",
     "output_type": "stream",
     "text": [
      "usage: my_script [-h]\n",
      "\n",
      "My script does something.\n",
      "\n",
      "optional arguments:\n",
      "  -h, --help  show this help message and exit\n",
      "----------------------------------------------------------------------------------------------------\n",
      "ArgumentParser(prog='my_script', usage=None, description='My script does something.', formatter_class=<class 'argparse.HelpFormatter'>, conflict_handler='error', add_help=True)\n"
     ]
    }
   ],
   "source": [
    "import argparse\n",
    "\n",
    "# Most basic use case, just give a name and description to your script\n",
    "parser = argparse.ArgumentParser(\n",
    "    prog = \"my_script\",\n",
    "    description=\"My script does something.\",\n",
    ")\n",
    "\n",
    "# equivalent to running: python3 my_script.py --help\n",
    "parser.print_help()\n",
    "print('-'*100)\n",
    "print(parser)"
   ]
  },
  {
   "cell_type": "code",
   "execution_count": 4,
   "metadata": {},
   "outputs": [
    {
     "name": "stdout",
     "output_type": "stream",
     "text": [
      "usage: argument_snippet [-h] -s STRING [-l LIST3 LIST3 LIST3] [-d]\n",
      "                        input_1 input_2\n",
      "\n",
      "positional arguments:\n",
      "  input_1\n",
      "  input_2\n",
      "\n",
      "optional arguments:\n",
      "  -h, --help            show this help message and exit\n",
      "  -s STRING, --string STRING\n",
      "                        A string delivered by flag.\n",
      "  -l LIST3 LIST3 LIST3, --list LIST3 LIST3 LIST3\n",
      "                        A list argument of 3 elements.\n",
      "  -d, --debug           A simple debug flag.\n",
      "----------------------------------------------------------------------------------------------------\n",
      "Namespace(debug=True, input_1=1, input_2='2', list3=['3', '2', '1'], string='asd')\n",
      "----------------------------------------------------------------------------------------------------\n",
      "Debug : True\n",
      "list  : ['3', '2', '1']\n",
      "String: asd\n"
     ]
    }
   ],
   "source": [
    "## Adding arguments\n",
    "parser = argparse.ArgumentParser(prog = \"argument_snippet\")\n",
    "\n",
    "# Positional arguments\n",
    "parser.add_argument(\"input_1\", type=int)\n",
    "parser.add_argument(\"input_2\", type=str)\n",
    "\n",
    "# flag arguments\n",
    "# string\n",
    "parser.add_argument(\n",
    "    \"-s\", \"--string\",\n",
    "    type=str,\n",
    "    help=\"A string delivered by flag.\",\n",
    "    required=True\n",
    ")\n",
    "\n",
    "# list\n",
    "parser.add_argument(\n",
    "    \"-l\", \"--list\",\n",
    "    nargs=3,\n",
    "    dest=\"list3\",\n",
    "    help=\"A list argument of 3 elements.\",\n",
    ")\n",
    "\n",
    "# Boolean\n",
    "parser.add_argument(\n",
    "    \"-d\", \"--debug\",\n",
    "    action=\"store_true\",\n",
    "    help=\"A simple debug flag.\"\n",
    ")\n",
    "\n",
    "parser.print_help()\n",
    "\n",
    "args = parser.parse_args('1 -d 2 -l 3 2 1 -s asd'.split())\n",
    "print('-'*100)\n",
    "print(args)\n",
    "print('-'*100)\n",
    "print(f'Debug : {args.debug}')\n",
    "print(f'list  : {args.list3}')\n",
    "print(f'String: {args.string}')"
   ]
  },
  {
   "cell_type": "code",
   "execution_count": null,
   "metadata": {},
   "outputs": [
    {
     "name": "stdout",
     "output_type": "stream",
     "text": [
      "usage: exclusive_argument_snippet [-h] [--file | --dir]\n",
      "\n",
      "optional arguments:\n",
      "  -h, --help  show this help message and exit\n",
      "  --file      Use a file path.\n",
      "  --dir       Use a dir path.\n",
      "Namespace(dir=True, file=True)\n"
     ]
    }
   ],
   "source": [
    "# Mutually exclusive flags\n",
    "parser = argparse.ArgumentParser(prog = \"exclusive_argument_snippet\")\n",
    "\n",
    "group = parser.add_mutually_exclusive_group()\n",
    "\n",
    "# Add arguments to the group\n",
    "group.add_argument('--file', action='store_true', help=\"Use a file path.\")\n",
    "group.add_argument('--dir', action='store_false', help=\"Use a dir path.\")\n",
    "\n",
    "parser.print_help()\n",
    "args = parser.parse_args([\"--file\"])\n",
    "print(args)"
   ]
  },
  {
   "cell_type": "markdown",
   "metadata": {},
   "source": [
    "## [Logging](https://docs.python.org/3/library/logging.html) - Well.. logging stuff"
   ]
  },
  {
   "cell_type": "markdown",
   "metadata": {},
   "source": [
    "Forget about print.\n",
    "\n",
    "As the name implies, logging provides a simple and clean way to log what happens on your scripts. Logs are essential when debugging what went wrong with the script, making this one must have tool.\n",
    "\n",
    "Some of the most usefull features it provides are:\n",
    "\n",
    "- Customization of the printed messages format.\n",
    "- Objects can easily \"sign\" their prints.\n",
    "- Adds timestamps to printed lines.\n",
    "- Easily set different logging levels for what's happening at certain points of the script.\n",
    "- Simultaneously write to the terminal and multiple logfiles, each with their own configuration."
   ]
  },
  {
   "cell_type": "code",
   "execution_count": null,
   "metadata": {},
   "outputs": [
    {
     "name": "stderr",
     "output_type": "stream",
     "text": [
      "DEBUG:root:Something is happening!\n",
      "INFO:root:Something happened!\n",
      "WARNING:root:Found something weird!\n",
      "ERROR:root:Script failed!\n",
      "CRITICAL:root:Script failed harder!!!\n"
     ]
    }
   ],
   "source": [
    "import logging\n",
    "\n",
    "logging.basicConfig(level=logging.DEBUG)\n",
    "\n",
    "logging.debug(\"Something is happening!\")\n",
    "logging.info(\"Something happened!\")\n",
    "logging.warning(\"Found something weird!\")\n",
    "logging.error(\"Script failed!\")\n",
    "logging.critical(\"Script failed harder!!!\")"
   ]
  },
  {
   "cell_type": "code",
   "execution_count": null,
   "metadata": {},
   "outputs": [
    {
     "name": "stderr",
     "output_type": "stream",
     "text": [
      "WARNING:my logger:Found something weird!\n",
      "ERROR:my logger:Script failed!\n",
      "CRITICAL:my logger:Script failed harder!!!\n"
     ]
    }
   ],
   "source": [
    "# A more modular approach\n",
    "my_logger = logging.getLogger(\"my logger\")\n",
    "my_logger.setLevel(logging.WARNING)\n",
    "\n",
    "my_logger.debug(\"Something is happening!\")\n",
    "my_logger.info(\"Something happened!\")\n",
    "my_logger.warning(\"Found something weird!\")\n",
    "my_logger.error(\"Script failed!\")\n",
    "my_logger.critical(\"Script failed harder!!!\")"
   ]
  },
  {
   "cell_type": "markdown",
   "metadata": {},
   "source": [
    "The logging module provides 3 kinds of objects:\n",
    "\n",
    "- **[Loggers](https://docs.python.org/3/howto/logging.html#loggers)**: Expose the interface that application code directly uses.\n",
    "\n",
    "- **[Handlers](https://docs.python.org/3/howto/logging.html#handlers)**: send the log records (created by loggers) to the appropriate destination. (ex: console, file, buffer, server, ...)\n",
    "\n",
    "- **[Filters](https://docs.python.org/3/library/logging.html#filter)**: Provide a finer grained facility for determining which log records to output.\n",
    "\n",
    "- **[Formatters](https://docs.python.org/3/howto/logging.html#formatters)**: Specify the layout of log records in the final output.\n",
    "\n",
    "> **Note**: Check the [02_logging.py](scripts/02_logging.py) to see a more in depth example."
   ]
  },
  {
   "cell_type": "markdown",
   "metadata": {},
   "source": [
    "## [JSON](https://docs.python.org/3/library/json.html) - Json handling\n",
    "\n",
    "[JSON](https://en.wikipedia.org/wiki/JSON) (JavaScript Object Notation) is an open standard file format and data interchange format that uses human-readable text to store and transmit data objects consisting of attribute–value pairs and arrays (or other serializable values). It is a common data format with diverse uses in electronic data interchange, including that of web applications with servers. \n",
    "\n",
    "Example:\n",
    "\n",
    "```json\n",
    "{\n",
    "  \"firstName\": \"John\",\n",
    "  \"lastName\": \"Smith\",\n",
    "  \"isAlive\": true,\n",
    "  \"age\": 27,\n",
    "  \"address\": {\n",
    "    \"streetAddress\": \"21 2nd Street\",\n",
    "    \"city\": \"New York\",\n",
    "    \"state\": \"NY\",\n",
    "    \"postalCode\": \"10021-3100\"\n",
    "  },\n",
    "  \"phoneNumbers\": [\n",
    "    {\n",
    "      \"type\": \"home\",\n",
    "      \"number\": \"212 555-1234\"\n",
    "    },\n",
    "    {\n",
    "      \"type\": \"office\",\n",
    "      \"number\": \"646 555-4567\"\n",
    "    }\n",
    "  ],\n",
    "  \"children\": [\n",
    "      \"Catherine\",\n",
    "      \"Thomas\",\n",
    "      \"Trevor\"\n",
    "  ],\n",
    "  \"spouse\": null\n",
    "}\n",
    "```\n",
    "\n",
    "The process of encoding JSON is usually called **serialization**. Naturally, **deserialization** is the reciprocal process of decoding data that has been stored or delivered in the JSON standard.\n",
    "\n",
    "### Serializing JSON\n",
    "\n",
    "What happens after a computer processes lots of information? It needs to take a data dump. Accordingly, the `json` library exposes the `dump()` method for writing data to files. There is also a dumps() method (pronounced as “dump-s”) for writing to a Python string.\n",
    "\n",
    "Simple Python objects are translated to JSON according to a fairly intuitive conversion.\n",
    "\n",
    "| Python         |  JSON     |\n",
    "|----------------|-----------|\n",
    "| dict           | object    |\n",
    "| list, tuple    |    array  |\n",
    "| str            |  string   |\n",
    "| int, long, float |  number |\n",
    "| True          |       true |\n",
    "| False         |      false |\n",
    "| None          |       null |\n",
    "\n",
    "### Deserializing JSON\n",
    "\n",
    "In the `json` library, you’ll find `load()` and `loads()` for turning JSON encoded data into Python objects.\n",
    "\n",
    "| JSON         |  Python     |\n",
    "|----------------|-----------|\n",
    "| object           | dict    |\n",
    "| array    |    list  |\n",
    "| string            |  str   |\n",
    "| number(int) |  int |\n",
    "| number(real)    |     float |\n",
    "| true         |      True |\n",
    "| false          |      False |\n",
    "| null          |       None |\n"
   ]
  },
  {
   "cell_type": "code",
   "execution_count": 5,
   "metadata": {},
   "outputs": [
    {
     "name": "stdout",
     "output_type": "stream",
     "text": [
      "{\n",
      "    \"4\": 5,\n",
      "    \"6\": 7\n",
      "}\n",
      "{\"president\": {\"name\": \"Zaphod Beeblebrox\", \"species\": \"Betelgeusian\"}}\n"
     ]
    },
    {
     "data": {
      "text/plain": [
       "'Zaphod Beeblebrox'"
      ]
     },
     "execution_count": 5,
     "metadata": {},
     "output_type": "execute_result"
    }
   ],
   "source": [
    "import json\n",
    "\n",
    "print(json.dumps({'4': 5, '6': 7}, sort_keys=True, indent=4))\n",
    "\n",
    "# Serializing JSON\n",
    "data = {\n",
    "    \"president\": {\n",
    "        \"name\": \"Zaphod Beeblebrox\",\n",
    "        \"species\": \"Betelgeusian\"\n",
    "    }\n",
    "}\n",
    "\n",
    "with open(\"data_file.json\", \"w\") as write_file:\n",
    "    json.dump(data, write_file)\n",
    "\n",
    "json_string = json.dumps(data)\n",
    "print(json_string)\n",
    "\n",
    "# Deserialization JSON\n",
    "with open(\"data_file.json\", \"r\") as read_file:\n",
    "    data = json.load(read_file)\n",
    "\n",
    "# handling JSON dict\n",
    "data['president']\n",
    "data['president']['name']\n"
   ]
  },
  {
   "cell_type": "markdown",
   "metadata": {},
   "source": [
    "## [YAML](https://pypi.org/project/PyYAML/) - Yaml handling\n",
    "\n",
    "YAML support doesn't have native library support from Python. To be able to handle YAML we need a third-party library.\n",
    "YAML is a data serialization format designed for human readability and interaction with scripting languages."
   ]
  },
  {
   "cell_type": "code",
   "execution_count": null,
   "metadata": {},
   "outputs": [
    {
     "name": "stdout",
     "output_type": "stream",
     "text": [
      "{'message': {'date': datetime.datetime(2022, 1, 16, 12, 46, 17, tzinfo=datetime.timezone.utc), 'from': 'john.doe@domain.com', 'to': ['bobby@domain.com', 'molly@domain.com']}}\n",
      "{'name': 'John'}\n",
      "John\n"
     ]
    }
   ],
   "source": [
    "import yaml\n",
    "\n",
    "email_message = \"\"\"\\\n",
    "message:\n",
    "  date: 2022-01-16 12:46:17Z\n",
    "  from: john.doe@domain.com\n",
    "  to:\n",
    "    - bobby@domain.com\n",
    "    - molly@domain.com\n",
    "\"\"\"\n",
    "\n",
    "# Deserializing YAML\n",
    "# Calling safe_load() is currently the recommended way of handling content received from untrusted sources, which could contain malicious code.\n",
    "print(yaml.safe_load(email_message))\n",
    "\n",
    "data = {\"name\": \"John\"}\n",
    "\n",
    "# Serializing\n",
    "with open(\"email_message.yaml\", mode=\"wt\", encoding=\"utf-8\") as file:\n",
    "    yaml.dump(data, file)\n",
    "\n",
    "# Deserialization\n",
    "with open(\"email_message.yaml\", \"r\") as read_file:\n",
    "    message = yaml.safe_load(read_file)\n",
    "\n",
    "print(message)\n",
    "print(message['name'])"
   ]
  },
  {
   "cell_type": "markdown",
   "metadata": {},
   "source": [
    "## [Re](https://docs.python.org/3/library/re.html): Regular expression operations\n",
    "\n",
    "This module provides [regular expression](https://en.wikipedia.org/wiki/Regular_expression) matching operations similar to those found in Perl.\n",
    "A regular expression is a sequence of characters that specifies a search pattern in text.\n",
    "\n",
    "To get a glimpse of how regex works you can also consult the Python3 regex page: https://docs.python.org/3/library/re.html\n",
    "\n",
    "The result of the search or match operations will return a [Match object](https://docs.python.org/3/library/re.html#match-objects).\n",
    "\n",
    "To test your regular expressions there are several sites but we recommend using [regex101](https://regex101.com/) or [debuggex](https://www.debuggex.com/)."
   ]
  },
  {
   "cell_type": "code",
   "execution_count": 19,
   "metadata": {},
   "outputs": [
    {
     "name": "stdout",
     "output_type": "stream",
     "text": [
      "egg\n",
      "<re.Match object; span=(3, 20), match='22_A_21w11.1-2-37'>\n",
      "<re.Match object; span=(0, 16), match='A_B_21w11.1-2-37'>\n",
      "None\n"
     ]
    },
    {
     "data": {
      "text/plain": [
       "['Words', 'words', 'words', '']"
      ]
     },
     "execution_count": 19,
     "metadata": {},
     "output_type": "execute_result"
    }
   ],
   "source": [
    "import re\n",
    "\n",
    "# This example looks for a word following a hyphen\n",
    "m = re.search(r'(?<=-)\\w+', 'spam-egg')\n",
    "print(m.group(0))\n",
    "\n",
    "# Input git tag string pattern\n",
    "TAG_STRING_PATTERN = r\"([A-Z0-9-]+_)?([A-Z0-9_-]+_)?[0-9]{2}w[0-9]{2}.[0-9]-[0-9]{1,2}(?:-[0-9]{1,3})?\"\n",
    "\n",
    "# Search\n",
    "search = re.search(TAG_STRING_PATTERN, 'mgu22_A_21w11.1-2-37')\n",
    "print(search)\n",
    "\n",
    "# Match\n",
    "match = re.fullmatch(TAG_STRING_PATTERN, 'A_B_21w11.1-2-37')\n",
    "print(match)\n",
    "\n",
    "# Doesn't match\n",
    "match = re.fullmatch(TAG_STRING_PATTERN, 'mgu22_A_21w11.1-2-37')\n",
    "print(match)\n",
    "\n",
    "# We can also split a string by a regex\n",
    "re.split(r'\\W+', 'Words, words, words.')\n"
   ]
  },
  {
   "cell_type": "markdown",
   "metadata": {},
   "source": [
    "## [Requests](https://pypi.org/project/requests/): Requests is a simple, yet elegant, HTTP library.\n",
    "\n",
    "Requests allows you to send HTTP/1.1 requests extremely easily. There’s no need to manually add query strings to your URLs, or to form-encode your `PUT` & `POST` data — but nowadays, just use the `json` method!\n",
    "\n",
    "**Official documentation:** https://requests.readthedocs.io/en/latest/"
   ]
  },
  {
   "cell_type": "code",
   "execution_count": 8,
   "metadata": {},
   "outputs": [
    {
     "name": "stdout",
     "output_type": "stream",
     "text": [
      "Kenneth Reitz\n",
      "<Response [200]>\n",
      "Success!\n",
      "{'Server': 'GitHub.com', 'Date': 'Fri, 08 Jul 2022 16:25:02 GMT', 'Cache-Control': 'public, max-age=60, s-maxage=60', 'Vary': 'Accept, Accept-Encoding, Accept, X-Requested-With', 'ETag': '\"4f825cc84e1c733059d46e76e6df9db557ae5254f9625dfe8e1b09499c449438\"', 'Access-Control-Expose-Headers': 'ETag, Link, Location, Retry-After, X-GitHub-OTP, X-RateLimit-Limit, X-RateLimit-Remaining, X-RateLimit-Used, X-RateLimit-Resource, X-RateLimit-Reset, X-OAuth-Scopes, X-Accepted-OAuth-Scopes, X-Poll-Interval, X-GitHub-Media-Type, X-GitHub-SSO, X-GitHub-Request-Id, Deprecation, Sunset', 'Access-Control-Allow-Origin': '*', 'Strict-Transport-Security': 'max-age=31536000; includeSubdomains; preload', 'X-Frame-Options': 'deny', 'X-Content-Type-Options': 'nosniff', 'X-XSS-Protection': '0', 'Referrer-Policy': 'origin-when-cross-origin, strict-origin-when-cross-origin', 'Content-Security-Policy': \"default-src 'none'\", 'Content-Type': 'application/json; charset=utf-8', 'X-GitHub-Media-Type': 'github.v3; format=json', 'Content-Encoding': 'gzip', 'X-RateLimit-Limit': '60', 'X-RateLimit-Remaining': '10', 'X-RateLimit-Reset': '1657298382', 'X-RateLimit-Resource': 'core', 'X-RateLimit-Used': '50', 'Accept-Ranges': 'bytes', 'Content-Length': '510', 'X-GitHub-Request-Id': 'C4FE:1C3B:142AB2:160DCA:62C85A64'}\n",
      "Repository name: uncurl\n",
      "Repository description: A library to convert curl requests to python-requests.\n"
     ]
    },
    {
     "data": {
      "text/plain": [
       "<Response [200]>"
      ]
     },
     "execution_count": 8,
     "metadata": {},
     "output_type": "execute_result"
    }
   ],
   "source": [
    "import requests\n",
    "\n",
    "print(requests.__author__)\n",
    "\n",
    "print(requests.get('https://api.github.com'))\n",
    "\n",
    "# Status codes\n",
    "response = requests.get('https://api.github.com')\n",
    "response.status_code\n",
    "\n",
    "if response.status_code == 200:\n",
    "    print('Success!')\n",
    "elif response.status_code == 404:\n",
    "    print('Not Found.')\n",
    "else:\n",
    "    print(f'New response code: {response.status_code}')\n",
    "\n",
    "# Get the responser headers\n",
    "print(response.headers)\n",
    "\n",
    "# Search GitHub's repositories for requests\n",
    "repos = requests.get(\n",
    "    'https://api.github.com/search/repositories',\n",
    "    params={'q': 'requests+language:python'},\n",
    ")\n",
    "\n",
    "# Inspect some attributes of the `requests` repository\n",
    "json_response = repos.json()\n",
    "#print(json_response)\n",
    "repository = json_response['items'][10]\n",
    "print(f'Repository name: {repository[\"name\"]}')\n",
    "print(f'Repository description: {repository[\"description\"]}')\n",
    "\n",
    "# Get the content of a request. If we \"ping\" an API usually we get a JSON.\n",
    "# If we \"ping\" a webpage usually we get the HTML.\n",
    "#print(repos.content)\n",
    "\n",
    "# Other HTTP Methods\n",
    "requests.post('https://httpbin.org/post', data={'key':'value'})\n",
    "requests.put('https://httpbin.org/put', data={'key':'value'})\n",
    "requests.delete('https://httpbin.org/delete')\n",
    "requests.head('https://httpbin.org/get')\n",
    "requests.patch('https://httpbin.org/patch', data={'key':'value'})\n",
    "requests.options('https://httpbin.org/get')\n",
    "\n",
    "# Authentication\n"
   ]
  },
  {
   "cell_type": "markdown",
   "metadata": {},
   "source": [
    "## [Subprocess](https://docs.python.org/3.8/library/subprocess.html#): Subprocess management\n",
    "\n",
    "The subprocess module allows you to spawn new processes, connect to their input/output/error pipes, and obtain their return codes.\n",
    "\n",
    "**Official documentation:** https://docs.python.org/3.8/library/subprocess.html#"
   ]
  },
  {
   "cell_type": "code",
   "execution_count": 39,
   "metadata": {},
   "outputs": [
    {
     "name": "stdout",
     "output_type": "stream",
     "text": [
      "total 16\n",
      "-rw-r--r-- 1 bferreira bferreira 8237 Jul  7 13:26 Packages_2.ipynb\n",
      "-rw-r--r-- 1 bferreira bferreira 1301 Jul  6 15:18 README.md\n",
      "bdf99ae3cdd99b615a81ae42a9736ceecc600494\n",
      "\n"
     ]
    },
    {
     "data": {
      "text/plain": [
       "0"
      ]
     },
     "execution_count": 39,
     "metadata": {},
     "output_type": "execute_result"
    }
   ],
   "source": [
    "import subprocess\n",
    "\n",
    "# Run a process\n",
    "subprocess.run([\"ls\", \"-l\"]) \n",
    "\n",
    "cmd = \"git rev-parse HEAD\"\n",
    "print(subprocess.check_output(cmd, shell=True).decode())\n",
    "# If shell is True, the specified command will be executed through the shell.\n",
    "\n",
    "# Check if git is available and get return code.\n",
    "# This is a useful trick to check if a bin is available on the system.\n",
    "git = subprocess.run([ 'echo', 'Hello, world!' ], stdout=subprocess.DEVNULL)\n",
    "git.returncode"
   ]
  },
  {
   "cell_type": "markdown",
   "metadata": {},
   "source": [
    "# Building a package:"
   ]
  },
  {
   "cell_type": "code",
   "execution_count": null,
   "metadata": {},
   "outputs": [],
   "source": [
    "# TODO how to do a python package"
   ]
  },
  {
   "cell_type": "markdown",
   "metadata": {},
   "source": [
    "## Creating a custom module:"
   ]
  },
  {
   "cell_type": "code",
   "execution_count": null,
   "metadata": {},
   "outputs": [],
   "source": [
    "# TODO how to make a module"
   ]
  },
  {
   "cell_type": "markdown",
   "metadata": {},
   "source": [
    "## Creating a custom package"
   ]
  },
  {
   "cell_type": "code",
   "execution_count": null,
   "metadata": {},
   "outputs": [],
   "source": [
    "# TODO how to do a python package"
   ]
  }
 ],
 "metadata": {
  "kernelspec": {
   "display_name": "Python 3.8.10 64-bit",
   "language": "python",
   "name": "python3"
  },
  "language_info": {
   "codemirror_mode": {
    "name": "ipython",
    "version": 3
   },
   "file_extension": ".py",
   "mimetype": "text/x-python",
   "name": "python",
   "nbconvert_exporter": "python",
   "pygments_lexer": "ipython3",
   "version": "3.8.10"
  },
  "orig_nbformat": 4,
  "vscode": {
   "interpreter": {
    "hash": "31f2aee4e71d21fbe5cf8b01ff0e069b9275f58929596ceb00d14d90e3e16cd6"
   }
  }
 },
 "nbformat": 4,
 "nbformat_minor": 2
}
