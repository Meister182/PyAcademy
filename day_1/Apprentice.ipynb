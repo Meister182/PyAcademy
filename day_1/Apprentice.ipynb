{
 "cells": [
  {
   "cell_type": "markdown",
   "metadata": {},
   "source": [
    "# Python Setup"
   ]
  },
  {
   "cell_type": "markdown",
   "metadata": {},
   "source": [
    "**Installation:**\n",
    "\n",
    "|OS|Python Downloads Page|Package Managers|\n",
    "|:--:|:--:|:--:|\n",
    "|Linux|[link](https://www.python.org/downloads/source/)|apt/pacman/...|\n",
    "|Mac|[link](https://www.python.org/downloads/macos/)|brew|\n",
    "|Windows|[link](https://www.python.org/downloads/windows/)| Microsoft Store|\n",
    "\n",
    "**VsCode Vs Pycharm**\n",
    "- [PyCharm](https://www.jetbrains.com/pycharm/) is a python dedicated IDE, and provides out of the box linting, debugging and formatting tools aligned with Python best practices.\n",
    "- [VsCode](https://code.visualstudio.com/) is a generic IDE that can be customized with extensions.\n",
    "    - [Python Extension](https://marketplace.visualstudio.com/items?itemName=ms-python.python) Provides rich support for the Python language (for all actively supported versions of the language: >=3.7), including features such as:\n",
    "        - IntelliSense (Pylance)\n",
    "        - linting\n",
    "        - debugging\n",
    "        - code navigation\n",
    "        - code formatting\n",
    "        - refactoring\n",
    "        - variable explorer\n",
    "        - test explorer \n",
    "\n",
    "**[Jupyter](https://jupyter.org/)**\n",
    "- Its web-based interactive development environment for notebooks for creating and sharing computational documents. It offers a simple, streamlined, document-centric experience.\n",
    "- Besides its main purpose to seemingly integrate data processing and data visusalization with code, it also is a great way to experiment with python as it allows to run code snipets indepently."
   ]
  },
  {
   "cell_type": "code",
   "execution_count": 1,
   "metadata": {},
   "outputs": [
    {
     "name": "stdout",
     "output_type": "stream",
     "text": [
      "The Zen of Python, by Tim Peters\n",
      "\n",
      "Beautiful is better than ugly.\n",
      "Explicit is better than implicit.\n",
      "Simple is better than complex.\n",
      "Complex is better than complicated.\n",
      "Flat is better than nested.\n",
      "Sparse is better than dense.\n",
      "Readability counts.\n",
      "Special cases aren't special enough to break the rules.\n",
      "Although practicality beats purity.\n",
      "Errors should never pass silently.\n",
      "Unless explicitly silenced.\n",
      "In the face of ambiguity, refuse the temptation to guess.\n",
      "There should be one-- and preferably only one --obvious way to do it.\n",
      "Although that way may not be obvious at first unless you're Dutch.\n",
      "Now is better than never.\n",
      "Although never is often better than *right* now.\n",
      "If the implementation is hard to explain, it's a bad idea.\n",
      "If the implementation is easy to explain, it may be a good idea.\n",
      "Namespaces are one honking great idea -- let's do more of those!\n"
     ]
    }
   ],
   "source": [
    "# Zen of Python\n",
    "import this"
   ]
  },
  {
   "cell_type": "code",
   "execution_count": 2,
   "metadata": {},
   "outputs": [
    {
     "name": "stdout",
     "output_type": "stream",
     "text": [
      "Hello World!!\n"
     ]
    }
   ],
   "source": [
    "# ====== Hello World ======\n",
    "print(\"Hello World!!\")"
   ]
  },
  {
   "cell_type": "markdown",
   "metadata": {},
   "source": [
    "# Variables"
   ]
  },
  {
   "cell_type": "code",
   "execution_count": 3,
   "metadata": {},
   "outputs": [],
   "source": [
    "# Declaring basic types\n",
    "my_number = 42\n",
    "my_float = 3.1416\n",
    "my_string = \"We’ll not risk another frontal assault. That rabbit’s dynamite.\"\n",
    "\n",
    "# Declaring List(array), Tuples and Sets\n",
    "my_list = [1,1,3.5,'Nobody exists on purpose.', 'Nobody belongs anywhere.', 'We’re all going to die.', ['Sometimes', 'science', 'is', 'more', 'art', 'than', 'science.']]\n",
    "my_tuple = (1,1,3.5,'Nobody exists on purpose.', 'Nobody belongs anywhere.', 'We’re all going to die.', ['Sometimes', 'science', 'is', 'more', 'art', 'than', 'science.'])\n",
    "my_set = {1,1,3.5, 'Nobody exists on purpose.', 'Nobody belongs anywhere.', 'We’re all going to die.'}\n",
    "\n",
    "# Declaring a dictionary\n",
    "my_dictionary = {'Monty': 'Python', 'Rick': 'Morty', 'Set': my_set}"
   ]
  },
  {
   "cell_type": "markdown",
   "metadata": {},
   "source": [
    "## Arithmetic Operations"
   ]
  },
  {
   "cell_type": "markdown",
   "metadata": {},
   "source": [
    "|operator|name|example|\n",
    "|-|-|-|\n",
    "|+|Addition|`new_number = my_number + 1`|\n",
    "|-|Subtraction|`new_number = my_number - 1`|\n",
    "|*|Multiplication|`new_number = my_number * 2`|\n",
    "|/|Division|`new_number = my_number / 2`|\n",
    "|%|Modulus|`new_number = my_number % 2`|\n",
    "|**|Exponentiation|`new_number = my_number ** 2`|\n",
    "|//|Floor division|`new_number = my_number // 3`|"
   ]
  },
  {
   "cell_type": "code",
   "execution_count": 4,
   "metadata": {},
   "outputs": [
    {
     "name": "stdout",
     "output_type": "stream",
     "text": [
      "my number (original): <class 'int'> 42\n",
      "my number (updated) : <class 'int'> 10084\n",
      "my number (updated) : <class 'float'> 10087.1416\n"
     ]
    }
   ],
   "source": [
    "print(\"my number (original):\", type(my_number), my_number)\n",
    "new_number = my_number * 2\n",
    "new_number += 10000\n",
    "print(\"my number (updated) :\", type(new_number), new_number)\n",
    "\n",
    "new_number += my_float\n",
    "print(\"my number (updated) :\", type(new_number), new_number)\n"
   ]
  },
  {
   "cell_type": "markdown",
   "metadata": {},
   "source": [
    "## Handling Strings"
   ]
  },
  {
   "cell_type": "markdown",
   "metadata": {},
   "source": [
    "|operator|name|example|\n",
    "|-|-|-|\n",
    "|=|Assigment|`new_string = my_string`|\n",
    "|==, !=|Slicing|`new_string == \"A newt?\"`|\n",
    "|*|Repetition|`new_string = my_string * 2`|\n",
    "|+|Concatenation|`new_string = my_string + \" Would it help to confuse it if we run away more?\"`|\n",
    "|[]|Slicing|`first_char = my_string[0]`|"
   ]
  },
  {
   "cell_type": "code",
   "execution_count": 5,
   "metadata": {},
   "outputs": [
    {
     "name": "stdout",
     "output_type": "stream",
     "text": [
      "the answer to life the universe and everything 42!\n",
      "the answer to life the universe and everything 42!\n",
      "the answer to life the universe and everything 42!\n",
      "----------------------------------------------------------------------------------------------------\n",
      "+ : We’ll not risk another frontal assault. That rabbit’s dynamite. Would it help to confuse it if we run away more?\n",
      "* : We’ll not risk another frontal assault. That rabbit’s dynamite.We’ll not risk another frontal assault. That rabbit’s dynamite.\n",
      "1st char: W\n"
     ]
    }
   ],
   "source": [
    "\n",
    "## String formatting.\n",
    "# Old Style\n",
    "print('the answer to life the universe and everything %s!' % my_number)\n",
    "# New format\n",
    "print('the answer to life the universe and everything {}!'.format(my_number))\n",
    "# (fstring) Literal string interpolation (Python 3.6+)\n",
    "print(f'the answer to life the universe and everything {my_number}!')\n",
    "# Template strings (¯\\_(ツ)_/¯ google it.)\n",
    "\n",
    "## String Operators examples\n",
    "print(\"-\"*100)\n",
    "print(f'+ : {my_string  + \" Would it help to confuse it if we run away more?\"}')\n",
    "print(f'* : {my_string * 2}')\n",
    "print(f'1st char: {my_string[0]}')"
   ]
  },
  {
   "cell_type": "code",
   "execution_count": 6,
   "metadata": {},
   "outputs": [
    {
     "name": "stdout",
     "output_type": "stream",
     "text": [
      "upper   : WE’LL NOT RISK ANOTHER FRONTAL ASSAULT. THAT RABBIT’S DYNAMITE.\n",
      "lower   : we’ll not risk another frontal assault. that rabbit’s dynamite.\n",
      "split 1 : ['We’ll', 'not', 'risk', 'another', 'frontal', 'assault.', 'That', 'rabbit’s', 'dynamite.']\n",
      "split 2 : ['We’ll not risk another frontal assault', ' That rabbit’s dynamite', '']\n",
      "count a : 7\n",
      "replace : We’ll_not_risk_another_frontal_assault._That_rabbit’s_dynamite.\n",
      "join    : We’ll_not_risk_another_frontal_assault._That_rabbit’s_dynamite.\n"
     ]
    }
   ],
   "source": [
    "## String (some) methods\n",
    "print(f'upper   : {my_string.upper()}')\n",
    "print(f'lower   : {my_string.lower()}')\n",
    "print(f'split 1 : {my_string.split(\" \")}')\n",
    "print(f'split 2 : {my_string.split(\".\")}')\n",
    "print(f'count a : {my_string.count(\"a\")}')\n",
    "print(f'replace : {my_string.replace(\" \", \"_\")}')\n",
    "print(f'join    : {\"_\".join(my_string.split(\" \"))}')"
   ]
  },
  {
   "cell_type": "markdown",
   "metadata": {},
   "source": [
    "## Lists(arrays), tuples and sets"
   ]
  },
  {
   "cell_type": "code",
   "execution_count": 7,
   "metadata": {},
   "outputs": [
    {
     "name": "stdout",
     "output_type": "stream",
     "text": [
      "['__add__', '__class__', '__contains__', '__delattr__', '__delitem__', '__dir__', '__doc__', '__eq__', '__format__', '__ge__', '__getattribute__', '__getitem__', '__gt__', '__hash__', '__iadd__', '__imul__', '__init__', '__init_subclass__', '__iter__', '__le__', '__len__', '__lt__', '__mul__', '__ne__', '__new__', '__reduce__', '__reduce_ex__', '__repr__', '__reversed__', '__rmul__', '__setattr__', '__setitem__', '__sizeof__', '__str__', '__subclasshook__', 'append', 'clear', 'copy', 'count', 'extend', 'index', 'insert', 'pop', 'remove', 'reverse', 'sort']\n"
     ]
    }
   ],
   "source": [
    "# Lists:\n",
    "# dir is your friend: https://stackoverflow.com/a/48912069\n",
    "print(dir(list()))"
   ]
  },
  {
   "cell_type": "code",
   "execution_count": 8,
   "metadata": {},
   "outputs": [
    {
     "name": "stdout",
     "output_type": "stream",
     "text": [
      "popped element  : ['Sometimes', 'science', 'is', 'more', 'art', 'than', 'science.']\n",
      "1st element     : Sometimes\n",
      "2nd-4th elements: ['science', 'is', 'more']\n",
      "last 3 elements : ['art', 'than', 'science.']\n"
     ]
    }
   ],
   "source": [
    "\n",
    "# Be careful with list assignments!\n",
    "new_array = list(my_list)\n",
    "ptr_array = my_list\n",
    "\n",
    "# Slicing\n",
    "poped_array = ptr_array.pop()\n",
    "print(f'popped element  : {poped_array}')\n",
    "print(f'1st element     : {poped_array[0]}')\n",
    "print(f'2nd-4th elements: {poped_array[1:4]}')\n",
    "print(f'last 3 elements : {poped_array[-3:]}')\n"
   ]
  },
  {
   "cell_type": "code",
   "execution_count": 9,
   "metadata": {},
   "outputs": [
    {
     "name": "stdout",
     "output_type": "stream",
     "text": [
      "OG array : [1, 1, 3.5, 'Nobody exists on purpose.', 'Nobody belongs anywhere.', 'We’re all going to die.']\n",
      "Ptr array: [1, 1, 3.5, 'Nobody exists on purpose.', 'Nobody belongs anywhere.', 'We’re all going to die.']\n",
      "New array: [1, 1, 3.5, 'Nobody exists on purpose.', 'Nobody belongs anywhere.', 'We’re all going to die.', ['Sometimes', 'science', 'is', 'more', 'art', 'than', 'science.']]\n"
     ]
    }
   ],
   "source": [
    "\n",
    "# Be careful with list assignments!\n",
    "print(f'OG array : {my_list}')\n",
    "print(f'Ptr array: {ptr_array}')\n",
    "print(f'New array: {new_array}')\n"
   ]
  },
  {
   "cell_type": "code",
   "execution_count": 10,
   "metadata": {},
   "outputs": [
    {
     "name": "stdout",
     "output_type": "stream",
     "text": [
      "New array: [1, 'INSERTED', 1, 3.5, 'Nobody exists on purpose.', 'Nobody belongs anywhere.', 'We’re all going to die.', 'Changed Value']\n",
      "----------------------------------------------------------------------------------------------------\n",
      "New array: [1, 'INSERTED', 1, 3.5, 'Nobody exists on purpose.', 'Nobody belongs anywhere.', 'We’re all going to die.', 'Changed Value', ['APPENDED'], 'EXTENDED']\n",
      "----------------------------------------------------------------------------------------------------\n"
     ]
    }
   ],
   "source": [
    "# Re-assigning elements\n",
    "new_array[-1] = \"Changed Value\"\n",
    "new_array.insert(1,\"INSERTED\")\n",
    "print(f'New array: {new_array}')\n",
    "print('-'*100)\n",
    "\n",
    "# Append VS Extend\n",
    "new_array.append([\"APPENDED\"])\n",
    "new_array.extend([\"EXTENDED\"]) # equivalent to '+' list operator\n",
    "print(f'New array: {new_array}')\n",
    "print('-'*100)\n",
    "\n",
    "\n"
   ]
  },
  {
   "cell_type": "code",
   "execution_count": 11,
   "metadata": {},
   "outputs": [
    {
     "name": "stdout",
     "output_type": "stream",
     "text": [
      "['__add__', '__class__', '__contains__', '__delattr__', '__dir__', '__doc__', '__eq__', '__format__', '__ge__', '__getattribute__', '__getitem__', '__getnewargs__', '__gt__', '__hash__', '__init__', '__init_subclass__', '__iter__', '__le__', '__len__', '__lt__', '__mul__', '__ne__', '__new__', '__reduce__', '__reduce_ex__', '__repr__', '__rmul__', '__setattr__', '__sizeof__', '__str__', '__subclasshook__', 'count', 'index']\n",
      "----------------------------------------------------------------------------------------------------\n",
      "My Tuple 1st element : 1\n",
      "My Tuple last element: ['Sometimes', 'science', 'is', 'more', 'art', 'than', 'science.']\n"
     ]
    },
    {
     "ename": "TypeError",
     "evalue": "'tuple' object does not support item assignment",
     "output_type": "error",
     "traceback": [
      "\u001b[0;31m---------------------------------------------------------------------------\u001b[0m",
      "\u001b[0;31mTypeError\u001b[0m                                 Traceback (most recent call last)",
      "\u001b[1;32m/home/ctw01000/WS/PyCademy/day_1/Apprentice.ipynb Cell 19'\u001b[0m in \u001b[0;36m<module>\u001b[0;34m\u001b[0m\n\u001b[1;32m      <a href='vscode-notebook-cell:/home/ctw01000/WS/PyCademy/day_1/Apprentice.ipynb#ch0000018?line=4'>5</a>\u001b[0m \u001b[39mprint\u001b[39m(\u001b[39mf\u001b[39m\u001b[39m\"\u001b[39m\u001b[39mMy Tuple 1st element : \u001b[39m\u001b[39m{\u001b[39;00mmy_tuple[\u001b[39m0\u001b[39m]\u001b[39m}\u001b[39;00m\u001b[39m\"\u001b[39m)\n\u001b[1;32m      <a href='vscode-notebook-cell:/home/ctw01000/WS/PyCademy/day_1/Apprentice.ipynb#ch0000018?line=5'>6</a>\u001b[0m \u001b[39mprint\u001b[39m(\u001b[39mf\u001b[39m\u001b[39m\"\u001b[39m\u001b[39mMy Tuple last element: \u001b[39m\u001b[39m{\u001b[39;00mmy_tuple[\u001b[39m-\u001b[39m\u001b[39m1\u001b[39m]\u001b[39m}\u001b[39;00m\u001b[39m\"\u001b[39m)\n\u001b[0;32m----> <a href='vscode-notebook-cell:/home/ctw01000/WS/PyCademy/day_1/Apprentice.ipynb#ch0000018?line=7'>8</a>\u001b[0m my_tuple[\u001b[39m-\u001b[39m\u001b[39m1\u001b[39m] \u001b[39m=\u001b[39m \u001b[39m\"\u001b[39m\u001b[39msomething\u001b[39m\u001b[39m\"\u001b[39m\n",
      "\u001b[0;31mTypeError\u001b[0m: 'tuple' object does not support item assignment"
     ]
    }
   ],
   "source": [
    "# Tuple: similar to lists but cannot be changed\n",
    "print(dir(tuple))\n",
    "print('-'*100)\n",
    "\n",
    "print(f\"My Tuple 1st element : {my_tuple[0]}\")\n",
    "print(f\"My Tuple last element: {my_tuple[-1]}\")\n",
    "\n",
    "my_tuple[-1] = \"something\""
   ]
  },
  {
   "cell_type": "code",
   "execution_count": 12,
   "metadata": {},
   "outputs": [
    {
     "name": "stdout",
     "output_type": "stream",
     "text": [
      "['__and__', '__class__', '__contains__', '__delattr__', '__dir__', '__doc__', '__eq__', '__format__', '__ge__', '__getattribute__', '__gt__', '__hash__', '__iand__', '__init__', '__init_subclass__', '__ior__', '__isub__', '__iter__', '__ixor__', '__le__', '__len__', '__lt__', '__ne__', '__new__', '__or__', '__rand__', '__reduce__', '__reduce_ex__', '__repr__', '__ror__', '__rsub__', '__rxor__', '__setattr__', '__sizeof__', '__str__', '__sub__', '__subclasshook__', '__xor__', 'add', 'clear', 'copy', 'difference', 'difference_update', 'discard', 'intersection', 'intersection_update', 'isdisjoint', 'issubset', 'issuperset', 'pop', 'remove', 'symmetric_difference', 'symmetric_difference_update', 'union', 'update']\n",
      "----------------------------------------------------------------------------------------------------\n",
      "OG set : {1, 3.5, 'Nobody belongs anywhere.', 'We’re all going to die.', 'Nobody exists on purpose.'}\n",
      "NEW set: {3.5, 'Nobody belongs anywhere.', 'We’re all going to die.', 'Nobody exists on purpose.', 'New set element'}\n",
      "----------------------------------------------------------------------------------------------------\n",
      "Intersection : {3.5, 'Nobody exists on purpose.', 'Nobody belongs anywhere.', 'We’re all going to die.'}\n",
      "Difference OG vs NEW : {1}\n",
      "Difference NEW vs OG : {'New set element'}\n"
     ]
    }
   ],
   "source": [
    "# Sets: similar to lists but cannot have duplicate elements\n",
    "print(dir(set))\n",
    "print('-' * 100)\n",
    "\n",
    "new_set = set(list(my_set)[1:])\n",
    "new_set.add(3.5)\n",
    "new_set.add(\"New set element\")\n",
    "\n",
    "print(f'OG set : {my_set}')\n",
    "print(f'NEW set: {new_set}')\n",
    "print('-'*100)\n",
    "\n",
    "print(f'Intersection : {my_set.intersection(new_set)}')\n",
    "print(f'Difference OG vs NEW : {my_set.difference(new_set)}')\n",
    "print(f'Difference NEW vs OG : {new_set.difference(my_set)}')"
   ]
  },
  {
   "cell_type": "markdown",
   "metadata": {},
   "source": [
    "## Dictionaries"
   ]
  },
  {
   "cell_type": "code",
   "execution_count": 13,
   "metadata": {},
   "outputs": [
    {
     "name": "stdout",
     "output_type": "stream",
     "text": [
      "['__class__', '__contains__', '__delattr__', '__delitem__', '__dir__', '__doc__', '__eq__', '__format__', '__ge__', '__getattribute__', '__getitem__', '__gt__', '__hash__', '__init__', '__init_subclass__', '__iter__', '__le__', '__len__', '__lt__', '__ne__', '__new__', '__reduce__', '__reduce_ex__', '__repr__', '__reversed__', '__setattr__', '__setitem__', '__sizeof__', '__str__', '__subclasshook__', 'clear', 'copy', 'fromkeys', 'get', 'items', 'keys', 'pop', 'popitem', 'setdefault', 'update', 'values']\n",
      "----------------------------------------------------------------------------------------------------\n",
      "{'Monty': 'Python', 'Rick': 'Morty', 'Set': {1, 3.5, 'Nobody belongs anywhere.', 'We’re all going to die.', 'Nobody exists on purpose.'}}\n",
      "Monty Python\n",
      "----------------------------------------------------------------------------------------------------\n",
      "dict_keys(['Monty', 'Rick', 'Set'])\n",
      "dict_values(['Python', 'Morty', {1, 3.5, 'Nobody belongs anywhere.', 'We’re all going to die.', 'Nobody exists on purpose.'}])\n",
      "dict_items([('Monty', 'Python'), ('Rick', 'Morty'), ('Set', {1, 3.5, 'Nobody belongs anywhere.', 'We’re all going to die.', 'Nobody exists on purpose.'})])\n"
     ]
    }
   ],
   "source": [
    "# Dictionaries\n",
    "print(dir(dict))\n",
    "print('-'*100)\n",
    "\n",
    "print(my_dictionary)\n",
    "print(f'Monty {my_dictionary[\"Monty\"]}')\n",
    "print('-'*100)\n",
    "\n",
    "print(my_dictionary.keys())\n",
    "print(my_dictionary.values())\n",
    "print(my_dictionary.items())"
   ]
  },
  {
   "cell_type": "code",
   "execution_count": 14,
   "metadata": {},
   "outputs": [
    {
     "name": "stdout",
     "output_type": "stream",
     "text": [
      "Rick & Morty\n",
      "Timon & Pumba\n",
      "----------------------------------------------------------------------------------------------------\n",
      "Dict set update : {1, 3.5, 'Nobody belongs anywhere.', 'We’re all going to die.', 'Nobody exists on purpose.', 'Some entry'}\n",
      "Dict set2 update: {'Some entry 2'}\n"
     ]
    },
    {
     "ename": "KeyError",
     "evalue": "'Set3'",
     "output_type": "error",
     "traceback": [
      "\u001b[0;31m---------------------------------------------------------------------------\u001b[0m",
      "\u001b[0;31mKeyError\u001b[0m                                  Traceback (most recent call last)",
      "\u001b[1;32m/home/ctw01000/WS/PyCademy/day_1/Apprentice.ipynb Cell 23'\u001b[0m in \u001b[0;36m<module>\u001b[0;34m\u001b[0m\n\u001b[1;32m     <a href='vscode-notebook-cell:/home/ctw01000/WS/PyCademy/day_1/Apprentice.ipynb#ch0000022?line=15'>16</a>\u001b[0m dict_set \u001b[39m=\u001b[39m my_dictionary\u001b[39m.\u001b[39mget(\u001b[39m\"\u001b[39m\u001b[39mSet3\u001b[39m\u001b[39m\"\u001b[39m, \u001b[39mset\u001b[39m())\n\u001b[1;32m     <a href='vscode-notebook-cell:/home/ctw01000/WS/PyCademy/day_1/Apprentice.ipynb#ch0000022?line=16'>17</a>\u001b[0m dict_set\u001b[39m.\u001b[39madd(\u001b[39m\"\u001b[39m\u001b[39mSome entry 3\u001b[39m\u001b[39m\"\u001b[39m)\n\u001b[0;32m---> <a href='vscode-notebook-cell:/home/ctw01000/WS/PyCademy/day_1/Apprentice.ipynb#ch0000022?line=17'>18</a>\u001b[0m \u001b[39mprint\u001b[39m(\u001b[39mf\u001b[39m\u001b[39m'\u001b[39m\u001b[39mDict set3 update: \u001b[39m\u001b[39m{\u001b[39;00mmy_dictionary[\u001b[39m\"\u001b[39m\u001b[39mSet3\u001b[39m\u001b[39m\"\u001b[39m]\u001b[39m}\u001b[39;00m\u001b[39m'\u001b[39m)\n",
      "\u001b[0;31mKeyError\u001b[0m: 'Set3'"
     ]
    }
   ],
   "source": [
    "## Get Vs Setdefault\n",
    "# Provides a fallback option\n",
    "print(f'Rick & {my_dictionary.get(\"Rick\", \"NA\")}')\n",
    "print(f'Timon & {my_dictionary.get(\"Timon\", \"Pumba\")}')\n",
    "print('-'*100)\n",
    "\n",
    "dict_set = my_dictionary.setdefault(\"Set\", set())\n",
    "dict_set.add(\"Some entry\")\n",
    "print(f'Dict set update : {my_dictionary[\"Set\"]}')\n",
    "\n",
    "dict_set = my_dictionary.setdefault(\"Set2\", set())\n",
    "dict_set.add(\"Some entry 2\")\n",
    "print(f'Dict set2 update: {my_dictionary[\"Set2\"]}')\n",
    "\n",
    "# Does not create a new entry\n",
    "dict_set = my_dictionary.get(\"Set3\", set())\n",
    "dict_set.add(\"Some entry 3\")\n",
    "print(f'Dict set3 update: {my_dictionary[\"Set3\"]}')\n"
   ]
  },
  {
   "cell_type": "markdown",
   "metadata": {},
   "source": [
    "# Flow Control"
   ]
  },
  {
   "cell_type": "markdown",
   "metadata": {},
   "source": [
    "## Conditionals: If, else, elif"
   ]
  },
  {
   "cell_type": "code",
   "execution_count": 15,
   "metadata": {},
   "outputs": [
    {
     "name": "stdout",
     "output_type": "stream",
     "text": [
      "Inside if, condition is True.\n"
     ]
    }
   ],
   "source": [
    "condition = True\n",
    "# condition = False\n",
    "if condition:\n",
    "    print(f'Inside if, condition is {condition}.')\n",
    "else:\n",
    "    print(f'Inside else, condition is {condition}.')"
   ]
  },
  {
   "cell_type": "code",
   "execution_count": 16,
   "metadata": {},
   "outputs": [
    {
     "name": "stdout",
     "output_type": "stream",
     "text": [
      "Found Ricks sidekick.\n"
     ]
    }
   ],
   "source": [
    "# elif\n",
    "if my_dictionary[\"Rick\"] == \"Sanchez\":\n",
    "    print(\"Found Rick last name!\")\n",
    "elif my_dictionary[\"Rick\"] == \"Morty\":\n",
    "    print(\"Found Ricks sidekick.\")\n",
    "else:\n",
    "    print(\"No info for Rick.\")"
   ]
  },
  {
   "cell_type": "code",
   "execution_count": 17,
   "metadata": {},
   "outputs": [
    {
     "name": "stdout",
     "output_type": "stream",
     "text": [
      "My ptr_array is the same as my_list.\n"
     ]
    }
   ],
   "source": [
    "# is: checks if variable points to the same memory space\n",
    "if new_array is my_list:\n",
    "    print(\"My new_array is the same as my_list.\")\n",
    "elif ptr_array is my_list:\n",
    "    print(\"My ptr_array is the same as my_list.\")\n"
   ]
  },
  {
   "cell_type": "code",
   "execution_count": 18,
   "metadata": {},
   "outputs": [
    {
     "name": "stdout",
     "output_type": "stream",
     "text": [
      "Found a rabbit somewhere.\n",
      "Didn't found Nobody in list\n"
     ]
    }
   ],
   "source": [
    "# in: string\n",
    "if \"rabbit\" in my_string :\n",
    "    print(\"Found a rabbit somewhere.\")\n",
    "\n",
    "# in: list\n",
    "if \"Nobody\" in my_list:\n",
    "    print(\"Found Nobody in list\")\n",
    "else:\n",
    "    print(\"Didn't found Nobody in list\")"
   ]
  },
  {
   "cell_type": "code",
   "execution_count": 19,
   "metadata": {},
   "outputs": [
    {
     "name": "stdout",
     "output_type": "stream",
     "text": [
      "Found a dynamite rabbit somewhere.. maybe?\n",
      "Found a pointer to my_list\n",
      "Found a pointer to my list.. perhaps?\n"
     ]
    }
   ],
   "source": [
    "# and\n",
    "if \"rabbit\" in my_string and \"cute\" in my_string:\n",
    "    print(\"Found a cute rabbit somewhere.. maybe?\")\n",
    "elif  \"rabbit\" in my_string and \"dynamite\" in my_string:\n",
    "    print(\"Found a dynamite rabbit somewhere.. maybe?\")\n",
    "\n",
    "# or: \n",
    "if new_array is my_list or ptr_array is my_list:\n",
    "    print(\"Found a pointer to my_list\")\n",
    "\n",
    "if my_list in [new_array, ptr_array]:\n",
    "    print(\"Found a pointer to my list.. perhaps?\")"
   ]
  },
  {
   "cell_type": "code",
   "execution_count": 20,
   "metadata": {},
   "outputs": [
    {
     "name": "stdout",
     "output_type": "stream",
     "text": [
      "knight_says: Niii!\n",
      "----------------------------------------------------------------------------------------------------\n",
      "Printed so test_condition must be True.\n"
     ]
    },
    {
     "data": {
      "text/plain": [
       "True"
      ]
     },
     "execution_count": 20,
     "metadata": {},
     "output_type": "execute_result"
    }
   ],
   "source": [
    "## Bonus round\n",
    "# Tip1 : if conditions can be used during variable assignment\n",
    "knight_says = 'Enchanter who lives in the woods.' if 'Shrubbery' in my_dictionary.keys() else 'Niii!'\n",
    "print(f'knight_says: {knight_says}')\n",
    "print('-'*100)\n",
    "\n",
    "# Tip2 : 'and' and 'or' can also be used as a flow control mechanism\n",
    "test_condition = True\n",
    "# And: evaluates until not True\n",
    "test_condition and print(\"Printed so test_condition must be True.\")\n",
    "# Or: evaluates until True\n",
    "test_condition or print(\"Printed so test_condition must be False.\")"
   ]
  },
  {
   "cell_type": "code",
   "execution_count": 21,
   "metadata": {},
   "outputs": [
    {
     "name": "stdout",
     "output_type": "stream",
     "text": [
      "knight_says: Niii!\n"
     ]
    }
   ],
   "source": [
    "# Try out not :)\n",
    "# bonus:\n",
    "knight_says = 'Enchanter who lives in the woods.' if 'Shrubbery' in my_dictionary.keys() else 'Niii!'\n",
    "print(f'knight_says: {knight_says}')"
   ]
  },
  {
   "cell_type": "code",
   "execution_count": 22,
   "metadata": {},
   "outputs": [
    {
     "name": "stdout",
     "output_type": "stream",
     "text": [
      "my_float is PI.\n"
     ]
    }
   ],
   "source": [
    "## switch: someday in python 3.10\n",
    "# match my_float:\n",
    "#     case 1.6180:\n",
    "#         print(\"my_float is the golden ratio.\")\n",
    "#     case 2.7182:\n",
    "#         print(\"my_float is the euler's number.\")\n",
    "#     case 3.1416:\n",
    "#         print(\"my_float is PI.\")\n",
    "#    case _:\n",
    "#        print(\"I don't know man..\")\n",
    "\n",
    "# Meanwhile dictionaries provide on way of doing it.\n",
    "my_switch = {\n",
    "    1.6180: \"my_float is the golden ratio.\",\n",
    "    2.7182: \"my_float is the euler's number.\",\n",
    "    3.1416: \"my_float is PI.\",\n",
    "}\n",
    "print(my_switch.get(my_float, \"I don't know man..\"))"
   ]
  },
  {
   "cell_type": "markdown",
   "metadata": {},
   "source": [
    "## Loops"
   ]
  },
  {
   "cell_type": "markdown",
   "metadata": {},
   "source": [
    "### For & while"
   ]
  },
  {
   "cell_type": "code",
   "execution_count": 23,
   "metadata": {},
   "outputs": [
    {
     "name": "stdout",
     "output_type": "stream",
     "text": [
      "1\n",
      "1\n",
      "3.5\n",
      "Nobody exists on purpose.\n",
      "Nobody belongs anywhere.\n",
      "We’re all going to die.\n",
      "----------------------------------------------------------------------------------------------------\n",
      "1\n",
      "2\n",
      "3\n",
      "4\n",
      "5\n"
     ]
    }
   ],
   "source": [
    "# Loop over list\n",
    "for element in my_list:\n",
    "    print(element)\n",
    "print('-'*100)\n",
    "\n",
    "# Do something while (until)\n",
    "counter = 0\n",
    "while counter < 5:\n",
    "    counter += 1\n",
    "    print(counter)"
   ]
  },
  {
   "cell_type": "code",
   "execution_count": 24,
   "metadata": {},
   "outputs": [
    {
     "name": "stdout",
     "output_type": "stream",
     "text": [
      "dict_keys(['Monty', 'Rick', 'Set', 'Set2'])\n",
      "Monty Python\n",
      "----------------------------------------------------------------------------------------------------\n",
      "Monty\n",
      "Rick\n",
      "Set\n"
     ]
    }
   ],
   "source": [
    "# Continue\n",
    "print(my_dictionary.keys())\n",
    "for key, value in my_dictionary.items():\n",
    "    if key != \"Monty\":\n",
    "        continue\n",
    "    print(key, value)\n",
    "print('-'*100)\n",
    "\n",
    "# Break\n",
    "for key in my_dictionary.keys():\n",
    "    print(key)\n",
    "    if key == \"Set\":\n",
    "        break"
   ]
  },
  {
   "cell_type": "code",
   "execution_count": 25,
   "metadata": {},
   "outputs": [
    {
     "name": "stdout",
     "output_type": "stream",
     "text": [
      "----------------------------------------------------------------------------------------------------\n",
      "No breaks during loop.\n"
     ]
    }
   ],
   "source": [
    "# Bonus: for, else (if no breaks)\n",
    "print('-'*100)\n",
    "target = \"Set3\"\n",
    "for key in my_dictionary.keys():\n",
    "    if key == target:\n",
    "        print(f'Found target \"{target}\" in dict keys,')\n",
    "        break\n",
    "else:\n",
    "    print(\"No breaks during loop.\")"
   ]
  },
  {
   "cell_type": "markdown",
   "metadata": {},
   "source": [
    "### List Compreehnsion"
   ]
  },
  {
   "cell_type": "code",
   "execution_count": 26,
   "metadata": {},
   "outputs": [
    {
     "name": "stdout",
     "output_type": "stream",
     "text": [
      "all strings in my_list: ['Nobody exists on purpose.', 'Nobody belongs anywhere.', 'We’re all going to die.']\n",
      "----------------------------------------------------------------------------------------------------\n",
      "Monty -> Python\n",
      "Rick -> Morty\n",
      "Set -> {1, 3.5, 'Nobody belongs anywhere.', 'We’re all going to die.', 'Nobody exists on purpose.', 'Some entry'}\n",
      "Set2 -> {'Some entry 2'}\n"
     ]
    },
    {
     "data": {
      "text/plain": [
       "[None, None, None, None]"
      ]
     },
     "execution_count": 26,
     "metadata": {},
     "output_type": "execute_result"
    }
   ],
   "source": [
    "str_list = [element for element in my_list if type(element) is str]\n",
    "print(f'all strings in my_list: {str_list}')\n",
    "print('-'*100)\n",
    "\n",
    "[print(f'{key} -> {value}') for key, value in my_dictionary.items()]\n",
    "\n",
    "# is there some weirdness?\n",
    "# print(print('printing a print?!?!'))"
   ]
  },
  {
   "cell_type": "markdown",
   "metadata": {},
   "source": [
    "## Try, catch and finally"
   ]
  },
  {
   "cell_type": "code",
   "execution_count": 27,
   "metadata": {},
   "outputs": [
    {
     "name": "stdout",
     "output_type": "stream",
     "text": [
      "Something failed while changing my_tuple.\n",
      "'tuple' object does not support item assignment\n",
      "On with it.\n"
     ]
    }
   ],
   "source": [
    "try:\n",
    "    my_tuple[-1] = \"something\"\n",
    "except Exception as exception:\n",
    "    print(\"Something failed while changing my_tuple.\")\n",
    "    print(exception)\n",
    "finally:\n",
    "    print(\"On with it.\")"
   ]
  },
  {
   "cell_type": "code",
   "execution_count": 28,
   "metadata": {},
   "outputs": [
    {
     "name": "stdout",
     "output_type": "stream",
     "text": [
      "my_tupple  does not work like that.\n",
      "'tuple' object does not support item assignment\n",
      "On with it.\n",
      "----------------------------------------------------------------------------------------------------\n",
      "my_dictionary does not have that key.\n",
      "'Set3'\n",
      "On with it.\n"
     ]
    }
   ],
   "source": [
    "# Specific Exceptions\n",
    "try:\n",
    "    my_tuple[-1] = \"something\"\n",
    "except TypeError as exception:\n",
    "    print(\"my_tupple  does not work like that.\")\n",
    "    print(exception)\n",
    "finally:\n",
    "    print(\"On with it.\")\n",
    "print('-'*100)\n",
    "\n",
    "try:\n",
    "    some_set = my_dictionary[\"Set3\"]\n",
    "except TypeError as exception:\n",
    "    print(\"my_dictionary does not work like that.\")\n",
    "    print(exception)\n",
    "except KeyError as exception:\n",
    "    print(\"my_dictionary does not have that key.\")\n",
    "    print(exception)\n",
    "except Exception as exception:\n",
    "    print(\"I don't know what.. but something went wrong.\")\n",
    "finally:\n",
    "    print(\"On with it.\")"
   ]
  },
  {
   "cell_type": "markdown",
   "metadata": {},
   "source": [
    "## Exceptions and Assertions"
   ]
  },
  {
   "cell_type": "markdown",
   "metadata": {},
   "source": [
    "[Assert](https://docs.python.org/3/reference/simple_stmts.html#the-assert-statement) statements are a convenient way to insert debugging assertions into a program. <br>\n",
    "Check [assertions script](scripts/02_assertions.py).\n",
    "\n",
    "[Exceptions](https://www.tutorialspoint.com/python/python_exceptions.html) are events, that occure during the execution of a program and disrupt the normal flow of the program's instructions."
   ]
  },
  {
   "cell_type": "markdown",
   "metadata": {},
   "source": [
    "# File Handling (I/O)"
   ]
  },
  {
   "cell_type": "markdown",
   "metadata": {},
   "source": [
    "|Operator|Mode|Description|\n",
    "|--|--|--|\n",
    "|r|read|Read only mode. (default/required)|\n",
    "|w|Write|Write only mode.(required)|\n",
    "|+|update|Update mode, meaning the file can be read and wrote to.|\n",
    "|a|append|Append to file existing content.|\n",
    "|x|exclusive creation|Fails if the file already exists.|\n",
    "|t|text|Open in Text mode. (default)|\n",
    "|b|binary|Open in binary mode.|\n"
   ]
  },
  {
   "cell_type": "code",
   "execution_count": 29,
   "metadata": {},
   "outputs": [
    {
     "name": "stdout",
     "output_type": "stream",
     "text": [
      "['_CHUNK_SIZE', '__class__', '__del__', '__delattr__', '__dict__', '__dir__', '__doc__', '__enter__', '__eq__', '__exit__', '__format__', '__ge__', '__getattribute__', '__gt__', '__hash__', '__init__', '__init_subclass__', '__iter__', '__le__', '__lt__', '__ne__', '__new__', '__next__', '__reduce__', '__reduce_ex__', '__repr__', '__setattr__', '__sizeof__', '__str__', '__subclasshook__', '_checkClosed', '_checkReadable', '_checkSeekable', '_checkWritable', '_finalizing', 'buffer', 'close', 'closed', 'detach', 'encoding', 'errors', 'fileno', 'flush', 'isatty', 'line_buffering', 'mode', 'name', 'newlines', 'read', 'readable', 'readline', 'readlines', 'reconfigure', 'seek', 'seekable', 'tell', 'truncate', 'writable', 'write', 'write_through', 'writelines']\n",
      "----------------------------------------------------------------------------------------------------\n",
      "['# call: python3 -O 02_assertions.py\\n', 'my_list = list(range(10))\\n', \"print(f'my_list : {my_list}')\\n\", '\\n', 'assert \\'9\\' in my_list, \"9 is in my list\"\\n', '\\n', 'print(\"All good in the Hood.\")\\n']\n"
     ]
    },
    {
     "ename": "ValueError",
     "evalue": "I/O operation on closed file.",
     "output_type": "error",
     "traceback": [
      "\u001b[0;31m---------------------------------------------------------------------------\u001b[0m",
      "\u001b[0;31mValueError\u001b[0m                                Traceback (most recent call last)",
      "\u001b[1;32m/home/ctw01000/WS/PyCademy/day_1/Apprentice.ipynb Cell 48'\u001b[0m in \u001b[0;36m<module>\u001b[0;34m\u001b[0m\n\u001b[1;32m      <a href='vscode-notebook-cell:/home/ctw01000/WS/PyCademy/day_1/Apprentice.ipynb#ch0000047?line=2'>3</a>\u001b[0m     \u001b[39mprint\u001b[39m(\u001b[39m'\u001b[39m\u001b[39m-\u001b[39m\u001b[39m'\u001b[39m\u001b[39m*\u001b[39m\u001b[39m100\u001b[39m)\n\u001b[1;32m      <a href='vscode-notebook-cell:/home/ctw01000/WS/PyCademy/day_1/Apprentice.ipynb#ch0000047?line=3'>4</a>\u001b[0m     \u001b[39mprint\u001b[39m(script\u001b[39m.\u001b[39mreadlines())\n\u001b[0;32m----> <a href='vscode-notebook-cell:/home/ctw01000/WS/PyCademy/day_1/Apprentice.ipynb#ch0000047?line=5'>6</a>\u001b[0m script\u001b[39m.\u001b[39;49mreadlines()\n",
      "\u001b[0;31mValueError\u001b[0m: I/O operation on closed file."
     ]
    }
   ],
   "source": [
    "with open(\"scripts/02_assertions.py\", 'r') as script:\n",
    "    print(dir(script))\n",
    "    print('-'*100)\n",
    "    print(script.readlines())\n",
    "\n",
    "script.readlines()"
   ]
  },
  {
   "cell_type": "code",
   "execution_count": 30,
   "metadata": {},
   "outputs": [
    {
     "name": "stdout",
     "output_type": "stream",
     "text": [
      "['_CHUNK_SIZE', '__class__', '__del__', '__delattr__', '__dict__', '__dir__', '__doc__', '__enter__', '__eq__', '__exit__', '__format__', '__ge__', '__getattribute__', '__gt__', '__hash__', '__init__', '__init_subclass__', '__iter__', '__le__', '__lt__', '__ne__', '__new__', '__next__', '__reduce__', '__reduce_ex__', '__repr__', '__setattr__', '__sizeof__', '__str__', '__subclasshook__', '_checkClosed', '_checkReadable', '_checkSeekable', '_checkWritable', '_finalizing', 'buffer', 'close', 'closed', 'detach', 'encoding', 'errors', 'fileno', 'flush', 'isatty', 'line_buffering', 'mode', 'name', 'newlines', 'read', 'readable', 'readline', 'readlines', 'reconfigure', 'seek', 'seekable', 'tell', 'truncate', 'writable', 'write', 'write_through', 'writelines']\n",
      "----------------------------------------------------------------------------------------------------\n",
      "['# call: python3 -O 02_assertions.py\\n', 'my_list = list(range(10))\\n', \"print(f'my_list : {my_list}')\\n\", '\\n', 'assert \\'9\\' in my_list, \"9 is in my list\"\\n', '\\n', 'print(\"All good in the Hood.\")\\n']\n"
     ]
    }
   ],
   "source": [
    "script = open(\"scripts/02_assertions.py\", 'r')\n",
    "print(dir(script))\n",
    "print('-'*100)\n",
    "print(script.readlines())"
   ]
  },
  {
   "cell_type": "code",
   "execution_count": 31,
   "metadata": {},
   "outputs": [],
   "source": [
    "with open(\"Test_file\", 'w') as script:\n",
    "    script.write(\"New script line.\")\n",
    "    script.write(\"Another script line.\")\n",
    "    script.seek(1)\n",
    "    script.write(\"X marks the spot\")"
   ]
  },
  {
   "cell_type": "code",
   "execution_count": 32,
   "metadata": {},
   "outputs": [
    {
     "name": "stdout",
     "output_type": "stream",
     "text": [
      "script line: <class 'bytes'> -> b'NX marks the spotnother script line.'\n",
      "Bytes    : [78, 88, 32, 109, 97]\n",
      "Bytes bin: ['0b1001110', '0b1011000', '0b100000', '0b1101101', '0b1100001']\n",
      "Bytes hex: ['0x4e', '0x58', '0x20', '0x6d', '0x61']\n",
      "Bytes oct: ['0o116', '0o130', '0o40', '0o155', '0o141']\n"
     ]
    }
   ],
   "source": [
    "with open(\"Test_file\", 'rb') as script:\n",
    "    line = script.readline()\n",
    "    print(f'script line: {type(line)} -> {line}')\n",
    "    print(f'Bytes    : {list(line[:5])}')\n",
    "    print(f'Bytes bin: {[bin(i) for i in list(line[:5])]}')\n",
    "    print(f'Bytes hex: {[hex(i) for i in list(line[:5])]}')\n",
    "    print(f'Bytes oct: {[oct(i) for i in list(line[:5])]}')"
   ]
  },
  {
   "cell_type": "markdown",
   "metadata": {},
   "source": [
    "# Functions\n",
    "Also check the Python [builtins](https://docs.python.org/3/library/functions.html)."
   ]
  },
  {
   "cell_type": "code",
   "execution_count": 33,
   "metadata": {},
   "outputs": [
    {
     "name": "stdout",
     "output_type": "stream",
     "text": [
      "<built-in function print>\n",
      "<built-in method setdefault of dict object at 0x7fdfddd48f80>\n",
      "<built-in method setdefault of dict object at 0x7fdfdd9bab40>\n"
     ]
    }
   ],
   "source": [
    "print(print)\n",
    "print(my_dictionary.setdefault)\n",
    "impostor_dict = {}\n",
    "print(impostor_dict.setdefault)"
   ]
  },
  {
   "cell_type": "code",
   "execution_count": 34,
   "metadata": {},
   "outputs": [
    {
     "name": "stdout",
     "output_type": "stream",
     "text": [
      "My: times_2(10) -> 20\n",
      "There's more:  noice!\n"
     ]
    }
   ],
   "source": [
    "def my_print(msg, extra = None):\n",
    "    print(\"My:\", msg)\n",
    "    if extra:\n",
    "        print(\"There's more: \", extra)\n",
    "\n",
    "def times_2(number):\n",
    "    return number * 2\n",
    "\n",
    "foo_var = f'times_2(10) -> {times_2(10)}'\n",
    "bar_var = \"noice!\"\n",
    "my_print(foo_var, bar_var)"
   ]
  },
  {
   "cell_type": "code",
   "execution_count": 35,
   "metadata": {},
   "outputs": [
    {
     "name": "stdout",
     "output_type": "stream",
     "text": [
      "1st: asd\n",
      "Arguments     :  <class 'tuple'> (123, 'something else')\n",
      "Key word Args :  <class 'dict'> {'flag': 'ON', 'debug': 'OFF'}\n"
     ]
    }
   ],
   "source": [
    "def my_better_print(first, *args, **kwargs):\n",
    "    print(\"1st:\", first)\n",
    "    if args:\n",
    "        print(\"Arguments     : \", type(args), args)\n",
    "    if kwargs:\n",
    "        print(\"Key word Args : \", type(kwargs), kwargs)\n",
    "\n",
    "my_better_print(\"asd\", 123, \"something else\", flag = \"ON\", debug = \"OFF\")"
   ]
  },
  {
   "cell_type": "code",
   "execution_count": 36,
   "metadata": {},
   "outputs": [
    {
     "name": "stdout",
     "output_type": "stream",
     "text": [
      "1st: ['Sad', 'But', 'True']\n",
      "----------------------------------------------------------------------------------------------------\n",
      "1st: Sad\n",
      "Arguments     :  <class 'tuple'> ('But', 'True')\n",
      "----------------------------------------------------------------------------------------------------\n",
      "1st: {'Monty': 'Python', 'Rick': 'Morty', 'Set': {1, 3.5, 'Nobody belongs anywhere.', 'We’re all going to die.', 'Nobody exists on purpose.', 'Some entry'}, 'Set2': {'Some entry 2'}}\n",
      "----------------------------------------------------------------------------------------------------\n",
      "1st: Monty\n",
      "Arguments     :  <class 'tuple'> ('Rick', 'Set', 'Set2')\n",
      "----------------------------------------------------------------------------------------------------\n",
      "1st: place holder\n",
      "Key word Args :  <class 'dict'> {'Monty': 'Python', 'Rick': 'Morty', 'Set': {1, 3.5, 'Nobody belongs anywhere.', 'We’re all going to die.', 'Nobody exists on purpose.', 'Some entry'}, 'Set2': {'Some entry 2'}}\n"
     ]
    }
   ],
   "source": [
    "# Bonus: Expanding a list into arguments\n",
    "foo_var = [\"Sad\", \"But\", \"True\"]\n",
    "my_better_print(foo_var)\n",
    "print('-'*100)\n",
    "my_better_print(*foo_var)\n",
    "print('-'*100)\n",
    "\n",
    "# Bonus: Expanding a dict into keyword arguments\n",
    "my_better_print(my_dictionary)\n",
    "print('-'*100)\n",
    "my_better_print(*my_dictionary)\n",
    "print('-'*100)\n",
    "my_better_print('place holder', **my_dictionary)"
   ]
  },
  {
   "cell_type": "markdown",
   "metadata": {},
   "source": [
    "# Classes"
   ]
  },
  {
   "cell_type": "markdown",
   "metadata": {},
   "source": [
    "Python is an object oriented programming language and almost **everything in Python is an object**, with properties and methods.\n",
    "\n",
    "A Class is like an object constructor, or a \"blueprint\" for creating objects."
   ]
  },
  {
   "cell_type": "code",
   "execution_count": 37,
   "metadata": {},
   "outputs": [
    {
     "name": "stdout",
     "output_type": "stream",
     "text": [
      "A Robot was initialized.\n",
      "<__main__.Robot object at 0x7fdfdd9c35e0>\n",
      "['__class__', '__delattr__', '__dict__', '__dir__', '__doc__', '__eq__', '__format__', '__ge__', '__getattribute__', '__gt__', '__hash__', '__init__', '__init_subclass__', '__le__', '__lt__', '__module__', '__ne__', '__new__', '__reduce__', '__reduce_ex__', '__repr__', '__setattr__', '__sizeof__', '__str__', '__subclasshook__', '__weakref__', '_purpose', 'evaluate', 'give_new_purpose', 'purpose']\n",
      "----------------------------------------------------------------------------------------------------\n",
      "Pass the butter.\n",
      "Oh my god....\n",
      "----------------------------------------------------------------------------------------------------\n",
      "Vacuum the house.\n",
      "At least its honest work!!\n"
     ]
    }
   ],
   "source": [
    "class Robot:\n",
    "    def __init__(self, purpose = \"Pass the butter.\"):\n",
    "        print(\"A Robot was initialized.\")\n",
    "        self._purpose = purpose\n",
    "\n",
    "    def give_new_purpose(self, new_purpose):\n",
    "        self._purpose = new_purpose\n",
    "\n",
    "    def purpose(self):\n",
    "        return self._purpose\n",
    "\n",
    "    def evaluate(self):\n",
    "        if \"butter\" in self._purpose.lower():\n",
    "            return \"Oh my god....\"\n",
    "        else:\n",
    "            return \"At least its honest work!!\"\n",
    "\n",
    "my_robot = Robot()\n",
    "print(my_robot)\n",
    "print(dir(my_robot))\n",
    "print('-'*100)\n",
    "\n",
    "print(my_robot.purpose())\n",
    "print(my_robot.evaluate())\n",
    "print('-'*100)\n",
    "\n",
    "my_robot.give_new_purpose(\"Vacuum the house.\")\n",
    "print(my_robot.purpose())\n",
    "print(my_robot.evaluate())"
   ]
  },
  {
   "cell_type": "code",
   "execution_count": 38,
   "metadata": {},
   "outputs": [
    {
     "name": "stdout",
     "output_type": "stream",
     "text": [
      "A Bender unit was initialized.\n",
      "A Robot was initialized.\n",
      "Bender unit name     : Bender Rodriguez\n",
      "Bender unit purpose  : Bend stuff.\n",
      "Bender unit evaluate : Bite my shinny metal ass!\n"
     ]
    }
   ],
   "source": [
    "class Bender(Robot):\n",
    "    def __init__(self, name = \"Rodriguez\"):\n",
    "        print(\"A Bender unit was initialized.\")\n",
    "        self.__name = name\n",
    "        super().__init__(\"Bend stuff.\")\n",
    "\n",
    "    def get_name(self):\n",
    "        return f'Bender {self.__name}'\n",
    "\n",
    "    def evaluate(self):\n",
    "        return \"Bite my shinny metal ass!\"\n",
    "\n",
    "bender_unit = Bender()\n",
    "print(f\"Bender unit name     : {bender_unit.get_name()}\")\n",
    "print(f\"Bender unit purpose  : {bender_unit.purpose()}\")\n",
    "print(f\"Bender unit evaluate : {bender_unit.evaluate()}\")"
   ]
  },
  {
   "cell_type": "code",
   "execution_count": 39,
   "metadata": {},
   "outputs": [
    {
     "name": "stdout",
     "output_type": "stream",
     "text": [
      "A Robot was initialized.\n",
      "A Diffirential Platform was initialized.\n",
      "Cleaner purpose : Vacuum the dust.\n",
      "Cleaner eval    : At least its honest work!!\n",
      "moving to: (100, 50)\n",
      "Calculating angle.. rotating\n",
      "Calculating distance.. moving forward\n"
     ]
    }
   ],
   "source": [
    "class DifferentialPlatform:\n",
    "    def __init__(self, wheel_size = 1, wheel_distance = 10, position = (0,0)):\n",
    "        print(\"A Differential Platform was initialized.\")\n",
    "        self.wheels = {\n",
    "            'size': wheel_size,\n",
    "            'distance': wheel_distance,\n",
    "        }\n",
    "        self.__position = {\n",
    "            'x': position[0],\n",
    "            'y': position[1],\n",
    "        }\n",
    "\n",
    "    def move(self, relative_position):\n",
    "        print(\"moving to:\", relative_position)\n",
    "        print(\"Calculating angle.. rotating\")\n",
    "        print(\"Calculating distance.. moving forward\")\n",
    "\n",
    "    def __turn_left_wheel(self, angle):\n",
    "        ...\n",
    "\n",
    "    def __turn_right_wheel(self, angle):\n",
    "        pass\n",
    "\n",
    "class VacuumBot(Robot, DifferentialPlatform):\n",
    "    def __init__(self):\n",
    "        Robot.__init__(self, purpose = \"Vacuum the dust.\")\n",
    "        DifferentialPlatform.__init__(self, wheel_size = 0.5)\n",
    "\n",
    "cleaner = VacuumBot()\n",
    "\n",
    "print(f'Cleaner purpose : {cleaner.purpose()}')\n",
    "print(f'Cleaner eval    : {cleaner.evaluate()}')\n",
    "cleaner.move((100, 50))\n"
   ]
  }
 ],
 "metadata": {
  "kernelspec": {
   "display_name": "Python 3.8.10 64-bit",
   "language": "python",
   "name": "python3"
  },
  "language_info": {
   "codemirror_mode": {
    "name": "ipython",
    "version": 3
   },
   "file_extension": ".py",
   "mimetype": "text/x-python",
   "name": "python",
   "nbconvert_exporter": "python",
   "pygments_lexer": "ipython3",
   "version": "3.8.10"
  },
  "orig_nbformat": 4,
  "vscode": {
   "interpreter": {
    "hash": "31f2aee4e71d21fbe5cf8b01ff0e069b9275f58929596ceb00d14d90e3e16cd6"
   }
  }
 },
 "nbformat": 4,
 "nbformat_minor": 2
}
