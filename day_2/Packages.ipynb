{
 "cells": [
  {
   "cell_type": "markdown",
   "metadata": {},
   "source": [
    "# Packages Setup"
   ]
  },
  {
   "cell_type": "markdown",
   "metadata": {},
   "source": [
    "## [pip](https://pypi.org/project/pip/) - Python package manager"
   ]
  },
  {
   "cell_type": "markdown",
   "metadata": {},
   "source": [
    "[Installing](https://pip.pypa.io/en/stable/installation/) pip\n",
    "\n",
    "> **_Note_**:Linux ubuntu seem to have a [bug](https://bugs.launchpad.net/ubuntu/+source/python3.4/+bug/1290847), just use apt: `apt install python3-pip`"
   ]
  },
  {
   "cell_type": "markdown",
   "metadata": {},
   "source": [
    "## [venv](https://docs.python.org/3/library/venv.html) - Virtual environments"
   ]
  },
  {
   "cell_type": "markdown",
   "metadata": {},
   "source": [
    "A Python module which allows to isolate all your dependencies into a virtual environment.\n",
    "**Installing venv**\n",
    "\n",
    "``` bash\n",
    "$ apt install python3-venv\n",
    "```\n",
    "\n",
    "**Creating and using a virtual env:**\n",
    "\n",
    "> ``` bash\n",
    "> # Check ehich python is being used\n",
    "> $ which python3\n",
    "> #> /usr/bin/python3\n",
    "> \n",
    "> $ python3 -m venv path/to/virtual/environment/dir\n",
    "> $ source path/to/virtual/environment/dir/bin/activate\n",
    "> \n",
    "> # Re-check ehich python is being used\n",
    "> $ which python3\n",
    "> #> path/to/virtual/environment/dir/bin/python3\n",
    "> ```\n",
    "\n",
    "**Installing Packages in a virtual env**\n",
    "\n",
    "- For installing python packages in the virtual env all we need to do is run pip.\n",
    "\n",
    ">    ``` bash\n",
    ">    $ pip3 install <package>\n",
    ">    ```\n",
    "\n",
    "- pip allows the usage of a file to simplify the tracking and installation of all requirements/dependencies.\n",
    "\n",
    ">    ``` bash\n",
    ">    $ pip3 install -r path/to/requirements/file\n",
    ">    ```\n",
    "\n",
    "> Requirements file structure example:\n",
    "> ```bash\n",
    ">   $ cat path/to/requirements/file\n",
    ">   # <package>==<version>\n",
    ">   #> ruamel.yaml==0.16.10\n",
    "> ```"
   ]
  },
  {
   "cell_type": "markdown",
   "metadata": {},
   "source": [
    "## [Import](https://docs.python.org/3/reference/import.html)"
   ]
  },
  {
   "cell_type": "markdown",
   "metadata": {},
   "source": [
    "`Import` is what allows us to load and use whatever packages, modules or function we might require. For a more in depth understanding check [python scopes](https://realpython.com/python-scope-legb-rule/)."
   ]
  },
  {
   "cell_type": "code",
   "execution_count": 1,
   "metadata": {},
   "outputs": [
    {
     "name": "stdout",
     "output_type": "stream",
     "text": [
      "<module 'os' from '/usr/lib/python3.8/os.py'>\n",
      "<function walk at 0x7f84de9451f0>\n"
     ]
    }
   ],
   "source": [
    "# Importing a python module\n",
    "import os\n",
    "print(os)\n",
    "print(os.walk)"
   ]
  },
  {
   "cell_type": "code",
   "execution_count": 2,
   "metadata": {},
   "outputs": [
    {
     "name": "stdout",
     "output_type": "stream",
     "text": [
      "<function walk at 0x7f84de9451f0>\n"
     ]
    }
   ],
   "source": [
    "# Importing a specific method from a module\n",
    "from os import walk\n",
    "print(walk)"
   ]
  },
  {
   "cell_type": "markdown",
   "metadata": {},
   "source": [
    "# The Usual Suspects: \n",
    "The most commonly used Python packages"
   ]
  },
  {
   "cell_type": "markdown",
   "metadata": {},
   "source": [
    "## [OS](https://docs.python.org/3/library/os.html) - operating system interfaces"
   ]
  },
  {
   "cell_type": "markdown",
   "metadata": {},
   "source": [
    "The **os** modules provides a simple way to interact with the operating system.\n",
    "\n",
    "Simplifies daily operations like handling fetching environment variables, handling paths and files, among other things. "
   ]
  },
  {
   "cell_type": "code",
   "execution_count": 3,
   "metadata": {},
   "outputs": [
    {
     "name": "stdout",
     "output_type": "stream",
     "text": [
      "['CLD_CONTINUED', 'CLD_DUMPED', 'CLD_EXITED', 'CLD_TRAPPED', 'DirEntry', 'EX_CANTCREAT', 'EX_CONFIG', 'EX_DATAERR', 'EX_IOERR', 'EX_NOHOST', 'EX_NOINPUT', 'EX_NOPERM', 'EX_NOUSER', 'EX_OK', 'EX_OSERR', 'EX_OSFILE', 'EX_PROTOCOL', 'EX_SOFTWARE', 'EX_TEMPFAIL', 'EX_UNAVAILABLE', 'EX_USAGE', 'F_LOCK', 'F_OK', 'F_TEST', 'F_TLOCK', 'F_ULOCK', 'GRND_NONBLOCK', 'GRND_RANDOM', 'MFD_ALLOW_SEALING', 'MFD_CLOEXEC', 'MFD_HUGETLB', 'MFD_HUGE_16GB', 'MFD_HUGE_16MB', 'MFD_HUGE_1GB', 'MFD_HUGE_1MB', 'MFD_HUGE_256MB', 'MFD_HUGE_2GB', 'MFD_HUGE_2MB', 'MFD_HUGE_32MB', 'MFD_HUGE_512KB', 'MFD_HUGE_512MB', 'MFD_HUGE_64KB', 'MFD_HUGE_8MB', 'MFD_HUGE_MASK', 'MFD_HUGE_SHIFT', 'MutableMapping', 'NGROUPS_MAX', 'O_ACCMODE', 'O_APPEND', 'O_ASYNC', 'O_CLOEXEC', 'O_CREAT', 'O_DIRECT', 'O_DIRECTORY', 'O_DSYNC', 'O_EXCL', 'O_LARGEFILE', 'O_NDELAY', 'O_NOATIME', 'O_NOCTTY', 'O_NOFOLLOW', 'O_NONBLOCK', 'O_PATH', 'O_RDONLY', 'O_RDWR', 'O_RSYNC', 'O_SYNC', 'O_TMPFILE', 'O_TRUNC', 'O_WRONLY', 'POSIX_FADV_DONTNEED', 'POSIX_FADV_NOREUSE', 'POSIX_FADV_NORMAL', 'POSIX_FADV_RANDOM', 'POSIX_FADV_SEQUENTIAL', 'POSIX_FADV_WILLNEED', 'POSIX_SPAWN_CLOSE', 'POSIX_SPAWN_DUP2', 'POSIX_SPAWN_OPEN', 'PRIO_PGRP', 'PRIO_PROCESS', 'PRIO_USER', 'P_ALL', 'P_NOWAIT', 'P_NOWAITO', 'P_PGID', 'P_PID', 'P_WAIT', 'PathLike', 'RTLD_DEEPBIND', 'RTLD_GLOBAL', 'RTLD_LAZY', 'RTLD_LOCAL', 'RTLD_NODELETE', 'RTLD_NOLOAD', 'RTLD_NOW', 'RWF_DSYNC', 'RWF_HIPRI', 'RWF_NOWAIT', 'RWF_SYNC', 'R_OK', 'SCHED_BATCH', 'SCHED_FIFO', 'SCHED_IDLE', 'SCHED_OTHER', 'SCHED_RESET_ON_FORK', 'SCHED_RR', 'SEEK_CUR', 'SEEK_DATA', 'SEEK_END', 'SEEK_HOLE', 'SEEK_SET', 'ST_APPEND', 'ST_MANDLOCK', 'ST_NOATIME', 'ST_NODEV', 'ST_NODIRATIME', 'ST_NOEXEC', 'ST_NOSUID', 'ST_RDONLY', 'ST_RELATIME', 'ST_SYNCHRONOUS', 'ST_WRITE', 'TMP_MAX', 'WCONTINUED', 'WCOREDUMP', 'WEXITED', 'WEXITSTATUS', 'WIFCONTINUED', 'WIFEXITED', 'WIFSIGNALED', 'WIFSTOPPED', 'WNOHANG', 'WNOWAIT', 'WSTOPPED', 'WSTOPSIG', 'WTERMSIG', 'WUNTRACED', 'W_OK', 'XATTR_CREATE', 'XATTR_REPLACE', 'XATTR_SIZE_MAX', 'X_OK', '_Environ', '__all__', '__builtins__', '__cached__', '__doc__', '__file__', '__loader__', '__name__', '__package__', '__spec__', '_check_methods', '_execvpe', '_exists', '_exit', '_fspath', '_fwalk', '_get_exports_list', '_putenv', '_spawnvef', '_unsetenv', '_wrap_close', 'abc', 'abort', 'access', 'altsep', 'chdir', 'chmod', 'chown', 'chroot', 'close', 'closerange', 'confstr', 'confstr_names', 'copy_file_range', 'cpu_count', 'ctermid', 'curdir', 'defpath', 'device_encoding', 'devnull', 'dup', 'dup2', 'environ', 'environb', 'error', 'execl', 'execle', 'execlp', 'execlpe', 'execv', 'execve', 'execvp', 'execvpe', 'extsep', 'fchdir', 'fchmod', 'fchown', 'fdatasync', 'fdopen', 'fork', 'forkpty', 'fpathconf', 'fsdecode', 'fsencode', 'fspath', 'fstat', 'fstatvfs', 'fsync', 'ftruncate', 'fwalk', 'get_blocking', 'get_exec_path', 'get_inheritable', 'get_terminal_size', 'getcwd', 'getcwdb', 'getegid', 'getenv', 'getenvb', 'geteuid', 'getgid', 'getgrouplist', 'getgroups', 'getloadavg', 'getlogin', 'getpgid', 'getpgrp', 'getpid', 'getppid', 'getpriority', 'getrandom', 'getresgid', 'getresuid', 'getsid', 'getuid', 'getxattr', 'initgroups', 'isatty', 'kill', 'killpg', 'lchown', 'linesep', 'link', 'listdir', 'listxattr', 'lockf', 'lseek', 'lstat', 'major', 'makedev', 'makedirs', 'memfd_create', 'minor', 'mkdir', 'mkfifo', 'mknod', 'name', 'nice', 'open', 'openpty', 'pardir', 'path', 'pathconf', 'pathconf_names', 'pathsep', 'pipe', 'pipe2', 'popen', 'posix_fadvise', 'posix_fallocate', 'posix_spawn', 'posix_spawnp', 'pread', 'preadv', 'putenv', 'pwrite', 'pwritev', 'read', 'readlink', 'readv', 'register_at_fork', 'remove', 'removedirs', 'removexattr', 'rename', 'renames', 'replace', 'rmdir', 'scandir', 'sched_get_priority_max', 'sched_get_priority_min', 'sched_getaffinity', 'sched_getparam', 'sched_getscheduler', 'sched_param', 'sched_rr_get_interval', 'sched_setaffinity', 'sched_setparam', 'sched_setscheduler', 'sched_yield', 'sendfile', 'sep', 'set_blocking', 'set_inheritable', 'setegid', 'seteuid', 'setgid', 'setgroups', 'setpgid', 'setpgrp', 'setpriority', 'setregid', 'setresgid', 'setresuid', 'setreuid', 'setsid', 'setuid', 'setxattr', 'spawnl', 'spawnle', 'spawnlp', 'spawnlpe', 'spawnv', 'spawnve', 'spawnvp', 'spawnvpe', 'st', 'stat', 'stat_result', 'statvfs', 'statvfs_result', 'strerror', 'supports_bytes_environ', 'supports_dir_fd', 'supports_effective_ids', 'supports_fd', 'supports_follow_symlinks', 'symlink', 'sync', 'sys', 'sysconf', 'sysconf_names', 'system', 'tcgetpgrp', 'tcsetpgrp', 'terminal_size', 'times', 'times_result', 'truncate', 'ttyname', 'umask', 'uname', 'uname_result', 'unlink', 'unsetenv', 'urandom', 'utime', 'wait', 'wait3', 'wait4', 'waitid', 'waitid_result', 'waitpid', 'walk', 'write', 'writev']\n"
     ]
    }
   ],
   "source": [
    "import os\n",
    "print(dir(os))"
   ]
  },
  {
   "cell_type": "code",
   "execution_count": 4,
   "metadata": {},
   "outputs": [
    {
     "name": "stdout",
     "output_type": "stream",
     "text": [
      "OS name: posix\n",
      "OS current dir: /home/ctw01000/WS/PyCademy/day_2\n",
      "OS current dir content: ['Packages.ipynb', 'scripts', 'README.md', '.ipynb_checkpoints']\n",
      "OS current dir content: ['Packages.ipynb', 'scripts', 'README.md', '.ipynb_checkpoints']\n"
     ]
    }
   ],
   "source": [
    "print(f'OS name: {os.name}')\n",
    "current_dir_path = os.getcwd()\n",
    "print(f'OS current dir: {current_dir_path}')\n",
    "print(f'OS current dir content: {os.listdir(current_dir_path)}')\n",
    "print(f'OS current dir content: {os.listdir()}')"
   ]
  },
  {
   "cell_type": "code",
   "execution_count": 5,
   "metadata": {},
   "outputs": [
    {
     "name": "stdout",
     "output_type": "stream",
     "text": [
      "path          : /home/ctw01000/WS/PyCademy/day_2\n",
      "relative path : .\n",
      "basename      : day_2\n",
      "dirname path  : /home/ctw01000/WS/PyCademy\n",
      "----------------------------------------------------------------------------------------------------\n",
      "root path   : /home/ctw01000/WS/PyCademy/day_2\n",
      "directories : ['scripts', '.ipynb_checkpoints']\n",
      "files       : ['Packages.ipynb', 'README.md']\n",
      "files path   : /home/ctw01000/WS/PyCademy/day_2/Packages.ipynb\n",
      "files path   : /home/ctw01000/WS/PyCademy/day_2/README.md\n",
      "root path   : /home/ctw01000/WS/PyCademy/day_2/scripts\n",
      "directories : []\n",
      "files       : ['02_logging.py', '01_argparse.py']\n",
      "files path   : /home/ctw01000/WS/PyCademy/day_2/scripts/02_logging.py\n",
      "files path   : /home/ctw01000/WS/PyCademy/day_2/scripts/01_argparse.py\n",
      "root path   : /home/ctw01000/WS/PyCademy/day_2/.ipynb_checkpoints\n",
      "directories : []\n",
      "files       : []\n"
     ]
    }
   ],
   "source": [
    "print(f'path          : {current_dir_path}')\n",
    "print(f'relative path : {os.path.relpath(current_dir_path)}')\n",
    "print(f'basename      : {os.path.basename(current_dir_path)}')\n",
    "print(f'dirname path  : {os.path.dirname(current_dir_path)}')\n",
    "print('-'*100)\n",
    "\n",
    "for root, dirs, files in os.walk(current_dir_path):\n",
    "    print(f'root path   : {root}')\n",
    "    print(f'directories : {dirs}')\n",
    "    print(f'files       : {files}')\n",
    "    for file in files:\n",
    "        print(f'files path   : {os.path.join(root, file)}')\n"
   ]
  },
  {
   "cell_type": "markdown",
   "metadata": {},
   "source": [
    "## [argparse](https://docs.python.org/3/library/argparse.html) - Argument parser"
   ]
  },
  {
   "cell_type": "markdown",
   "metadata": {},
   "source": [
    "An easy way to handle with script arguments.\n",
    "\n",
    "Some of the most usefull features provided are:\n",
    "\n",
    "**Parser**: \n",
    "- Automatically parses the scripts input arguments and returns them in a neat object, which makes it easier (and cleanner) to use them.\n",
    "\n",
    "Argument **validation**: \n",
    "- Required: Automatically validates if the script received all the required arguments.\n",
    "- Type Checking: validate if an argument is of the expected type.\n",
    "\n",
    "**Help** text:\n",
    "- You don't have to worry about righting a help flag to display what the script doeas and what arguments it has available.\n",
    "- Description: Add the script description to be displayed in the help text.\n",
    "\n",
    "> **_Note_**: Also check: [01_argparse.py](scripts/01_argparse.py)"
   ]
  },
  {
   "cell_type": "code",
   "execution_count": 6,
   "metadata": {},
   "outputs": [
    {
     "name": "stdout",
     "output_type": "stream",
     "text": [
      "usage: my_script [-h]\n",
      "\n",
      "My script does something.\n",
      "\n",
      "optional arguments:\n",
      "  -h, --help  show this help message and exit\n",
      "----------------------------------------------------------------------------------------------------\n",
      "ArgumentParser(prog='my_script', usage=None, description='My script does something.', formatter_class=<class 'argparse.HelpFormatter'>, conflict_handler='error', add_help=True)\n"
     ]
    }
   ],
   "source": [
    "import argparse\n",
    "\n",
    "# Most basic use case, just give a name and description to your script\n",
    "parser = argparse.ArgumentParser(\n",
    "    prog = \"my_script\",\n",
    "    description=\"My script does something.\",\n",
    ")\n",
    "\n",
    "# equivalent to running: python3 my_script.py --help\n",
    "parser.print_help()\n",
    "print('-'*100)\n",
    "print(parser)"
   ]
  },
  {
   "cell_type": "code",
   "execution_count": 7,
   "metadata": {},
   "outputs": [
    {
     "name": "stdout",
     "output_type": "stream",
     "text": [
      "usage: argument_snippet [-h] -s STRING [-l LIST3 LIST3 LIST3] [-d]\n",
      "                        input_1 input_2\n",
      "\n",
      "positional arguments:\n",
      "  input_1\n",
      "  input_2\n",
      "\n",
      "optional arguments:\n",
      "  -h, --help            show this help message and exit\n",
      "  -s STRING, --string STRING\n",
      "                        A string delivered by flag.\n",
      "  -l LIST3 LIST3 LIST3, --list LIST3 LIST3 LIST3\n",
      "                        A list argument of 3 elements.\n",
      "  -d, --debug           A simple debug flag.\n",
      "----------------------------------------------------------------------------------------------------\n",
      "Namespace(debug=True, input_1=1, input_2='2', list3=['3', '2', '1'], string='asd')\n",
      "----------------------------------------------------------------------------------------------------\n",
      "Debug : True\n",
      "list  : ['3', '2', '1']\n",
      "String: asd\n"
     ]
    }
   ],
   "source": [
    "## Adding arguments\n",
    "parser = argparse.ArgumentParser(prog = \"argument_snippet\")\n",
    "\n",
    "# Positional arguments\n",
    "parser.add_argument(\"input_1\", type=int)\n",
    "parser.add_argument(\"input_2\", type=str)\n",
    "\n",
    "# flag arguments\n",
    "# string\n",
    "parser.add_argument(\n",
    "    \"-s\", \"--string\",\n",
    "    type=str,\n",
    "    help=\"A string delivered by flag.\",\n",
    "    required=True\n",
    ")\n",
    "\n",
    "# list\n",
    "parser.add_argument(\n",
    "    \"-l\", \"--list\",\n",
    "    nargs=3,\n",
    "    dest=\"list3\",\n",
    "    help=\"A list argument of 3 elements.\",\n",
    ")\n",
    "\n",
    "# Boolean\n",
    "parser.add_argument(\n",
    "    \"-d\", \"--debug\",\n",
    "    action=\"store_true\",\n",
    "    help=\"A simple debug flag.\"\n",
    ")\n",
    "\n",
    "parser.print_help()\n",
    "\n",
    "args = parser.parse_args('1 -d 2 -l 3 2 1 -s asd'.split())\n",
    "print('-'*100)\n",
    "print(args)\n",
    "print('-'*100)\n",
    "print(f'Debug : {args.debug}')\n",
    "print(f'list  : {args.list3}')\n",
    "print(f'String: {args.string}')"
   ]
  },
  {
   "cell_type": "code",
   "execution_count": 8,
   "metadata": {},
   "outputs": [
    {
     "name": "stdout",
     "output_type": "stream",
     "text": [
      "usage: exclusive_argument_snippet [-h] [--file | --dir]\n",
      "\n",
      "optional arguments:\n",
      "  -h, --help  show this help message and exit\n",
      "  --file      Use a file path.\n",
      "  --dir       Use a dir path.\n",
      "Namespace(dir=True, file=True)\n"
     ]
    }
   ],
   "source": [
    "# Mutually exclusive flags\n",
    "parser = argparse.ArgumentParser(prog = \"exclusive_argument_snippet\")\n",
    "\n",
    "group = parser.add_mutually_exclusive_group()\n",
    "\n",
    "# Add arguments to the group\n",
    "group.add_argument('--file', action='store_true', help=\"Use a file path.\")\n",
    "group.add_argument('--dir', action='store_false', help=\"Use a dir path.\")\n",
    "\n",
    "parser.print_help()\n",
    "args = parser.parse_args([\"--file\"])\n",
    "print(args)"
   ]
  },
  {
   "cell_type": "markdown",
   "metadata": {},
   "source": [
    "## [Logging](https://docs.python.org/3/library/logging.html) - Well.. logging stuff"
   ]
  },
  {
   "cell_type": "markdown",
   "metadata": {},
   "source": [
    "Forget about print.\n",
    "\n",
    "As the name implies, logging provides a simple and clean way to log what happens on your scripts. Logs are essential when debugging what went wrong with the script, making this one must have tool.\n",
    "\n",
    "Some of the most usefull features it provides are:\n",
    "\n",
    "- Customization of the printed messages format.\n",
    "- Objects can easily \"sign\" their prints.\n",
    "- Adds timestamps to printed lines.\n",
    "- Easily set different logging levels for what's happening at certain points of the script.\n",
    "- Simultaneously write to the terminal and multiple logfiles, each with their own configuration."
   ]
  },
  {
   "cell_type": "code",
   "execution_count": 9,
   "metadata": {},
   "outputs": [
    {
     "name": "stderr",
     "output_type": "stream",
     "text": [
      "DEBUG:root:Something is happening!\n",
      "INFO:root:Something happened!\n",
      "WARNING:root:Found something weird!\n",
      "ERROR:root:Script failed!\n",
      "CRITICAL:root:Script failed harder!!!\n"
     ]
    }
   ],
   "source": [
    "import logging\n",
    "\n",
    "logging.basicConfig(level=logging.DEBUG)\n",
    "\n",
    "logging.debug(\"Something is happening!\")\n",
    "logging.info(\"Something happened!\")\n",
    "logging.warning(\"Found something weird!\")\n",
    "logging.error(\"Script failed!\")\n",
    "logging.critical(\"Script failed harder!!!\")"
   ]
  },
  {
   "cell_type": "code",
   "execution_count": 10,
   "metadata": {},
   "outputs": [
    {
     "name": "stderr",
     "output_type": "stream",
     "text": [
      "WARNING:my logger:Found something weird!\n",
      "ERROR:my logger:Script failed!\n",
      "CRITICAL:my logger:Script failed harder!!!\n"
     ]
    }
   ],
   "source": [
    "# A more modular approach\n",
    "my_logger = logging.getLogger(\"my logger\")\n",
    "my_logger.setLevel(logging.WARNING)\n",
    "\n",
    "my_logger.debug(\"Something is happening!\")\n",
    "my_logger.info(\"Something happened!\")\n",
    "my_logger.warning(\"Found something weird!\")\n",
    "my_logger.error(\"Script failed!\")\n",
    "my_logger.critical(\"Script failed harder!!!\")"
   ]
  },
  {
   "cell_type": "markdown",
   "metadata": {},
   "source": [
    "The logging module provides 3 kinds of objects:\n",
    "\n",
    "- **[Loggers](https://docs.python.org/3/howto/logging.html#loggers)**: Expose the interface that application code directly uses.\n",
    "\n",
    "- **[Handlers](https://docs.python.org/3/howto/logging.html#handlers)**: send the log records (created by loggers) to the appropriate destination. (ex: console, file, buffer, server, ...)\n",
    "\n",
    "- **[Filters](https://docs.python.org/3/library/logging.html#filter)**: Provide a finer grained facility for determining which log records to output.\n",
    "\n",
    "- **[Formatters](https://docs.python.org/3/howto/logging.html#formatters)**: Specify the layout of log records in the final output.\n",
    "\n",
    "> **Note**: Check the [02_logging.py](scripts/02_logging.py) to see a more in depth example."
   ]
  },
  {
   "cell_type": "markdown",
   "metadata": {},
   "source": [
    "## [JSON](https://docs.python.org/3/library/json.html) - Json handling\n",
    "\n",
    "[JSON](https://en.wikipedia.org/wiki/JSON) (JavaScript Object Notation) is an open standard file format and data interchange format that uses human-readable text to store and transmit data objects consisting of attribute–value pairs and arrays (or other serializable values). It is a common data format with diverse uses in electronic data interchange, including that of web applications with servers. \n",
    "\n",
    "Example:\n",
    "\n",
    "```json\n",
    "{\n",
    "  \"firstName\": \"John\",\n",
    "  \"lastName\": \"Smith\",\n",
    "  \"isAlive\": true,\n",
    "  \"age\": 27,\n",
    "  \"address\": {\n",
    "    \"streetAddress\": \"21 2nd Street\",\n",
    "    \"city\": \"New York\",\n",
    "    \"state\": \"NY\",\n",
    "    \"postalCode\": \"10021-3100\"\n",
    "  },\n",
    "  \"phoneNumbers\": [\n",
    "    {\n",
    "      \"type\": \"home\",\n",
    "      \"number\": \"212 555-1234\"\n",
    "    },\n",
    "    {\n",
    "      \"type\": \"office\",\n",
    "      \"number\": \"646 555-4567\"\n",
    "    }\n",
    "  ],\n",
    "  \"children\": [\n",
    "      \"Catherine\",\n",
    "      \"Thomas\",\n",
    "      \"Trevor\"\n",
    "  ],\n",
    "  \"spouse\": null\n",
    "}\n",
    "```\n",
    "\n",
    "The process of encoding JSON is usually called **serialization**. Naturally, **deserialization** is the reciprocal process of decoding data that has been stored or delivered in the JSON standard.\n",
    "\n",
    "### Serializing JSON\n",
    "\n",
    "What happens after a computer processes lots of information? It needs to take a data dump. Accordingly, the `json` library exposes the `dump()` method for writing data to files. There is also a dumps() method (pronounced as “dump-s”) for writing to a Python string.\n",
    "\n",
    "Simple Python objects are translated to JSON according to a fairly intuitive conversion.\n",
    "\n",
    "| Python         |  JSON     |\n",
    "|----------------|-----------|\n",
    "| dict           | object    |\n",
    "| list, tuple    |    array  |\n",
    "| str            |  string   |\n",
    "| int, long, float |  number |\n",
    "| True          |       true |\n",
    "| False         |      false |\n",
    "| None          |       null |\n",
    "\n",
    "### Deserializing JSON\n",
    "\n",
    "In the `json` library, you’ll find `load()` and `loads()` for turning JSON encoded data into Python objects.\n",
    "\n",
    "| JSON         |  Python     |\n",
    "|----------------|-----------|\n",
    "| object           | dict    |\n",
    "| array    |    list  |\n",
    "| string            |  str   |\n",
    "| number(int) |  int |\n",
    "| number(real)    |     float |\n",
    "| true         |      True |\n",
    "| false          |      False |\n",
    "| null          |       None |\n"
   ]
  },
  {
   "cell_type": "code",
   "execution_count": 10,
   "metadata": {},
   "outputs": [
    {
     "name": "stdout",
     "output_type": "stream",
     "text": [
      "{\n",
      "    \"4\": 5,\n",
      "    \"6\": 7\n",
      "}\n",
      "{\"president\": {\"name\": \"Zaphod Beeblebrox\", \"species\": \"Betelgeusian\"}}\n"
     ]
    },
    {
     "data": {
      "text/plain": [
       "'Zaphod Beeblebrox'"
      ]
     },
     "execution_count": 10,
     "metadata": {},
     "output_type": "execute_result"
    }
   ],
   "source": [
    "import json\n",
    "\n",
    "print(json.dumps({'4': 5, '6': 7}, sort_keys=True, indent=4))\n",
    "\n",
    "# Serializing JSON\n",
    "data = {\n",
    "    \"president\": {\n",
    "        \"name\": \"Zaphod Beeblebrox\",\n",
    "        \"species\": \"Betelgeusian\"\n",
    "    }\n",
    "}\n",
    "\n",
    "with open(\"data_file.json\", \"w\") as write_file:\n",
    "    json.dump(data, write_file)\n",
    "\n",
    "json_string = json.dumps(data)\n",
    "print(json_string)\n",
    "\n",
    "# Deserialization JSON\n",
    "with open(\"data_file.json\", \"r\") as read_file:\n",
    "    data = json.load(read_file)\n",
    "\n",
    "# handling JSON dict\n",
    "data['president']\n",
    "data['president']['name']\n"
   ]
  },
  {
   "cell_type": "markdown",
   "metadata": {},
   "source": [
    "## [YAML](https://pypi.org/project/PyYAML/) - Yaml handling\n",
    "\n",
    "YAML support doesn't have native library support from Python. To be able to handle YAML we need a third-party library.\n",
    "YAML is a data serialization format designed for human readability and interaction with scripting languages."
   ]
  },
  {
   "cell_type": "code",
   "execution_count": 22,
   "metadata": {},
   "outputs": [
    {
     "name": "stdout",
     "output_type": "stream",
     "text": [
      "{'message': {'date': datetime.datetime(2022, 1, 16, 12, 46, 17, tzinfo=datetime.timezone.utc), 'from': 'john.doe@domain.com', 'to': ['bobby@domain.com', 'molly@domain.com']}}\n",
      "{'name': 'John'}\n",
      "John\n"
     ]
    }
   ],
   "source": [
    "import yaml\n",
    "\n",
    "email_message = \"\"\"\\\n",
    "message:\n",
    "  date: 2022-01-16 12:46:17Z\n",
    "  from: john.doe@domain.com\n",
    "  to:\n",
    "    - bobby@domain.com\n",
    "    - molly@domain.com\n",
    "\"\"\"\n",
    "\n",
    "# Deserializing YAML\n",
    "# Calling safe_load() is currently the recommended way of handling content received from untrusted sources, which could contain malicious code.\n",
    "print(yaml.safe_load(email_message))\n",
    "\n",
    "data = {\"name\": \"John\"}\n",
    "\n",
    "# Serializing\n",
    "with open(\"email_message.yaml\", mode=\"wt\", encoding=\"utf-8\") as file:\n",
    "    yaml.dump(data, file)\n",
    "\n",
    "# Deserialization\n",
    "with open(\"email_message.yaml\", \"r\") as read_file:\n",
    "    message = yaml.safe_load(read_file)\n",
    "\n",
    "print(message)\n",
    "print(message['name'])"
   ]
  }
 ],
 "metadata": {
  "kernelspec": {
   "display_name": "Python 3.8.10 64-bit",
   "language": "python",
   "name": "python3"
  },
  "language_info": {
   "codemirror_mode": {
    "name": "ipython",
    "version": 3
   },
   "file_extension": ".py",
   "mimetype": "text/x-python",
   "name": "python",
   "nbconvert_exporter": "python",
   "pygments_lexer": "ipython3",
   "version": "3.8.10"
  },
  "orig_nbformat": 4,
  "vscode": {
   "interpreter": {
    "hash": "31f2aee4e71d21fbe5cf8b01ff0e069b9275f58929596ceb00d14d90e3e16cd6"
   }
  }
 },
 "nbformat": 4,
 "nbformat_minor": 2
}
