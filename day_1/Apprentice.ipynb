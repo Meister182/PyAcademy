{
 "cells": [
  {
   "cell_type": "markdown",
   "metadata": {},
   "source": [
    "# Python Setup"
   ]
  },
  {
   "cell_type": "markdown",
   "metadata": {},
   "source": [
    "**Installation:**\n",
    "\n",
    "|OS|Python Downloads Page|Package Managers|\n",
    "|:--:|:--:|:--:|\n",
    "|Linux|[link](https://www.python.org/downloads/source/)|apt/pacman/...|\n",
    "|Mac|[link](https://www.python.org/downloads/macos/)|brew|\n",
    "|Windows|[link](https://www.python.org/downloads/windows/)| Microsoft Store|\n",
    "\n",
    "**VsCode Vs Pycharm**\n",
    "- [PyCharm](https://www.jetbrains.com/pycharm/) is a python dedicated IDE, and provides out of the box linting, debugging and formatting tools aligned with Python best practices.\n",
    "- [VsCode](https://code.visualstudio.com/) is a generic IDE that can be customized with extensions.\n",
    "    - [Python Extension](https://marketplace.visualstudio.com/items?itemName=ms-python.python) Provides rich support for the Python language (for all actively supported versions of the language: >=3.7), including features such as:\n",
    "        - IntelliSense (Pylance)\n",
    "        - linting\n",
    "        - debugging\n",
    "        - code navigation\n",
    "        - code formatting\n",
    "        - refactoring\n",
    "        - variable explorer\n",
    "        - test explorer \n",
    "\n",
    "**[Jupyter](https://jupyter.org/)**\n",
    "- Its web-based interactive development environment for notebooks for creating and sharing computational documents. It offers a simple, streamlined, document-centric experience.\n",
    "- Besides its main purpose to seemingly integrate data processing and data visusalization with code, it also is a great way to experiment with python as it allows to run code snipets indepently."
   ]
  },
  {
   "cell_type": "code",
   "execution_count": 73,
   "metadata": {},
   "outputs": [],
   "source": [
    "# Zen of Python\n",
    "import this"
   ]
  },
  {
   "cell_type": "code",
   "execution_count": 74,
   "metadata": {},
   "outputs": [
    {
     "name": "stdout",
     "output_type": "stream",
     "text": [
      "Hello World!!\n"
     ]
    }
   ],
   "source": [
    "# ====== Hello World ======\n",
    "print(\"Hello World!!\")"
   ]
  },
  {
   "cell_type": "markdown",
   "metadata": {},
   "source": [
    "# Variables"
   ]
  },
  {
   "cell_type": "code",
   "execution_count": 75,
   "metadata": {},
   "outputs": [],
   "source": [
    "# Declaring basic types\n",
    "my_number = 42\n",
    "my_float = 3.1416\n",
    "my_string = \"We’ll not risk another frontal assault. That rabbit’s dynamite.\"\n",
    "\n",
    "# Declaring List(array), Tuples and Sets\n",
    "my_list = [1,1,3.5,'Nobody exists on purpose.', 'Nobody belongs anywhere.', 'We’re all going to die.', ['Sometimes', 'science', 'is', 'more', 'art', 'than', 'science.']]\n",
    "my_tuple = (1,1,3.5,'Nobody exists on purpose.', 'Nobody belongs anywhere.', 'We’re all going to die.', ['Sometimes', 'science', 'is', 'more', 'art', 'than', 'science.'])\n",
    "my_set = {1,1,3.5, 'Nobody exists on purpose.', 'Nobody belongs anywhere.', 'We’re all going to die.'}\n",
    "\n",
    "# Declaring a dictionary\n",
    "my_dictionary = {'Monty': 'Python', 'Rick': 'Morty', 'Set': my_set}"
   ]
  },
  {
   "cell_type": "code",
   "execution_count": null,
   "metadata": {},
   "outputs": [],
   "source": []
  },
  {
   "cell_type": "code",
   "execution_count": null,
   "metadata": {},
   "outputs": [],
   "source": []
  },
  {
   "cell_type": "code",
   "execution_count": 76,
   "metadata": {},
   "outputs": [
    {
     "name": "stdout",
     "output_type": "stream",
     "text": [
      "{'Monty': 'Python', 'Rick': 'Morty', 'Set': {1, 'Nobody exists on purpose.', 3.5, 'We’re all going to die.', 'Nobody belongs anywhere.'}}\n"
     ]
    }
   ],
   "source": [
    "print(my_dictionary)"
   ]
  },
  {
   "cell_type": "markdown",
   "metadata": {},
   "source": [
    "## Arithmetic Operations"
   ]
  },
  {
   "cell_type": "markdown",
   "metadata": {},
   "source": [
    "|operator|name|example|\n",
    "|-|-|-|\n",
    "|+|Addition|`new_number = my_number + 1`|\n",
    "|-|Subtraction|`new_number = my_number - 1`|\n",
    "|*|Multiplication|`new_number = my_number * 2`|\n",
    "|/|Division|`new_number = my_number / 2`|\n",
    "|%|Modulus|`new_number = my_number % 2`|\n",
    "|**|Exponentiation|`new_number = my_number ** 2`|\n",
    "|//|Floor division|`new_number = my_number // 3`|"
   ]
  },
  {
   "cell_type": "code",
   "execution_count": 77,
   "metadata": {},
   "outputs": [
    {
     "name": "stdout",
     "output_type": "stream",
     "text": [
      "my number (original): <class 'int'> 42\n",
      "my number (updated) : <class 'int'> 10084\n",
      "my number (updated) : <class 'float'> 10087.1416\n"
     ]
    }
   ],
   "source": [
    "print(\"my number (original):\", type(my_number), my_number)\n",
    "new_number = my_number * 2\n",
    "new_number += 10000\n",
    "print(\"my number (updated) :\", type(new_number), new_number)\n",
    "\n",
    "new_number += my_float\n",
    "print(\"my number (updated) :\", type(new_number), new_number)\n"
   ]
  },
  {
   "cell_type": "markdown",
   "metadata": {},
   "source": [
    "## Handling Strings"
   ]
  },
  {
   "cell_type": "markdown",
   "metadata": {},
   "source": [
    "|operator|name|example|\n",
    "|-|-|-|\n",
    "|=|Assigment|`new_string = my_string`|\n",
    "|==, !=|Comparision|`new_string == \"A newt?\"`|\n",
    "|*|Repetition|`new_string = my_string * 2`|\n",
    "|+|Concatenation|`new_string = my_string + \" Would it help to confuse it if we run away more?\"`|\n",
    "|[]|Slicing|`first_char = my_string[0]`|"
   ]
  },
  {
   "cell_type": "code",
   "execution_count": 78,
   "metadata": {},
   "outputs": [
    {
     "name": "stdout",
     "output_type": "stream",
     "text": [
      "the answer to life the universe and everything 42!\n",
      "the answer to life the universe and everything 42!\n",
      "the answer to life the universe and everything 42!\n",
      "----------------------------------------------------------------------------------------------------\n",
      "+ : We’ll not risk another frontal assault. That rabbit’s dynamite. Would it help to confuse it if we run away more?\n",
      "* : We’ll not risk another frontal assault. That rabbit’s dynamite.We’ll not risk another frontal assault. That rabbit’s dynamite.\n",
      "1st char: W\n"
     ]
    }
   ],
   "source": [
    "\n",
    "## String formatting.\n",
    "# Old Style\n",
    "print('the answer to life the universe and everything %s!' % my_number)\n",
    "# New format\n",
    "print('the answer to life the universe and everything {}!'.format(my_number))\n",
    "# (fstring) Literal string interpolation (Python 3.6+)\n",
    "print(f'the answer to life the universe and everything {my_number}!')\n",
    "# Template strings (¯\\_(ツ)_/¯ google it.)\n",
    "\n",
    "## String Operators examples\n",
    "print(\"-\"*100)\n",
    "print(f'+ : {my_string  + \" Would it help to confuse it if we run away more?\"}')\n",
    "print(f'* : {my_string * 2}')\n",
    "print(f'1st char: {my_string[0]}')"
   ]
  },
  {
   "cell_type": "code",
   "execution_count": 79,
   "metadata": {},
   "outputs": [
    {
     "name": "stdout",
     "output_type": "stream",
     "text": [
      "upper   : WE’LL NOT RISK ANOTHER FRONTAL ASSAULT. THAT RABBIT’S DYNAMITE.\n",
      "lower   : we’ll not risk another frontal assault. that rabbit’s dynamite.\n",
      "split 1 : ['We’ll', 'not', 'risk', 'another', 'frontal', 'assault.', 'That', 'rabbit’s', 'dynamite.']\n",
      "split 2 : ['We’ll not risk another frontal assault', ' That rabbit’s dynamite', '']\n",
      "count a : 7\n",
      "replace : We’ll_not_risk_another_frontal_assault._That_rabbit’s_dynamite.\n",
      "join    : We’ll_not_risk_another_frontal_assault._That_rabbit’s_dynamite.\n"
     ]
    }
   ],
   "source": [
    "## String (some) methods\n",
    "print(f'upper   : {my_string.upper()}')\n",
    "print(f'lower   : {my_string.lower()}')\n",
    "print(f'split 1 : {my_string.split(\" \")}')\n",
    "print(f'split 2 : {my_string.split(\".\")}')\n",
    "print(f'count a : {my_string.count(\"a\")}')\n",
    "print(f'replace : {my_string.replace(\" \", \"_\")}')\n",
    "print(f'join    : {\"_\".join(my_string.split(\" \"))}')\n"
   ]
  },
  {
   "cell_type": "markdown",
   "metadata": {},
   "source": [
    "## Lists(arrays), tuples and sets"
   ]
  },
  {
   "cell_type": "code",
   "execution_count": 80,
   "metadata": {},
   "outputs": [
    {
     "name": "stdout",
     "output_type": "stream",
     "text": [
      "['__add__', '__class__', '__contains__', '__delattr__', '__delitem__', '__dir__', '__doc__', '__eq__', '__format__', '__ge__', '__getattribute__', '__getitem__', '__gt__', '__hash__', '__iadd__', '__imul__', '__init__', '__init_subclass__', '__iter__', '__le__', '__len__', '__lt__', '__mul__', '__ne__', '__new__', '__reduce__', '__reduce_ex__', '__repr__', '__reversed__', '__rmul__', '__setattr__', '__setitem__', '__sizeof__', '__str__', '__subclasshook__', 'append', 'clear', 'copy', 'count', 'extend', 'index', 'insert', 'pop', 'remove', 'reverse', 'sort']\n"
     ]
    }
   ],
   "source": [
    "# Lists:\n",
    "# dir is your friend: https://stackoverflow.com/a/48912069\n",
    "print(dir(list()))"
   ]
  },
  {
   "cell_type": "code",
   "execution_count": 81,
   "metadata": {},
   "outputs": [
    {
     "name": "stdout",
     "output_type": "stream",
     "text": [
      "popped element  : 1\n"
     ]
    },
    {
     "ename": "TypeError",
     "evalue": "'int' object is not subscriptable",
     "output_type": "error",
     "traceback": [
      "\u001b[0;31m---------------------------------------------------------------------------\u001b[0m",
      "\u001b[0;31mTypeError\u001b[0m                                 Traceback (most recent call last)",
      "\u001b[1;32m/home/bferreira/work/PyCademy/day_1/Apprentice.ipynb Cell 19'\u001b[0m in \u001b[0;36m<cell line: 9>\u001b[0;34m()\u001b[0m\n\u001b[1;32m      <a href='vscode-notebook-cell://wsl%2Bubuntu-20.04/home/bferreira/work/PyCademy/day_1/Apprentice.ipynb#ch0000015vscode-remote?line=6'>7</a>\u001b[0m poped_array \u001b[39m=\u001b[39m ptr_array\u001b[39m.\u001b[39mpop()\n\u001b[1;32m      <a href='vscode-notebook-cell://wsl%2Bubuntu-20.04/home/bferreira/work/PyCademy/day_1/Apprentice.ipynb#ch0000015vscode-remote?line=7'>8</a>\u001b[0m \u001b[39mprint\u001b[39m(\u001b[39mf\u001b[39m\u001b[39m'\u001b[39m\u001b[39mpopped element  : \u001b[39m\u001b[39m{\u001b[39;00mpoped_array\u001b[39m}\u001b[39;00m\u001b[39m'\u001b[39m)\n\u001b[0;32m----> <a href='vscode-notebook-cell://wsl%2Bubuntu-20.04/home/bferreira/work/PyCademy/day_1/Apprentice.ipynb#ch0000015vscode-remote?line=8'>9</a>\u001b[0m \u001b[39mprint\u001b[39m(\u001b[39mf\u001b[39m\u001b[39m'\u001b[39m\u001b[39m1st element     : \u001b[39m\u001b[39m{\u001b[39;00mpoped_array[\u001b[39m0\u001b[39m]\u001b[39m}\u001b[39;00m\u001b[39m'\u001b[39m)\n\u001b[1;32m     <a href='vscode-notebook-cell://wsl%2Bubuntu-20.04/home/bferreira/work/PyCademy/day_1/Apprentice.ipynb#ch0000015vscode-remote?line=9'>10</a>\u001b[0m \u001b[39mprint\u001b[39m(\u001b[39mf\u001b[39m\u001b[39m'\u001b[39m\u001b[39m2nd-4th elements: \u001b[39m\u001b[39m{\u001b[39;00mpoped_array[\u001b[39m1\u001b[39m:\u001b[39m4\u001b[39m]\u001b[39m}\u001b[39;00m\u001b[39m'\u001b[39m)\n\u001b[1;32m     <a href='vscode-notebook-cell://wsl%2Bubuntu-20.04/home/bferreira/work/PyCademy/day_1/Apprentice.ipynb#ch0000015vscode-remote?line=10'>11</a>\u001b[0m \u001b[39mprint\u001b[39m(\u001b[39mf\u001b[39m\u001b[39m'\u001b[39m\u001b[39mlast 3 elements : \u001b[39m\u001b[39m{\u001b[39;00mpoped_array[\u001b[39m-\u001b[39m\u001b[39m3\u001b[39m]\u001b[39m}\u001b[39;00m\u001b[39m'\u001b[39m)\n",
      "\u001b[0;31mTypeError\u001b[0m: 'int' object is not subscriptable"
     ]
    }
   ],
   "source": [
    "my_list = [1,1,3.5,'Nobody exists on purpose.', 'Nobody belongs anywhere.', 'We’re all going to die.', ['Sometimes', 'science', 'is', 'more', 'art', 'than', 'science.']]\n",
    "\n",
    "# Be careful with list assignments!\n",
    "new_array = list(my_list)\n",
    "\n",
    "# Slicing\n",
    "poped_array = ptr_array.pop()\n",
    "print(f'popped element  : {poped_array}')\n",
    "print(f'1st element     : {poped_array[0]}')\n",
    "print(f'2nd-4th elements: {poped_array[1:4]}')\n",
    "print(f'last 3 elements : {poped_array[-3]}')\n"
   ]
  },
  {
   "cell_type": "code",
   "execution_count": 82,
   "metadata": {},
   "outputs": [
    {
     "name": "stdout",
     "output_type": "stream",
     "text": [
      "OG array : [1, 2, 1, 3.5]\n",
      "Ptr array: [1, 2, 1, 3.5]\n",
      "New array: [1, 2, 1, 3.5]\n",
      "--------------------------------------------------------------------------------\n",
      "OG array : [1, 2, 1]\n",
      "Ptr array: [1, 2, 1]\n",
      "New array: [1, 2, 1, 3.5]\n"
     ]
    }
   ],
   "source": [
    "\n",
    "my_list = [1,2,1,3.5]\n",
    "\n",
    "# Be careful with list assignments!\n",
    "new_array = list(my_list)\n",
    "ptr_array = my_list\n",
    "\n",
    "# Be careful with list assignments!\n",
    "print(f'OG array : {my_list}')\n",
    "print(f'Ptr array: {ptr_array}')\n",
    "print(f'New array: {new_array}')\n",
    "\n",
    "print('-'*80)\n",
    "\n",
    "element = my_list.pop()\n",
    "print(f'OG array : {my_list}')\n",
    "print(f'Ptr array: {ptr_array}')\n",
    "print(f'New array: {new_array}')"
   ]
  },
  {
   "cell_type": "code",
   "execution_count": 83,
   "metadata": {},
   "outputs": [
    {
     "name": "stdout",
     "output_type": "stream",
     "text": [
      "New array: [1, 'INSERTED', 2, 3, 4, 'Changed Value']\n",
      "----------------------------------------------------------------------------------------------------\n",
      "New array: [1, 'INSERTED', 2, 3, 4, 'Changed Value', 123, 123]\n",
      "----------------------------------------------------------------------------------------------------\n"
     ]
    }
   ],
   "source": [
    "my_list = [1,2,3,4,5]\n",
    "\n",
    "# Be careful with list assignments!\n",
    "new_array = list(my_list)\n",
    "\n",
    "\n",
    "# Re-assigning elements\n",
    "new_array[-1] = \"Changed Value\"\n",
    "new_array.insert(1,\"INSERTED\")\n",
    "print(f'New array: {new_array}')\n",
    "print('-'*100)\n",
    "\n",
    "# Append VS Extend\n",
    "new_array.append(123)\n",
    "new_array.extend([123]) # equivalent to '+' list operator\n",
    "print(f'New array: {new_array}')\n",
    "print('-'*100)\n",
    "\n",
    "\n"
   ]
  },
  {
   "cell_type": "code",
   "execution_count": 84,
   "metadata": {},
   "outputs": [
    {
     "name": "stdout",
     "output_type": "stream",
     "text": [
      "['__add__', '__class__', '__contains__', '__delattr__', '__dir__', '__doc__', '__eq__', '__format__', '__ge__', '__getattribute__', '__getitem__', '__getnewargs__', '__gt__', '__hash__', '__init__', '__init_subclass__', '__iter__', '__le__', '__len__', '__lt__', '__mul__', '__ne__', '__new__', '__reduce__', '__reduce_ex__', '__repr__', '__rmul__', '__setattr__', '__sizeof__', '__str__', '__subclasshook__', 'count', 'index']\n",
      "----------------------------------------------------------------------------------------------------\n",
      "(1, 1, 3.5, 'Nobody exists on purpose.', 'Nobody belongs anywhere.', 'We’re all going to die.', ['Sometimes', 'science', 'is', 'more', 'art', 'than', 'science.'])\n",
      "My Tuple 1st element : 1\n",
      "My Tuple last element: ['Sometimes', 'science', 'is', 'more', 'art', 'than', 'science.']\n"
     ]
    },
    {
     "ename": "TypeError",
     "evalue": "'tuple' object does not support item assignment",
     "output_type": "error",
     "traceback": [
      "\u001b[0;31m---------------------------------------------------------------------------\u001b[0m",
      "\u001b[0;31mTypeError\u001b[0m                                 Traceback (most recent call last)",
      "\u001b[1;32m/home/bferreira/work/PyCademy/day_1/Apprentice.ipynb Cell 22'\u001b[0m in \u001b[0;36m<cell line: 8>\u001b[0;34m()\u001b[0m\n\u001b[1;32m      <a href='vscode-notebook-cell://wsl%2Bubuntu-20.04/home/bferreira/work/PyCademy/day_1/Apprentice.ipynb#ch0000018vscode-remote?line=4'>5</a>\u001b[0m \u001b[39mprint\u001b[39m(\u001b[39mf\u001b[39m\u001b[39m\"\u001b[39m\u001b[39mMy Tuple 1st element : \u001b[39m\u001b[39m{\u001b[39;00mmy_tuple[\u001b[39m0\u001b[39m]\u001b[39m}\u001b[39;00m\u001b[39m\"\u001b[39m)\n\u001b[1;32m      <a href='vscode-notebook-cell://wsl%2Bubuntu-20.04/home/bferreira/work/PyCademy/day_1/Apprentice.ipynb#ch0000018vscode-remote?line=5'>6</a>\u001b[0m \u001b[39mprint\u001b[39m(\u001b[39mf\u001b[39m\u001b[39m\"\u001b[39m\u001b[39mMy Tuple last element: \u001b[39m\u001b[39m{\u001b[39;00mmy_tuple[\u001b[39m-\u001b[39m\u001b[39m1\u001b[39m]\u001b[39m}\u001b[39;00m\u001b[39m\"\u001b[39m)\n\u001b[0;32m----> <a href='vscode-notebook-cell://wsl%2Bubuntu-20.04/home/bferreira/work/PyCademy/day_1/Apprentice.ipynb#ch0000018vscode-remote?line=7'>8</a>\u001b[0m my_tuple[\u001b[39m-\u001b[39m\u001b[39m1\u001b[39m] \u001b[39m=\u001b[39m \u001b[39m\"\u001b[39m\u001b[39msomething\u001b[39m\u001b[39m\"\u001b[39m\n",
      "\u001b[0;31mTypeError\u001b[0m: 'tuple' object does not support item assignment"
     ]
    }
   ],
   "source": [
    "# Tuple: similar to lists but cannot be changed\n",
    "print(dir(tuple))\n",
    "print('-'*100)\n",
    "print(my_tuple)\n",
    "print(f\"My Tuple 1st element : {my_tuple[0]}\")\n",
    "print(f\"My Tuple last element: {my_tuple[-1]}\")\n",
    "\n",
    "my_tuple[-1] = \"something\""
   ]
  },
  {
   "cell_type": "code",
   "execution_count": 87,
   "metadata": {},
   "outputs": [
    {
     "name": "stdout",
     "output_type": "stream",
     "text": [
      "----------------------------------------------------------------------------------------------------\n",
      "OG set : {1, 'Nobody exists on purpose.', 3.5, 'We’re all going to die.', 'Nobody belongs anywhere.'}\n",
      "NEW set: {'Nobody belongs anywhere.', 'We’re all going to die.', 'Nobody exists on purpose.', 3.5, 'New set element'}\n",
      "----------------------------------------------------------------------------------------------------\n",
      "Intersection : {'We’re all going to die.', 'Nobody exists on purpose.', 3.5, 'Nobody belongs anywhere.'}\n",
      "Difference OG vs NEW : {1}\n",
      "Difference NEW vs OG : {'New set element'}\n"
     ]
    }
   ],
   "source": [
    "# Sets: similar to lists but cannot have duplicate elements\n",
    "# print(dir(set))\n",
    "print('-' * 100)\n",
    "\n",
    "new_set = set(list(my_set)[1:])\n",
    "new_set.add(3.5)\n",
    "new_set.add(\"New set element\")\n",
    "\n",
    "print(f'OG set : {my_set}')\n",
    "print(f'NEW set: {new_set}')\n",
    "print('-'*100)\n",
    "\n",
    "print(f'Intersection : {my_set.intersection(new_set)}')\n",
    "print(f'Difference OG vs NEW : {my_set.difference(new_set)}')\n",
    "print(f'Difference NEW vs OG : {new_set.difference(my_set)}')"
   ]
  },
  {
   "cell_type": "code",
   "execution_count": 91,
   "metadata": {},
   "outputs": [
    {
     "name": "stdout",
     "output_type": "stream",
     "text": [
      "{1, 2}\n",
      "{5, 6}\n",
      "{3, 4}\n",
      "set()\n"
     ]
    }
   ],
   "source": [
    "original = {1,2,3,4}\n",
    "new = {3,4,5,6}\n",
    "\n",
    "print(original.difference(new))\n",
    "print(new.difference(original))\n",
    "print(original.intersection(new))\n",
    "print(original.difference(original))"
   ]
  },
  {
   "cell_type": "markdown",
   "metadata": {},
   "source": [
    "## Dictionaries"
   ]
  },
  {
   "cell_type": "code",
   "execution_count": 95,
   "metadata": {},
   "outputs": [
    {
     "name": "stdout",
     "output_type": "stream",
     "text": [
      "['__class__', '__contains__', '__delattr__', '__delitem__', '__dir__', '__doc__', '__eq__', '__format__', '__ge__', '__getattribute__', '__getitem__', '__gt__', '__hash__', '__init__', '__init_subclass__', '__iter__', '__le__', '__len__', '__lt__', '__ne__', '__new__', '__reduce__', '__reduce_ex__', '__repr__', '__reversed__', '__setattr__', '__setitem__', '__sizeof__', '__str__', '__subclasshook__', 'clear', 'copy', 'fromkeys', 'get', 'items', 'keys', 'pop', 'popitem', 'setdefault', 'update', 'values']\n",
      "----------------------------------------------------------------------------------------------------\n"
     ]
    }
   ],
   "source": [
    "# Dictionaries\n",
    "print(dir(dict))\n",
    "print('-'*100)"
   ]
  },
  {
   "cell_type": "code",
   "execution_count": 101,
   "metadata": {},
   "outputs": [
    {
     "name": "stdout",
     "output_type": "stream",
     "text": [
      "{'Monty': 'Python', 'Rick': 'Morty', 'Set': {1, 'Nobody exists on purpose.', 3.5, 'We’re all going to die.', 'Nobody belongs anywhere.'}, 'nova_key': 123}\n",
      "Monty -> Python\n",
      "----------------------------------------------------------------------------------------------------\n",
      "dict_keys(['Monty', 'Rick', 'Set', 'nova_key'])\n",
      "dict_values(['Python', 'Morty', {1, 'Nobody exists on purpose.', 3.5, 'We’re all going to die.', 'Nobody belongs anywhere.'}, 123])\n",
      "dict_items([('Monty', 'Python'), ('Rick', 'Morty'), ('Set', {1, 'Nobody exists on purpose.', 3.5, 'We’re all going to die.', 'Nobody belongs anywhere.'}), ('nova_key', 123)])\n"
     ]
    }
   ],
   "source": [
    "\n",
    "my_dictionary[\"Monty\"] = \"Python\"\n",
    "print(my_dictionary)\n",
    "print(f'Monty -> {my_dictionary[\"Monty\"]}')\n",
    "print('-'*100)\n",
    "\n",
    "print(my_dictionary.keys())\n",
    "print(my_dictionary.values())\n",
    "print(my_dictionary.items())"
   ]
  },
  {
   "cell_type": "code",
   "execution_count": 102,
   "metadata": {},
   "outputs": [
    {
     "name": "stdout",
     "output_type": "stream",
     "text": [
      "Rick & Morty\n",
      "Timon & Pumba\n",
      "----------------------------------------------------------------------------------------------------\n"
     ]
    }
   ],
   "source": [
    "## Get Vs Setdefault\n",
    "# Provides a fallback option\n",
    "print(f'Rick & {my_dictionary.get(\"Rick\", \"NA\")}')\n",
    "print(f'Timon & {my_dictionary.get(\"Timon\", \"Pumba\")}')\n",
    "print('-'*100)\n"
   ]
  },
  {
   "cell_type": "code",
   "execution_count": 135,
   "metadata": {},
   "outputs": [
    {
     "name": "stdout",
     "output_type": "stream",
     "text": [
      "Dict set update : {'Some entry'}\n"
     ]
    }
   ],
   "source": [
    "dict_set = my_dictionary.setdefault(\"SetX\", set())\n",
    "dict_set.add(\"Some entry\")\n",
    "print(f'Dict set update : {my_dictionary[\"SetX\"]}')\n"
   ]
  },
  {
   "cell_type": "code",
   "execution_count": 132,
   "metadata": {},
   "outputs": [
    {
     "ename": "KeyError",
     "evalue": "'Set3'",
     "output_type": "error",
     "traceback": [
      "\u001b[0;31m---------------------------------------------------------------------------\u001b[0m",
      "\u001b[0;31mKeyError\u001b[0m                                  Traceback (most recent call last)",
      "\u001b[1;32m/home/bferreira/work/PyCademy/day_1/Apprentice.ipynb Cell 30'\u001b[0m in \u001b[0;36m<cell line: 4>\u001b[0;34m()\u001b[0m\n\u001b[1;32m      <a href='vscode-notebook-cell://wsl%2Bubuntu-20.04/home/bferreira/work/PyCademy/day_1/Apprentice.ipynb#ch0000071vscode-remote?line=1'>2</a>\u001b[0m dict_set \u001b[39m=\u001b[39m my_dictionary\u001b[39m.\u001b[39mget(\u001b[39m\"\u001b[39m\u001b[39mSet3\u001b[39m\u001b[39m\"\u001b[39m, \u001b[39mset\u001b[39m())\n\u001b[1;32m      <a href='vscode-notebook-cell://wsl%2Bubuntu-20.04/home/bferreira/work/PyCademy/day_1/Apprentice.ipynb#ch0000071vscode-remote?line=2'>3</a>\u001b[0m dict_set\u001b[39m.\u001b[39madd(\u001b[39m\"\u001b[39m\u001b[39mSome entry 3\u001b[39m\u001b[39m\"\u001b[39m)\n\u001b[0;32m----> <a href='vscode-notebook-cell://wsl%2Bubuntu-20.04/home/bferreira/work/PyCademy/day_1/Apprentice.ipynb#ch0000071vscode-remote?line=3'>4</a>\u001b[0m \u001b[39mprint\u001b[39m(\u001b[39mf\u001b[39m\u001b[39m'\u001b[39m\u001b[39mDict set3 update: \u001b[39m\u001b[39m{\u001b[39;00mmy_dictionary[\u001b[39m\"\u001b[39m\u001b[39mSet3\u001b[39m\u001b[39m\"\u001b[39m]\u001b[39m}\u001b[39;00m\u001b[39m'\u001b[39m)\n",
      "\u001b[0;31mKeyError\u001b[0m: 'Set3'"
     ]
    }
   ],
   "source": [
    "\n",
    "# Does not create a new entry\n",
    "dict_set = my_dictionary.get(\"Set3\", set())\n",
    "dict_set.add(\"Some entry 3\")\n",
    "print(f'Dict set3 update: {my_dictionary[\"Set3\"]}')\n"
   ]
  },
  {
   "cell_type": "markdown",
   "metadata": {},
   "source": [
    "# Flow Control"
   ]
  },
  {
   "cell_type": "markdown",
   "metadata": {},
   "source": [
    "## Conditionals: If, else, elif"
   ]
  },
  {
   "cell_type": "code",
   "execution_count": 142,
   "metadata": {},
   "outputs": [
    {
     "name": "stdout",
     "output_type": "stream",
     "text": [
      "Inside if, condition is True.\n",
      "same same\n"
     ]
    }
   ],
   "source": [
    "condition = True\n",
    "# condition = False\n",
    "if condition:\n",
    "    print(f'Inside if, condition is {condition}.')\n",
    "else:\n",
    "    print(f'Inside else, condition is {condition}.')\n",
    "\n",
    "print(\"same same\")"
   ]
  },
  {
   "cell_type": "code",
   "execution_count": 146,
   "metadata": {},
   "outputs": [
    {
     "name": "stdout",
     "output_type": "stream",
     "text": [
      "Found Ricks sidekick.\n"
     ]
    }
   ],
   "source": [
    "# elif\n",
    "if my_dictionary[\"Rick\"] == \"Sanchez\":\n",
    "    print(\"Found Rick last name!\")\n",
    "elif my_dictionary[\"Rick\"] == \"Morty\":\n",
    "    print(\"Found Ricks sidekick.\")\n",
    "else:\n",
    "    print(\"No info for Rick.\")"
   ]
  },
  {
   "cell_type": "code",
   "execution_count": 152,
   "metadata": {},
   "outputs": [
    {
     "name": "stdout",
     "output_type": "stream",
     "text": [
      "My ptr_array is the same as my_list.\n"
     ]
    }
   ],
   "source": [
    "my_list = [1,2,3,4]\n",
    "\n",
    "new_array = list(my_list)\n",
    "ptr_array = my_list\n",
    "\n",
    "# is: checks if variable points to the same memory space\n",
    "if new_array is my_list:\n",
    "    print(\"My new_array is the same as my_list.\")\n",
    "elif ptr_array is my_list:\n",
    "    print(\"My ptr_array is the same as my_list.\")\n"
   ]
  },
  {
   "cell_type": "code",
   "execution_count": 157,
   "metadata": {},
   "outputs": [
    {
     "name": "stdout",
     "output_type": "stream",
     "text": [
      "We’ll not risk another frontal assault. That rabbit’s dynamite.\n",
      "Found a rabbit somewhere.\n",
      "[1, 2, 3, 4, 'Nobody', 'Nobody', 'Nobody']\n",
      "Found Nobody in list\n",
      "YES\n"
     ]
    }
   ],
   "source": [
    "# in: string\n",
    "print(my_string)\n",
    "if \"rabbit\" in my_string :\n",
    "    print(\"Found a rabbit somewhere.\")\n",
    "\n",
    "# in: list\n",
    "my_list.append(\"Nobody\")\n",
    "print(my_list)\n",
    "if \"Nobody\" in my_list:\n",
    "    print(\"Found Nobody in list\")\n",
    "else:\n",
    "    print(\"Didn't found Nobody in list\")\n",
    "\n",
    "if \"Rick\" in my_dictionary.keys():\n",
    "    print(\"YES\")"
   ]
  },
  {
   "cell_type": "code",
   "execution_count": 165,
   "metadata": {},
   "outputs": [
    {
     "name": "stdout",
     "output_type": "stream",
     "text": [
      "We’ll not risk another frontal assault. That rabbit’s dynamite.\n",
      "Found a dynamite rabbit somewhere.. maybe?\n",
      "--------------------------------------------------\n",
      "[1, 2, 3, 4, 'Nobody', 'Nobody', 'Nobody']\n",
      "Found a pointer to my_list\n",
      "[1, 2, 3, 4, 'Nobody', 'Nobody', 'Nobody']\n",
      "[1, 2, 3, 4, 'Nobody', 'Nobody', 'Nobody']\n",
      "[1, 2, 3, 4, 'Nobody', 'Nobody', 'Nobody']\n",
      "Found a pointer to my list.. perhaps?\n"
     ]
    }
   ],
   "source": [
    "# and\n",
    "print(my_string)\n",
    "if \"rabbit\" in my_string and \"cute\" in my_string:\n",
    "    print(\"Found a cute rabbit somewhere.. maybe?\")\n",
    "elif  \"rabbit\" in my_string and \"dynamite\" in my_string:\n",
    "    print(\"Found a dynamite rabbit somewhere.. maybe?\")\n",
    "\n",
    "print(\"-\"*50)\n",
    "# or: \n",
    "print(my_list)\n",
    "if new_array is my_list or ptr_array is my_list:\n",
    "    print(\"Found a pointer to my_list\")\n",
    "\n",
    "\n",
    "if my_list in [new_array, 10]:\n",
    "    print(\"Found a pointer to my list.. perhaps?\")"
   ]
  },
  {
   "cell_type": "code",
   "execution_count": 167,
   "metadata": {},
   "outputs": [
    {
     "name": "stdout",
     "output_type": "stream",
     "text": [
      "knight_says: Niii!\n",
      "----------------------------------------------------------------------------------------------------\n",
      "Printed so test_condition must be False.\n"
     ]
    }
   ],
   "source": [
    "## Bonus round\n",
    "# Tip1 : if conditions can be used during variable assignment\n",
    "knight_says = 'Enchanter who lives in the woods.' if 'Shrubbery' in my_dictionary.keys() else 'Niii!'\n",
    "print(f'knight_says: {knight_says}')\n",
    "print('-'*100)\n",
    "\n",
    "# Tip2 : 'and' and 'or' can also be used as a flow control mechanism\n",
    "test_condition = False\n",
    "# And: evaluates until not True\n",
    "test_condition and print(\"Printed so test_condition must be True.\")\n",
    "\n",
    "# Or: evaluates until True\n",
    "test_condition or print(\"Printed so test_condition must be False.\")"
   ]
  },
  {
   "cell_type": "code",
   "execution_count": 170,
   "metadata": {},
   "outputs": [
    {
     "name": "stdout",
     "output_type": "stream",
     "text": [
      "knight_says: Enchanter who lives in the woods.\n"
     ]
    }
   ],
   "source": [
    "# Try out not :)\n",
    "# bonus:\n",
    "knight_says = 'Enchanter who lives in the woods.' if 'Shrubbery' in my_dictionary.keys() else 'Niii!'\n",
    "print(f'knight_says: {knight_says}')"
   ]
  },
  {
   "cell_type": "code",
   "execution_count": 174,
   "metadata": {},
   "outputs": [
    {
     "name": "stdout",
     "output_type": "stream",
     "text": [
      "3.1416\n",
      "my_float is PI.\n"
     ]
    }
   ],
   "source": [
    "## switch: someday in python 3.10\n",
    "# match my_float:\n",
    "#     case 1.6180:\n",
    "#         print(\"my_float is the golden ratio.\")\n",
    "#     case 2.7182:\n",
    "#         print(\"my_float is the euler's number.\")\n",
    "#     case 3.1416:\n",
    "#         print(\"my_float is PI.\")\n",
    "#    case _:\n",
    "#        print(\"I don't know man..\")\n",
    "\n",
    "# Meanwhile dictionaries provide on way of doing it.\n",
    "my_switch = {\n",
    "    1.6180: \"my_float is the golden ratio.\",\n",
    "    2.7182: \"my_float is the euler's number.\",\n",
    "    3.1416: \"my_float is PI.\",\n",
    "}\n",
    "print(my_float)\n",
    "print(my_switch.get(my_float, \"I don't know man..\"))"
   ]
  },
  {
   "cell_type": "markdown",
   "metadata": {},
   "source": [
    "## Loops"
   ]
  },
  {
   "cell_type": "markdown",
   "metadata": {},
   "source": [
    "### For & while"
   ]
  },
  {
   "cell_type": "code",
   "execution_count": null,
   "metadata": {},
   "outputs": [],
   "source": [
    "# Loop over list\n",
    "for element in my_list:\n",
    "    print(element)\n",
    "print('-'*100)\n",
    "\n",
    "# Do something while (until)\n",
    "counter = 0\n",
    "while counter < 5:\n",
    "    counter += 1\n",
    "    print(counter)"
   ]
  },
  {
   "cell_type": "code",
   "execution_count": null,
   "metadata": {},
   "outputs": [],
   "source": [
    "# Continue\n",
    "print(my_dictionary.keys())\n",
    "for key, value in my_dictionary.items():\n",
    "    if key != \"Monty\":\n",
    "        continue\n",
    "    print(key, value)\n",
    "print('-'*100)\n",
    "\n",
    "# Break\n",
    "for key in my_dictionary.keys():\n",
    "    print(key)\n",
    "    if key == \"Set\":\n",
    "        break"
   ]
  },
  {
   "cell_type": "code",
   "execution_count": null,
   "metadata": {},
   "outputs": [],
   "source": [
    "# Bonus: for, else (if no breaks)\n",
    "print('-'*100)\n",
    "target = \"Set3\"\n",
    "for key in my_dictionary.keys():\n",
    "    if key == target:\n",
    "        print(f'Found target \"{target}\" in dict keys,')\n",
    "        break\n",
    "else:\n",
    "    print(\"No breaks during loop.\")"
   ]
  },
  {
   "cell_type": "markdown",
   "metadata": {},
   "source": [
    "### List Comprehension"
   ]
  },
  {
   "cell_type": "code",
   "execution_count": null,
   "metadata": {},
   "outputs": [],
   "source": [
    "str_list = [element for element in my_list if type(element) is str]\n",
    "print(f'all strings in my_list: {str_list}')\n",
    "print('-'*100)\n",
    "\n",
    "[print(f'{key} -> {value}') for key, value in my_dictionary.items()]\n",
    "\n",
    "# is there some weirdness?\n",
    "# print(print('printing a print?!?!'))"
   ]
  }
 ],
 "metadata": {
  "kernelspec": {
   "display_name": "Python 3.8.10 64-bit",
   "language": "python",
   "name": "python3"
  },
  "language_info": {
   "codemirror_mode": {
    "name": "ipython",
    "version": 3
   },
   "file_extension": ".py",
   "mimetype": "text/x-python",
   "name": "python",
   "nbconvert_exporter": "python",
   "pygments_lexer": "ipython3",
   "version": "3.8.10"
  },
  "orig_nbformat": 4,
  "vscode": {
   "interpreter": {
    "hash": "31f2aee4e71d21fbe5cf8b01ff0e069b9275f58929596ceb00d14d90e3e16cd6"
   }
  }
 },
 "nbformat": 4,
 "nbformat_minor": 2
}
