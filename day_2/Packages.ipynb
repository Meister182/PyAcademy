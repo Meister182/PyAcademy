{
 "cells": [
  {
   "cell_type": "markdown",
   "metadata": {},
   "source": [
    "## Try, catch and finally"
   ]
  },
  {
   "cell_type": "code",
   "execution_count": 1,
   "metadata": {},
   "outputs": [
    {
     "name": "stdout",
     "output_type": "stream",
     "text": [
      "Something failed while changing my_tuple.\n",
      "'tuple' object does not support item assignment\n",
      "On with it.\n"
     ]
    }
   ],
   "source": [
    "my_tuple = (1,1,3.5,'Nobody exists on purpose.', 'Nobody belongs anywhere.', 'We’re all going to die.', ['Sometimes', 'science', 'is', 'more', 'art', 'than', 'science.'])\n",
    "\n",
    "try:\n",
    "    my_tuple[-1] = \"something\"\n",
    "except Exception as exception:\n",
    "    print(\"Something failed while changing my_tuple.\")\n",
    "    print(exception)\n",
    "finally:\n",
    "    print(\"On with it.\")"
   ]
  },
  {
   "cell_type": "code",
   "execution_count": null,
   "metadata": {},
   "outputs": [],
   "source": [
    "my_set = {1,1,3.5, 'Nobody exists on purpose.', 'Nobody belongs anywhere.', 'We’re all going to die.'}\n",
    "my_dictionary = {'Monty': 'Python', 'Rick': 'Morty', 'Set': my_set}\n",
    "\n",
    "# Specific Exceptions\n",
    "try:\n",
    "    my_tuple[-1] = \"something\"\n",
    "except TypeError as exception:\n",
    "    print(\"my_tuple  does not work like that.\")\n",
    "    print(exception)\n",
    "finally:\n",
    "    print(\"On with it.\")\n",
    "print('-'*100)\n",
    "\n",
    "try:\n",
    "    some_set = my_dictionary[\"Set3\"]\n",
    "except TypeError as exception:\n",
    "    print(\"my_dictionary does not work like that.\")\n",
    "    print(exception)\n",
    "except KeyError as exception:\n",
    "    print(\"my_dictionary does not have that key.\")\n",
    "    print(exception)\n",
    "except Exception as exception:\n",
    "    print(\"I don't know what.. but something went wrong.\")\n",
    "finally:\n",
    "    print(\"On with it.\")"
   ]
  },
  {
   "cell_type": "markdown",
   "metadata": {},
   "source": [
    "## Exceptions and Assertions"
   ]
  },
  {
   "cell_type": "markdown",
   "metadata": {},
   "source": [
    "[Assert](https://docs.python.org/3/reference/simple_stmts.html#the-assert-statement) statements are a convenient way to insert debugging assertions into a program. <br>\n",
    "Check [assertions script](scripts/02_assertions.py).\n",
    "\n",
    "[Exceptions](https://www.tutorialspoint.com/python/python_exceptions.html) are events, that occure during the execution of a program and disrupt the normal flow of the program's instructions."
   ]
  },
  {
   "cell_type": "markdown",
   "metadata": {},
   "source": [
    "# File Handling (I/O)"
   ]
  },
  {
   "cell_type": "markdown",
   "metadata": {},
   "source": [
    "|Operator|Mode|Description|\n",
    "|--|--|--|\n",
    "|r|read|Read only mode. (default/required)|\n",
    "|w|Write|Write only mode.(required)|\n",
    "|+|update|Update mode, meaning the file can be read and wrote to.|\n",
    "|a|append|Append to file existing content.|\n",
    "|x|exclusive creation|Fails if the file already exists.|\n",
    "|t|text|Open in Text mode. (default)|\n",
    "|b|binary|Open in binary mode.|\n"
   ]
  },
  {
   "cell_type": "code",
   "execution_count": null,
   "metadata": {},
   "outputs": [],
   "source": [
    "with open(\"scripts/02_assertions.py\", 'r') as script:\n",
    "    print(dir(script))\n",
    "    print('-'*100)\n",
    "    print(script.readlines())\n",
    "\n",
    "script.readlines()"
   ]
  },
  {
   "cell_type": "code",
   "execution_count": null,
   "metadata": {},
   "outputs": [],
   "source": [
    "script = open(\"scripts/02_assertions.py\", 'r')\n",
    "print(dir(script))\n",
    "print('-'*100)\n",
    "print(script.readlines())"
   ]
  },
  {
   "cell_type": "code",
   "execution_count": null,
   "metadata": {},
   "outputs": [],
   "source": [
    "with open(\"Test_file\", 'w') as script:\n",
    "    script.write(\"New script line.\")\n",
    "    script.write(\"Another script line.\")\n",
    "    script.seek(1)\n",
    "    script.write(\"X marks the spot\")"
   ]
  },
  {
   "cell_type": "code",
   "execution_count": null,
   "metadata": {},
   "outputs": [],
   "source": [
    "with open(\"Test_file\", 'rb') as script:\n",
    "    line = script.readline()\n",
    "    print(f'script line: {type(line)} -> {line}')\n",
    "    print(f'Bytes    : {list(line[:5])}')\n",
    "    print(f'Bytes bin: {[bin(i) for i in list(line[:5])]}')\n",
    "    print(f'Bytes hex: {[hex(i) for i in list(line[:5])]}')\n",
    "    print(f'Bytes oct: {[oct(i) for i in list(line[:5])]}')"
   ]
  },
  {
   "cell_type": "markdown",
   "metadata": {},
   "source": [
    "# Functions\n",
    "Also check the Python [builtins](https://docs.python.org/3/library/functions.html)."
   ]
  },
  {
   "cell_type": "code",
   "execution_count": null,
   "metadata": {},
   "outputs": [],
   "source": [
    "print(print)\n",
    "print(my_dictionary.setdefault)\n",
    "impostor_dict = {}\n",
    "print(impostor_dict.setdefault)"
   ]
  },
  {
   "cell_type": "code",
   "execution_count": null,
   "metadata": {},
   "outputs": [],
   "source": [
    "def my_print(msg, extra = None):\n",
    "    print(\"My:\", msg)\n",
    "    if extra:\n",
    "        print(\"There's more: \", extra)\n",
    "\n",
    "def times_2(number):\n",
    "    return number * 2\n",
    "\n",
    "foo_var = f'times_2(10) -> {times_2(10)}'\n",
    "bar_var = \"noice!\"\n",
    "my_print(foo_var, bar_var)"
   ]
  },
  {
   "cell_type": "code",
   "execution_count": null,
   "metadata": {},
   "outputs": [],
   "source": [
    "def my_better_print(first, *args, **kwargs):\n",
    "    print(\"1st:\", first)\n",
    "    if args:\n",
    "        print(\"Arguments     : \", type(args), args)\n",
    "    if kwargs:\n",
    "        print(\"Key word Args : \", type(kwargs), kwargs)\n",
    "\n",
    "my_better_print(\"asd\", 123, \"something else\", flag = \"ON\", debug = \"OFF\")"
   ]
  },
  {
   "cell_type": "code",
   "execution_count": null,
   "metadata": {},
   "outputs": [],
   "source": [
    "# Bonus: Expanding a list into arguments\n",
    "foo_var = [\"Sad\", \"But\", \"True\"]\n",
    "my_better_print(foo_var)\n",
    "print('-'*100)\n",
    "my_better_print(*foo_var)\n",
    "print('-'*100)\n",
    "\n",
    "# Bonus: Expanding a dict into keyword arguments\n",
    "my_better_print(my_dictionary)\n",
    "print('-'*100)\n",
    "my_better_print(*my_dictionary)\n",
    "print('-'*100)\n",
    "my_better_print('place holder', **my_dictionary)"
   ]
  },
  {
   "cell_type": "markdown",
   "metadata": {},
   "source": [
    "# Classes"
   ]
  },
  {
   "cell_type": "markdown",
   "metadata": {},
   "source": [
    "Python is an object oriented programming language and almost **everything in Python is an object**, with properties and methods.\n",
    "\n",
    "A Class is like an object constructor, or a \"blueprint\" for creating objects."
   ]
  },
  {
   "cell_type": "code",
   "execution_count": null,
   "metadata": {},
   "outputs": [],
   "source": [
    "class Robot:\n",
    "    def __init__(self, purpose = \"Pass the butter.\"):\n",
    "        print(\"A Robot was initialized.\")\n",
    "        self._purpose = purpose\n",
    "\n",
    "    def give_new_purpose(self, new_purpose):\n",
    "        self._purpose = new_purpose\n",
    "\n",
    "    def purpose(self):\n",
    "        return self._purpose\n",
    "\n",
    "    def evaluate(self):\n",
    "        if \"butter\" in self._purpose.lower():\n",
    "            return \"Oh my god....\"\n",
    "        else:\n",
    "            return \"At least its honest work!!\"\n",
    "\n",
    "my_robot = Robot()\n",
    "print(my_robot)\n",
    "print(dir(my_robot))\n",
    "print('-'*100)\n",
    "\n",
    "print(my_robot.purpose())\n",
    "print(my_robot.evaluate())\n",
    "print('-'*100)\n",
    "\n",
    "my_robot.give_new_purpose(\"Vacuum the house.\")\n",
    "print(my_robot.purpose())\n",
    "print(my_robot.evaluate())"
   ]
  },
  {
   "cell_type": "code",
   "execution_count": null,
   "metadata": {},
   "outputs": [],
   "source": [
    "class Bender(Robot):\n",
    "    def __init__(self, name = \"Rodriguez\"):\n",
    "        print(\"A Bender unit was initialized.\")\n",
    "        self.__name = name\n",
    "        super().__init__(\"Bend stuff.\")\n",
    "\n",
    "    def get_name(self):\n",
    "        return f'Bender {self.__name}'\n",
    "\n",
    "    def evaluate(self):\n",
    "        return \"Bite my shinny metal ass!\"\n",
    "\n",
    "bender_unit = Bender()\n",
    "print(f\"Bender unit name     : {bender_unit.get_name()}\")\n",
    "print(f\"Bender unit purpose  : {bender_unit.purpose()}\")\n",
    "print(f\"Bender unit evaluate : {bender_unit.evaluate()}\")"
   ]
  },
  {
   "cell_type": "code",
   "execution_count": null,
   "metadata": {},
   "outputs": [],
   "source": [
    "class DifferentialPlatform:\n",
    "    def __init__(self, wheel_size = 1, wheel_distance = 10, position = (0,0)):\n",
    "        print(\"A Differential Platform was initialized.\")\n",
    "        self.wheels = {\n",
    "            'size': wheel_size,\n",
    "            'distance': wheel_distance,\n",
    "        }\n",
    "        self.__position = {\n",
    "            'x': position[0],\n",
    "            'y': position[1],\n",
    "        }\n",
    "\n",
    "    def move(self, relative_position):\n",
    "        print(\"moving to:\", relative_position)\n",
    "        print(\"Calculating angle.. rotating\")\n",
    "        print(\"Calculating distance.. moving forward\")\n",
    "\n",
    "    def __turn_left_wheel(self, angle):\n",
    "        ...\n",
    "\n",
    "    def __turn_right_wheel(self, angle):\n",
    "        pass\n",
    "\n",
    "class VacuumBot(Robot, DifferentialPlatform):\n",
    "    def __init__(self):\n",
    "        Robot.__init__(self, purpose = \"Vacuum the dust.\")\n",
    "        DifferentialPlatform.__init__(self, wheel_size = 0.5)\n",
    "\n",
    "cleaner = VacuumBot()\n",
    "\n",
    "print(f'Cleaner purpose : {cleaner.purpose()}')\n",
    "print(f'Cleaner eval    : {cleaner.evaluate()}')\n",
    "cleaner.move((100, 50))\n"
   ]
  },
  {
   "cell_type": "markdown",
   "metadata": {},
   "source": [
    "# Packages Setup\n",
    "\n",
    "You get a package, you get a package, everyone gets a package!"
   ]
  },
  {
   "cell_type": "markdown",
   "metadata": {},
   "source": [
    "## [pip](https://pypi.org/project/pip/) - Python package manager"
   ]
  },
  {
   "cell_type": "markdown",
   "metadata": {},
   "source": [
    "[Installing](https://pip.pypa.io/en/stable/installation/) pip\n",
    "\n",
    "> **_Note_**:Linux ubuntu seem to have a [bug](https://bugs.launchpad.net/ubuntu/+source/python3.4/+bug/1290847), just use apt: `apt install python3-pip`"
   ]
  },
  {
   "cell_type": "markdown",
   "metadata": {},
   "source": [
    "## [venv](https://docs.python.org/3/library/venv.html) - Virtual environments"
   ]
  },
  {
   "cell_type": "markdown",
   "metadata": {},
   "source": [
    "A Python module which allows to isolate all your dependencies into a virtual environment.\n",
    "**Installing venv**\n",
    "\n",
    "``` bash\n",
    "$ apt install python3-venv\n",
    "```\n",
    "\n",
    "**Creating and using a virtual env:**\n",
    "\n",
    "> ``` bash\n",
    "> # Check ehich python is being used\n",
    "> $ which python3\n",
    "> #> /usr/bin/python3\n",
    "> \n",
    "> $ python3 -m venv path/to/virtual/environment/dir\n",
    "> $ source path/to/virtual/environment/dir/bin/activate\n",
    "> \n",
    "> # Re-check ehich python is being used\n",
    "> $ which python3\n",
    "> #> path/to/virtual/environment/dir/bin/python3\n",
    "> ```\n",
    "\n",
    "**Installing Packages in a virtual env**\n",
    "\n",
    "- For installing python packages in the virtual env all we need to do is run pip.\n",
    "\n",
    ">    ``` bash\n",
    ">    $ pip3 install <package>\n",
    ">    ```\n",
    "\n",
    "- pip allows the usage of a file to simplify the tracking and installation of all requirements/dependencies.\n",
    "\n",
    ">    ``` bash\n",
    ">    $ pip3 install -r path/to/requirements/file\n",
    ">    ```\n",
    "\n",
    "> Requirements file structure example:\n",
    "> ```bash\n",
    ">   $ cat path/to/requirements/file\n",
    ">   # <package>==<version>\n",
    ">   #> ruamel.yaml==0.16.10\n",
    "> ```"
   ]
  },
  {
   "cell_type": "markdown",
   "metadata": {},
   "source": [
    "## [Import](https://docs.python.org/3/reference/import.html)"
   ]
  },
  {
   "cell_type": "markdown",
   "metadata": {},
   "source": [
    "`Import` is what allows us to load and use whatever packages, modules or function we might require. For a more in depth understanding check [python scopes](https://realpython.com/python-scope-legb-rule/)."
   ]
  },
  {
   "cell_type": "code",
   "execution_count": 1,
   "metadata": {},
   "outputs": [
    {
     "name": "stdout",
     "output_type": "stream",
     "text": [
      "<module 'os' from '/usr/lib/python3.8/os.py'>\n",
      "<function walk at 0x7f84de9451f0>\n"
     ]
    }
   ],
   "source": [
    "# Importing a python module\n",
    "import os\n",
    "print(os)\n",
    "print(os.walk)"
   ]
  },
  {
   "cell_type": "code",
   "execution_count": 2,
   "metadata": {},
   "outputs": [
    {
     "name": "stdout",
     "output_type": "stream",
     "text": [
      "<function walk at 0x7f84de9451f0>\n"
     ]
    }
   ],
   "source": [
    "# Importing a specific method from a module\n",
    "from os import walk\n",
    "print(walk)"
   ]
  }
 ],
 "metadata": {
  "kernelspec": {
   "display_name": "Python 3.8.10 64-bit",
   "language": "python",
   "name": "python3"
  },
  "language_info": {
   "codemirror_mode": {
    "name": "ipython",
    "version": 3
   },
   "file_extension": ".py",
   "mimetype": "text/x-python",
   "name": "python",
   "nbconvert_exporter": "python",
   "pygments_lexer": "ipython3",
   "version": "3.8.10"
  },
  "orig_nbformat": 4,
  "vscode": {
   "interpreter": {
    "hash": "31f2aee4e71d21fbe5cf8b01ff0e069b9275f58929596ceb00d14d90e3e16cd6"
   }
  }
 },
 "nbformat": 4,
 "nbformat_minor": 2
}
